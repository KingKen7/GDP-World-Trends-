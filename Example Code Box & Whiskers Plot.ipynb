{
 "cells": [
  {
   "cell_type": "markdown",
   "metadata": {},
   "source": [
    "# Example of Code for Box and Whiskers Plot"
   ]
  },
  {
   "cell_type": "code",
   "execution_count": null,
   "metadata": {},
   "outputs": [],
   "source": [
    "# Filter data for mouse ID, timepoint, and tumor volumes into dictionaries and dataframes\n",
    "\n",
    "# Filter out data for 4 drug regimens.  Create 1 variable to hold data for each drug \n",
    "capomulin_df = regimen_dataframe(\"Capomulin\")\n",
    "ramicane_df = regimen_dataframe(\"Ramicane\")\n",
    "infubinol_df = regimen_dataframe(\"Infubinol\")\n",
    "ceftamin_df = regimen_dataframe(\"Ceftamin\")\n",
    "\n",
    "# Create list of Mouse IDs for each drug regimen \n",
    "capomulin_mice = mouse_list(capomulin_df)\n",
    "ramicane_mice = mouse_list(ramicane_df)\n",
    "infubinol_mice = mouse_list(infubinol_df)\n",
    "ceftamin_mice = mouse_list(ceftamin_df)\n",
    "\n",
    "# Create dictionary of each drug regimen's mouse ID, final timepoint, and tumor volume\n",
    "capomulin_dict = mouse_dict(capomulin_df, capomulin_mice)\n",
    "ramicane_dict = mouse_dict(ramicane_df, ramicane_mice)\n",
    "infubinol_dict = mouse_dict(infubinol_df, infubinol_mice)\n",
    "ceftamin_dict = mouse_dict(ceftamin_df, ceftamin_mice)\n",
    "\n",
    "# Create dataframe of each drug regimen's mouse ID, final timepoint, and tumor volume\n",
    "capomulin_mice_df = mouse_dataframe(capomulin_dict)\n",
    "ramicane_mice_df = mouse_dataframe(ramicane_dict)\n",
    "infubinol_mice_df = mouse_dataframe(infubinol_dict)\n",
    "ceftamin_mice_df = mouse_dataframe(ceftamin_dict)"
   ]
  },
  {
   "cell_type": "code",
   "execution_count": null,
   "metadata": {},
   "outputs": [],
   "source": [
    "# Print tumor volume summary reports for each drug regimen\n",
    "capomulin_report = quartile_report(capomulin_mice_df, \"Capomulin\")\n",
    "ramicane_report = quartile_report(ramicane_mice_df, \"Ramicane\")\n",
    "infubinol_report = quartile_report(infubinol_mice_df, \"Infubinol\")\n",
    "ceftamin_report = quartile_report(ceftamin_mice_df, \"Ceftamin\")"
   ]
  },
  {
   "cell_type": "code",
   "execution_count": null,
   "metadata": {},
   "outputs": [],
   "source": [
    "# Generate a box plot of the final tumor volume of each mouse across four regimens of interest\n",
    "\n",
    "# Create list to hold tumor volume of all 4 regimens\n",
    "data = [capomulin_mice_df[\"Tumor Volume (mm3)\"], ramicane_mice_df[\"Tumor Volume (mm3)\"], \n",
    "        infubinol_mice_df[\"Tumor Volume (mm3)\"], ceftamin_mice_df[\"Tumor Volume (mm3)\"]]\n",
    "\n",
    "# Set labels\n",
    "labels = [\"Capomulin\", \"Ramicane\", \"Infubinol\", \"Ceftamin\"]\n",
    "\n",
    "# Create markers for potential outliers\n",
    "red_circle = dict(markerfacecolor='r', marker='o')\n",
    "\n",
    "# Create subplot\n",
    "fig1, ax1 = plt.subplots()\n",
    "\n",
    "# Set titles and axis labels\n",
    "ax1.set_title('Tumor Volumes for 4 Drug Regimens')\n",
    "ax1.set_ylabel('Tumor Volume (mm3)')\n",
    "ax1.set_xlabel(\"Drug Regimens\")\n",
    "\n",
    "# Show potential outliers, shorten whiskers to make outliers obvious\n",
    "ax1.boxplot(data, whis=0.5, showfliers=True, flierprops=red_circle, labels=labels, autorange=False)\n",
    "\n",
    "# Show plot\n",
    "plt.show()\n",
    "\n",
    "# Print Caption\n",
    "print(f\"Note: Potential outliers are shown as red circles.\")"
   ]
  }
 ],
 "metadata": {
  "kernelspec": {
   "display_name": "Python 3",
   "language": "python",
   "name": "python3"
  },
  "language_info": {
   "codemirror_mode": {
    "name": "ipython",
    "version": 3
   },
   "file_extension": ".py",
   "mimetype": "text/x-python",
   "name": "python",
   "nbconvert_exporter": "python",
   "pygments_lexer": "ipython3",
   "version": "3.6.10"
  }
 },
 "nbformat": 4,
 "nbformat_minor": 4
}
