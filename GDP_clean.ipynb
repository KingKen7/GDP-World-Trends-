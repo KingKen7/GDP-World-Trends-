{
 "cells": [
  {
   "cell_type": "code",
   "execution_count": 109,
   "metadata": {},
   "outputs": [],
   "source": [
    "# Dependencies\n",
    "import pandas as pd\n",
    "import matplotlib.pyplot as plt\n",
    "# import scipy.stats as sts\n",
    "import numpy as np\n",
    "import csv\n",
    "from scipy.stats import linregress\n",
    "from scipy import stats\n",
    "import plotly.express as px"
   ]
  },
  {
   "cell_type": "code",
   "execution_count": 110,
   "metadata": {},
   "outputs": [
    {
     "data": {
      "text/html": [
       "<div>\n",
       "<style scoped>\n",
       "    .dataframe tbody tr th:only-of-type {\n",
       "        vertical-align: middle;\n",
       "    }\n",
       "\n",
       "    .dataframe tbody tr th {\n",
       "        vertical-align: top;\n",
       "    }\n",
       "\n",
       "    .dataframe thead th {\n",
       "        text-align: right;\n",
       "    }\n",
       "</style>\n",
       "<table border=\"1\" class=\"dataframe\">\n",
       "  <thead>\n",
       "    <tr style=\"text-align: right;\">\n",
       "      <th></th>\n",
       "      <th>country_code</th>\n",
       "      <th>country_name</th>\n",
       "      <th>year</th>\n",
       "      <th>crude_birth_rate</th>\n",
       "      <th>crude_death_rate</th>\n",
       "      <th>net_migration</th>\n",
       "      <th>rate_natural_increase</th>\n",
       "      <th>growth_rate</th>\n",
       "    </tr>\n",
       "  </thead>\n",
       "  <tbody>\n",
       "    <tr>\n",
       "      <th>0</th>\n",
       "      <td>SY</td>\n",
       "      <td>Syria</td>\n",
       "      <td>2017</td>\n",
       "      <td>21.22</td>\n",
       "      <td>4.00</td>\n",
       "      <td>61.46</td>\n",
       "      <td>1.722</td>\n",
       "      <td>7.869</td>\n",
       "    </tr>\n",
       "    <tr>\n",
       "      <th>1</th>\n",
       "      <td>VI</td>\n",
       "      <td>Virgin Islands, British</td>\n",
       "      <td>2017</td>\n",
       "      <td>11.05</td>\n",
       "      <td>5.11</td>\n",
       "      <td>16.51</td>\n",
       "      <td>0.594</td>\n",
       "      <td>2.245</td>\n",
       "    </tr>\n",
       "    <tr>\n",
       "      <th>2</th>\n",
       "      <td>LU</td>\n",
       "      <td>Luxembourg</td>\n",
       "      <td>2017</td>\n",
       "      <td>11.50</td>\n",
       "      <td>7.26</td>\n",
       "      <td>15.52</td>\n",
       "      <td>0.424</td>\n",
       "      <td>1.976</td>\n",
       "    </tr>\n",
       "    <tr>\n",
       "      <th>3</th>\n",
       "      <td>QA</td>\n",
       "      <td>Qatar</td>\n",
       "      <td>2017</td>\n",
       "      <td>9.61</td>\n",
       "      <td>1.54</td>\n",
       "      <td>14.61</td>\n",
       "      <td>0.807</td>\n",
       "      <td>2.268</td>\n",
       "    </tr>\n",
       "    <tr>\n",
       "      <th>4</th>\n",
       "      <td>CJ</td>\n",
       "      <td>Cayman Islands</td>\n",
       "      <td>2017</td>\n",
       "      <td>12.01</td>\n",
       "      <td>5.77</td>\n",
       "      <td>13.83</td>\n",
       "      <td>0.624</td>\n",
       "      <td>2.007</td>\n",
       "    </tr>\n",
       "    <tr>\n",
       "      <th>...</th>\n",
       "      <td>...</td>\n",
       "      <td>...</td>\n",
       "      <td>...</td>\n",
       "      <td>...</td>\n",
       "      <td>...</td>\n",
       "      <td>...</td>\n",
       "      <td>...</td>\n",
       "      <td>...</td>\n",
       "    </tr>\n",
       "    <tr>\n",
       "      <th>223</th>\n",
       "      <td>LE</td>\n",
       "      <td>Lebanon</td>\n",
       "      <td>2017</td>\n",
       "      <td>14.27</td>\n",
       "      <td>4.95</td>\n",
       "      <td>-20.34</td>\n",
       "      <td>0.932</td>\n",
       "      <td>-1.103</td>\n",
       "    </tr>\n",
       "    <tr>\n",
       "      <th>224</th>\n",
       "      <td>FM</td>\n",
       "      <td>Micronesia, Federated States of</td>\n",
       "      <td>2017</td>\n",
       "      <td>19.95</td>\n",
       "      <td>4.22</td>\n",
       "      <td>-20.89</td>\n",
       "      <td>1.573</td>\n",
       "      <td>-0.516</td>\n",
       "    </tr>\n",
       "    <tr>\n",
       "      <th>225</th>\n",
       "      <td>AQ</td>\n",
       "      <td>American Samoa</td>\n",
       "      <td>2017</td>\n",
       "      <td>19.59</td>\n",
       "      <td>5.90</td>\n",
       "      <td>-26.70</td>\n",
       "      <td>1.369</td>\n",
       "      <td>-1.301</td>\n",
       "    </tr>\n",
       "    <tr>\n",
       "      <th>226</th>\n",
       "      <td>CW</td>\n",
       "      <td>Cook Islands</td>\n",
       "      <td>2017</td>\n",
       "      <td>13.99</td>\n",
       "      <td>8.40</td>\n",
       "      <td>-33.48</td>\n",
       "      <td>0.559</td>\n",
       "      <td>-2.788</td>\n",
       "    </tr>\n",
       "    <tr>\n",
       "      <th>227</th>\n",
       "      <td>OD</td>\n",
       "      <td>South Sudan</td>\n",
       "      <td>2017</td>\n",
       "      <td>36.58</td>\n",
       "      <td>18.74</td>\n",
       "      <td>-64.21</td>\n",
       "      <td>1.784</td>\n",
       "      <td>-4.637</td>\n",
       "    </tr>\n",
       "  </tbody>\n",
       "</table>\n",
       "<p>228 rows × 8 columns</p>\n",
       "</div>"
      ],
      "text/plain": [
       "    country_code                     country_name  year  crude_birth_rate  \\\n",
       "0             SY                            Syria  2017             21.22   \n",
       "1             VI          Virgin Islands, British  2017             11.05   \n",
       "2             LU                       Luxembourg  2017             11.50   \n",
       "3             QA                            Qatar  2017              9.61   \n",
       "4             CJ                   Cayman Islands  2017             12.01   \n",
       "..           ...                              ...   ...               ...   \n",
       "223           LE                          Lebanon  2017             14.27   \n",
       "224           FM  Micronesia, Federated States of  2017             19.95   \n",
       "225           AQ                   American Samoa  2017             19.59   \n",
       "226           CW                     Cook Islands  2017             13.99   \n",
       "227           OD                      South Sudan  2017             36.58   \n",
       "\n",
       "     crude_death_rate  net_migration  rate_natural_increase  growth_rate  \n",
       "0                4.00          61.46                  1.722        7.869  \n",
       "1                5.11          16.51                  0.594        2.245  \n",
       "2                7.26          15.52                  0.424        1.976  \n",
       "3                1.54          14.61                  0.807        2.268  \n",
       "4                5.77          13.83                  0.624        2.007  \n",
       "..                ...            ...                    ...          ...  \n",
       "223              4.95         -20.34                  0.932       -1.103  \n",
       "224              4.22         -20.89                  1.573       -0.516  \n",
       "225              5.90         -26.70                  1.369       -1.301  \n",
       "226              8.40         -33.48                  0.559       -2.788  \n",
       "227             18.74         -64.21                  1.784       -4.637  \n",
       "\n",
       "[228 rows x 8 columns]"
      ]
     },
     "execution_count": 110,
     "metadata": {},
     "output_type": "execute_result"
    }
   ],
   "source": [
    "# Read data for 2 and 3 letter country codes that includes continent\n",
    "Country_Continent_df = pd.read_csv('Data/Country-Continent.csv')\n",
    "Country_Continent_df.drop(['Country_Name','Country_Number'],axis=1,inplace=True)\n",
    "\n",
    "# Read in birthrate, deathrate, net migration, pop growth rate data file \n",
    "birth_rate_df = pd.read_csv('Data/BirthRates.csv')\n",
    "\n",
    "# Calling DataFrame constructor and creating the dataframe\n",
    "column_names = [\"a\", \"b\", \"c\", \"d\", \"e\",\"f\"]\n",
    "gdp_raw_df = pd.DataFrame(columns = column_names)\n",
    "  \n",
    "# read cvs file into already created DF\n",
    "with open('Data/gdp-ppp-2017.csv') as csvfile:\n",
    "    readCSV = csv.reader(csvfile, delimiter=',')\n",
    "    for row in readCSV:\n",
    "        #print(row)\n",
    "        a_series = pd.Series(row, index = gdp_raw_df.columns)\n",
    "        gdp_raw_df = gdp_raw_df.append(a_series, ignore_index=True)\n",
    "Country_Continent_df\n",
    "birth_rate_df       "
   ]
  },
  {
   "cell_type": "code",
   "execution_count": 111,
   "metadata": {},
   "outputs": [
    {
     "data": {
      "text/html": [
       "<div>\n",
       "<style scoped>\n",
       "    .dataframe tbody tr th:only-of-type {\n",
       "        vertical-align: middle;\n",
       "    }\n",
       "\n",
       "    .dataframe tbody tr th {\n",
       "        vertical-align: top;\n",
       "    }\n",
       "\n",
       "    .dataframe thead th {\n",
       "        text-align: right;\n",
       "    }\n",
       "</style>\n",
       "<table border=\"1\" class=\"dataframe\">\n",
       "  <thead>\n",
       "    <tr style=\"text-align: right;\">\n",
       "      <th></th>\n",
       "      <th>a</th>\n",
       "      <th>b</th>\n",
       "      <th>d</th>\n",
       "      <th>e</th>\n",
       "    </tr>\n",
       "  </thead>\n",
       "  <tbody>\n",
       "    <tr>\n",
       "      <th>0</th>\n",
       "      <td>CHN</td>\n",
       "      <td>1</td>\n",
       "      <td>China</td>\n",
       "      <td>23350230</td>\n",
       "    </tr>\n",
       "    <tr>\n",
       "      <th>1</th>\n",
       "      <td>USA</td>\n",
       "      <td>2</td>\n",
       "      <td>United States</td>\n",
       "      <td>19485394</td>\n",
       "    </tr>\n",
       "    <tr>\n",
       "      <th>2</th>\n",
       "      <td>IND</td>\n",
       "      <td>3</td>\n",
       "      <td>India</td>\n",
       "      <td>9596835</td>\n",
       "    </tr>\n",
       "    <tr>\n",
       "      <th>3</th>\n",
       "      <td>JPN</td>\n",
       "      <td>4</td>\n",
       "      <td>Japan</td>\n",
       "      <td>5333444</td>\n",
       "    </tr>\n",
       "    <tr>\n",
       "      <th>4</th>\n",
       "      <td>DEU</td>\n",
       "      <td>5</td>\n",
       "      <td>Germany</td>\n",
       "      <td>4345631</td>\n",
       "    </tr>\n",
       "  </tbody>\n",
       "</table>\n",
       "</div>"
      ],
      "text/plain": [
       "     a  b              d         e\n",
       "0  CHN  1          China  23350230\n",
       "1  USA  2  United States  19485394\n",
       "2  IND  3          India   9596835\n",
       "3  JPN  4          Japan   5333444\n",
       "4  DEU  5        Germany   4345631"
      ]
     },
     "execution_count": 111,
     "metadata": {},
     "output_type": "execute_result"
    }
   ],
   "source": [
    "# Cleaning Data fromgile gdp-ppp-2017\n",
    "gdp_format_df=gdp_raw_df\n",
    "gdp_format_df.drop([0,1,2,3,4], axis=0,inplace=True)\n",
    "gdp_format_df.reset_index(inplace=True,drop=True)\n",
    "gdp_format_df['a'].replace('', np.nan, inplace=True)\n",
    "gdp_format_df.dropna(subset=['a'], inplace=True)\n",
    "\n",
    "# remove commas from column e(gpd data) and remove blank columns\n",
    "gdp_format_df['e'] = gdp_format_df['e'].str.replace(',', '') \n",
    "gdp_format_df.drop(['c','f'],axis=1,inplace=True)\n",
    "gdp_format_df.head()"
   ]
  },
  {
   "cell_type": "code",
   "execution_count": 112,
   "metadata": {},
   "outputs": [
    {
     "data": {
      "text/html": [
       "<div>\n",
       "<style scoped>\n",
       "    .dataframe tbody tr th:only-of-type {\n",
       "        vertical-align: middle;\n",
       "    }\n",
       "\n",
       "    .dataframe tbody tr th {\n",
       "        vertical-align: top;\n",
       "    }\n",
       "\n",
       "    .dataframe thead th {\n",
       "        text-align: right;\n",
       "    }\n",
       "</style>\n",
       "<table border=\"1\" class=\"dataframe\">\n",
       "  <thead>\n",
       "    <tr style=\"text-align: right;\">\n",
       "      <th></th>\n",
       "      <th>region_code</th>\n",
       "      <th>rank</th>\n",
       "      <th>region_name</th>\n",
       "      <th>region_gdp</th>\n",
       "    </tr>\n",
       "  </thead>\n",
       "  <tbody>\n",
       "    <tr>\n",
       "      <th>0</th>\n",
       "      <td>EAS</td>\n",
       "      <td></td>\n",
       "      <td>East Asia &amp; Pacific</td>\n",
       "      <td>41946676</td>\n",
       "    </tr>\n",
       "    <tr>\n",
       "      <th>1</th>\n",
       "      <td>ECS</td>\n",
       "      <td></td>\n",
       "      <td>Europe &amp; Central Asia</td>\n",
       "      <td>30688963</td>\n",
       "    </tr>\n",
       "    <tr>\n",
       "      <th>2</th>\n",
       "      <td>LCN</td>\n",
       "      <td></td>\n",
       "      <td>Latin America &amp; Caribbean</td>\n",
       "      <td>10258018</td>\n",
       "    </tr>\n",
       "    <tr>\n",
       "      <th>3</th>\n",
       "      <td>MEA</td>\n",
       "      <td></td>\n",
       "      <td>Middle East &amp; North Africa</td>\n",
       "      <td>8864772</td>\n",
       "    </tr>\n",
       "    <tr>\n",
       "      <th>4</th>\n",
       "      <td>NAC</td>\n",
       "      <td></td>\n",
       "      <td>North America</td>\n",
       "      <td>21196625</td>\n",
       "    </tr>\n",
       "    <tr>\n",
       "      <th>5</th>\n",
       "      <td>SAS</td>\n",
       "      <td></td>\n",
       "      <td>South Asia</td>\n",
       "      <td>11766663</td>\n",
       "    </tr>\n",
       "    <tr>\n",
       "      <th>6</th>\n",
       "      <td>SSF</td>\n",
       "      <td></td>\n",
       "      <td>Sub-Saharan Africa</td>\n",
       "      <td>4072459</td>\n",
       "    </tr>\n",
       "  </tbody>\n",
       "</table>\n",
       "</div>"
      ],
      "text/plain": [
       "  region_code rank                 region_name  region_gdp\n",
       "0         EAS              East Asia & Pacific    41946676\n",
       "1         ECS            Europe & Central Asia    30688963\n",
       "2         LCN        Latin America & Caribbean    10258018\n",
       "3         MEA       Middle East & North Africa     8864772\n",
       "4         NAC                    North America    21196625\n",
       "5         SAS                       South Asia    11766663\n",
       "6         SSF               Sub-Saharan Africa     4072459"
      ]
     },
     "execution_count": 112,
     "metadata": {},
     "output_type": "execute_result"
    }
   ],
   "source": [
    "# Getting location to split read file into two pieces\n",
    "# both regional and country data contained in same columns\n",
    "Index_pos = gdp_format_df.a[gdp_format_df.a == 'WLD'].index.tolist()\n",
    "Index_pos2 = gdp_format_df.a[gdp_format_df.a == 'LIC'].index.tolist()\n",
    "Index_pos3 = gdp_format_df.a[gdp_format_df.a == 'TUV'].index.tolist()\n",
    "\n",
    "#Getting only Country Data into data frame\n",
    "gdp_country_df = gdp_format_df.truncate(after=Index_pos3[0])\n",
    "gdp_country_df['e'] = gdp_country_df['e'].astype(int)  # convert column from string to integer\n",
    "\n",
    "#Getting only region data including WLD\n",
    "gdp_region_df = gdp_format_df.truncate(before=Index_pos[0],after=Index_pos2[0]-1)\n",
    "gdp_region_df['e'] = gdp_region_df['e'].astype(int)  # convert column from string to integer\n",
    "\n",
    "#Restting Index back to 0\n",
    "gdp_region_df.reset_index(inplace=True,drop=True)\n",
    "\n",
    "gdp_country_df.rename(columns={'a': 'country_code', 'b': 'rank', 'd': 'country_name', 'e': 'gdp'}, inplace=True)\n",
    "gdp_region_df.rename(columns={'a': 'region_code', 'b': 'rank', 'd': 'region_name', 'e': 'region_gdp'}, inplace=True)\n",
    "gdp_region_df.drop([0], axis=0,inplace=True)\n",
    "gdp_region_df.reset_index(inplace=True,drop=True)\n",
    "gdp_region_df.head(20)"
   ]
  },
  {
   "cell_type": "code",
   "execution_count": 113,
   "metadata": {},
   "outputs": [
    {
     "data": {
      "text/html": [
       "<div>\n",
       "<style scoped>\n",
       "    .dataframe tbody tr th:only-of-type {\n",
       "        vertical-align: middle;\n",
       "    }\n",
       "\n",
       "    .dataframe tbody tr th {\n",
       "        vertical-align: top;\n",
       "    }\n",
       "\n",
       "    .dataframe thead th {\n",
       "        text-align: right;\n",
       "    }\n",
       "</style>\n",
       "<table border=\"1\" class=\"dataframe\">\n",
       "  <thead>\n",
       "    <tr style=\"text-align: right;\">\n",
       "      <th></th>\n",
       "      <th>Country Code</th>\n",
       "      <th>Population 2017</th>\n",
       "    </tr>\n",
       "  </thead>\n",
       "  <tbody>\n",
       "    <tr>\n",
       "      <th>0</th>\n",
       "      <td>AFG</td>\n",
       "      <td>36296400</td>\n",
       "    </tr>\n",
       "    <tr>\n",
       "      <th>1</th>\n",
       "      <td>ALB</td>\n",
       "      <td>2873457</td>\n",
       "    </tr>\n",
       "    <tr>\n",
       "      <th>2</th>\n",
       "      <td>DZA</td>\n",
       "      <td>41389198</td>\n",
       "    </tr>\n",
       "    <tr>\n",
       "      <th>3</th>\n",
       "      <td>ASM</td>\n",
       "      <td>55620</td>\n",
       "    </tr>\n",
       "    <tr>\n",
       "      <th>4</th>\n",
       "      <td>AND</td>\n",
       "      <td>77001</td>\n",
       "    </tr>\n",
       "    <tr>\n",
       "      <th>...</th>\n",
       "      <td>...</td>\n",
       "      <td>...</td>\n",
       "    </tr>\n",
       "    <tr>\n",
       "      <th>254</th>\n",
       "      <td>PSE</td>\n",
       "      <td>4454805</td>\n",
       "    </tr>\n",
       "    <tr>\n",
       "      <th>255</th>\n",
       "      <td>WLD</td>\n",
       "      <td>7509065705</td>\n",
       "    </tr>\n",
       "    <tr>\n",
       "      <th>256</th>\n",
       "      <td>YEM</td>\n",
       "      <td>27834821</td>\n",
       "    </tr>\n",
       "    <tr>\n",
       "      <th>257</th>\n",
       "      <td>ZMB</td>\n",
       "      <td>16853688</td>\n",
       "    </tr>\n",
       "    <tr>\n",
       "      <th>258</th>\n",
       "      <td>ZWE</td>\n",
       "      <td>14236745</td>\n",
       "    </tr>\n",
       "  </tbody>\n",
       "</table>\n",
       "<p>259 rows × 2 columns</p>\n",
       "</div>"
      ],
      "text/plain": [
       "    Country Code Population 2017\n",
       "0            AFG        36296400\n",
       "1            ALB         2873457\n",
       "2            DZA        41389198\n",
       "3            ASM           55620\n",
       "4            AND           77001\n",
       "..           ...             ...\n",
       "254          PSE         4454805\n",
       "255          WLD      7509065705\n",
       "256          YEM        27834821\n",
       "257          ZMB        16853688\n",
       "258          ZWE        14236745\n",
       "\n",
       "[259 rows x 2 columns]"
      ]
     },
     "execution_count": 113,
     "metadata": {},
     "output_type": "execute_result"
    }
   ],
   "source": [
    "# Read data population file World-Pop-2017\n",
    "World_pop_df = pd.read_csv('Data/World-Pop-2017.csv')\n",
    "World_pop_df['Country Code'].replace('', np.nan, inplace=True)\n",
    "World_pop_df.dropna(subset=['Country Code'], inplace=True)\n",
    "World_pop_df.drop(['Series Name','Series Code','Country Name'], axis = 1, inplace=True)\n",
    "World_pop_df.rename(columns = {'2017 [YR2017]': 'Population 2017'}, inplace=True)\n",
    "World_pop_df\n"
   ]
  },
  {
   "cell_type": "code",
   "execution_count": 134,
   "metadata": {},
   "outputs": [
    {
     "data": {
      "text/html": [
       "<div>\n",
       "<style scoped>\n",
       "    .dataframe tbody tr th:only-of-type {\n",
       "        vertical-align: middle;\n",
       "    }\n",
       "\n",
       "    .dataframe tbody tr th {\n",
       "        vertical-align: top;\n",
       "    }\n",
       "\n",
       "    .dataframe thead th {\n",
       "        text-align: right;\n",
       "    }\n",
       "</style>\n",
       "<table border=\"1\" class=\"dataframe\">\n",
       "  <thead>\n",
       "    <tr style=\"text-align: right;\">\n",
       "      <th></th>\n",
       "      <th>country_code</th>\n",
       "      <th>rank</th>\n",
       "      <th>country_name</th>\n",
       "      <th>gdp</th>\n",
       "      <th>Country Code</th>\n",
       "      <th>Population 2017</th>\n",
       "      <th>per capita</th>\n",
       "      <th>Continent_Name</th>\n",
       "      <th>Continent_Code</th>\n",
       "      <th>Two_Letter_Country_Code</th>\n",
       "      <th>Three_Letter_Country_Code</th>\n",
       "      <th>year</th>\n",
       "      <th>crude_birth_rate</th>\n",
       "      <th>crude_death_rate</th>\n",
       "      <th>net_migration</th>\n",
       "      <th>rate_natural_increase</th>\n",
       "      <th>growth_rate</th>\n",
       "    </tr>\n",
       "  </thead>\n",
       "  <tbody>\n",
       "    <tr>\n",
       "      <th>0</th>\n",
       "      <td>CHN</td>\n",
       "      <td>1</td>\n",
       "      <td>China</td>\n",
       "      <td>23350230</td>\n",
       "      <td>CHN</td>\n",
       "      <td>1386395000</td>\n",
       "      <td>16842.407827</td>\n",
       "      <td>Asia</td>\n",
       "      <td>AS</td>\n",
       "      <td>CN</td>\n",
       "      <td>CHN</td>\n",
       "      <td>2017.0</td>\n",
       "      <td>26.08</td>\n",
       "      <td>7.24</td>\n",
       "      <td>-2.44</td>\n",
       "      <td>1.884</td>\n",
       "      <td>1.639</td>\n",
       "    </tr>\n",
       "    <tr>\n",
       "      <th>1</th>\n",
       "      <td>USA</td>\n",
       "      <td>2</td>\n",
       "      <td>United States</td>\n",
       "      <td>19485394</td>\n",
       "      <td>USA</td>\n",
       "      <td>324985539</td>\n",
       "      <td>59957.726304</td>\n",
       "      <td>North America</td>\n",
       "      <td>NaN</td>\n",
       "      <td>US</td>\n",
       "      <td>USA</td>\n",
       "      <td>2017.0</td>\n",
       "      <td>12.10</td>\n",
       "      <td>8.40</td>\n",
       "      <td>3.40</td>\n",
       "      <td>0.370</td>\n",
       "      <td>0.720</td>\n",
       "    </tr>\n",
       "    <tr>\n",
       "      <th>2</th>\n",
       "      <td>IND</td>\n",
       "      <td>3</td>\n",
       "      <td>India</td>\n",
       "      <td>9596835</td>\n",
       "      <td>IND</td>\n",
       "      <td>1338658835</td>\n",
       "      <td>7168.992389</td>\n",
       "      <td>Asia</td>\n",
       "      <td>AS</td>\n",
       "      <td>IN</td>\n",
       "      <td>IND</td>\n",
       "      <td>2017.0</td>\n",
       "      <td>19.01</td>\n",
       "      <td>7.28</td>\n",
       "      <td>-0.04</td>\n",
       "      <td>1.173</td>\n",
       "      <td>1.169</td>\n",
       "    </tr>\n",
       "    <tr>\n",
       "      <th>7</th>\n",
       "      <td>BRA</td>\n",
       "      <td>7</td>\n",
       "      <td>Brazil</td>\n",
       "      <td>3255145</td>\n",
       "      <td>BRA</td>\n",
       "      <td>207833831</td>\n",
       "      <td>15662.247981</td>\n",
       "      <td>South America</td>\n",
       "      <td>SA</td>\n",
       "      <td>BR</td>\n",
       "      <td>BRA</td>\n",
       "      <td>2017.0</td>\n",
       "      <td>14.11</td>\n",
       "      <td>6.68</td>\n",
       "      <td>-0.14</td>\n",
       "      <td>0.743</td>\n",
       "      <td>0.729</td>\n",
       "    </tr>\n",
       "    <tr>\n",
       "      <th>8</th>\n",
       "      <td>IDN</td>\n",
       "      <td>8</td>\n",
       "      <td>Indonesia</td>\n",
       "      <td>3249635</td>\n",
       "      <td>IDN</td>\n",
       "      <td>264645886</td>\n",
       "      <td>12279.182001</td>\n",
       "      <td>Asia</td>\n",
       "      <td>AS</td>\n",
       "      <td>ID</td>\n",
       "      <td>IDN</td>\n",
       "      <td>2017.0</td>\n",
       "      <td>16.17</td>\n",
       "      <td>6.45</td>\n",
       "      <td>-1.14</td>\n",
       "      <td>0.972</td>\n",
       "      <td>0.858</td>\n",
       "    </tr>\n",
       "    <tr>\n",
       "      <th>...</th>\n",
       "      <td>...</td>\n",
       "      <td>...</td>\n",
       "      <td>...</td>\n",
       "      <td>...</td>\n",
       "      <td>...</td>\n",
       "      <td>...</td>\n",
       "      <td>...</td>\n",
       "      <td>...</td>\n",
       "      <td>...</td>\n",
       "      <td>...</td>\n",
       "      <td>...</td>\n",
       "      <td>...</td>\n",
       "      <td>...</td>\n",
       "      <td>...</td>\n",
       "      <td>...</td>\n",
       "      <td>...</td>\n",
       "      <td>...</td>\n",
       "    </tr>\n",
       "    <tr>\n",
       "      <th>187</th>\n",
       "      <td>VCT</td>\n",
       "      <td>181</td>\n",
       "      <td>St. Vincent and the Grenadines</td>\n",
       "      <td>1293</td>\n",
       "      <td>VCT</td>\n",
       "      <td>109827</td>\n",
       "      <td>11773.061269</td>\n",
       "      <td>North America</td>\n",
       "      <td>NaN</td>\n",
       "      <td>VC</td>\n",
       "      <td>VCT</td>\n",
       "      <td>2017.0</td>\n",
       "      <td>13.19</td>\n",
       "      <td>7.32</td>\n",
       "      <td>-8.36</td>\n",
       "      <td>0.587</td>\n",
       "      <td>-0.248</td>\n",
       "    </tr>\n",
       "    <tr>\n",
       "      <th>190</th>\n",
       "      <td>STP</td>\n",
       "      <td>184</td>\n",
       "      <td>São Tomé and Principe</td>\n",
       "      <td>686</td>\n",
       "      <td>STP</td>\n",
       "      <td>207089</td>\n",
       "      <td>3312.585410</td>\n",
       "      <td>Africa</td>\n",
       "      <td>AF</td>\n",
       "      <td>ST</td>\n",
       "      <td>STP</td>\n",
       "      <td>2017.0</td>\n",
       "      <td>13.31</td>\n",
       "      <td>7.66</td>\n",
       "      <td>-2.47</td>\n",
       "      <td>0.565</td>\n",
       "      <td>0.318</td>\n",
       "    </tr>\n",
       "    <tr>\n",
       "      <th>192</th>\n",
       "      <td>FSM</td>\n",
       "      <td>186</td>\n",
       "      <td>Micronesia, Fed. Sts.</td>\n",
       "      <td>391</td>\n",
       "      <td>FSM</td>\n",
       "      <td>111459</td>\n",
       "      <td>3508.016401</td>\n",
       "      <td>Oceania</td>\n",
       "      <td>OC</td>\n",
       "      <td>FM</td>\n",
       "      <td>FSM</td>\n",
       "      <td>2017.0</td>\n",
       "      <td>19.95</td>\n",
       "      <td>4.22</td>\n",
       "      <td>-20.89</td>\n",
       "      <td>1.573</td>\n",
       "      <td>-0.516</td>\n",
       "    </tr>\n",
       "    <tr>\n",
       "      <th>196</th>\n",
       "      <td>NRU</td>\n",
       "      <td>190</td>\n",
       "      <td>Nauru</td>\n",
       "      <td>194</td>\n",
       "      <td>NRU</td>\n",
       "      <td>12876</td>\n",
       "      <td>15066.790929</td>\n",
       "      <td>Oceania</td>\n",
       "      <td>OC</td>\n",
       "      <td>NR</td>\n",
       "      <td>NRU</td>\n",
       "      <td>2017.0</td>\n",
       "      <td>23.96</td>\n",
       "      <td>5.91</td>\n",
       "      <td>-12.76</td>\n",
       "      <td>1.805</td>\n",
       "      <td>0.529</td>\n",
       "    </tr>\n",
       "    <tr>\n",
       "      <th>197</th>\n",
       "      <td>TUV</td>\n",
       "      <td>191</td>\n",
       "      <td>Tuvalu</td>\n",
       "      <td>44</td>\n",
       "      <td>TUV</td>\n",
       "      <td>11370</td>\n",
       "      <td>3869.832894</td>\n",
       "      <td>Oceania</td>\n",
       "      <td>OC</td>\n",
       "      <td>TV</td>\n",
       "      <td>TUV</td>\n",
       "      <td>2017.0</td>\n",
       "      <td>23.71</td>\n",
       "      <td>8.51</td>\n",
       "      <td>-6.70</td>\n",
       "      <td>1.520</td>\n",
       "      <td>0.851</td>\n",
       "    </tr>\n",
       "  </tbody>\n",
       "</table>\n",
       "<p>116 rows × 17 columns</p>\n",
       "</div>"
      ],
      "text/plain": [
       "    country_code rank                    country_name       gdp Country Code  \\\n",
       "0            CHN    1                           China  23350230          CHN   \n",
       "1            USA    2                   United States  19485394          USA   \n",
       "2            IND    3                           India   9596835          IND   \n",
       "7            BRA    7                          Brazil   3255145          BRA   \n",
       "8            IDN    8                       Indonesia   3249635          IDN   \n",
       "..           ...  ...                             ...       ...          ...   \n",
       "187          VCT  181  St. Vincent and the Grenadines      1293          VCT   \n",
       "190          STP  184           São Tomé and Principe       686          STP   \n",
       "192          FSM  186           Micronesia, Fed. Sts.       391          FSM   \n",
       "196          NRU  190                           Nauru       194          NRU   \n",
       "197          TUV  191                          Tuvalu        44          TUV   \n",
       "\n",
       "     Population 2017    per capita Continent_Name Continent_Code  \\\n",
       "0         1386395000  16842.407827           Asia             AS   \n",
       "1          324985539  59957.726304  North America            NaN   \n",
       "2         1338658835   7168.992389           Asia             AS   \n",
       "7          207833831  15662.247981  South America             SA   \n",
       "8          264645886  12279.182001           Asia             AS   \n",
       "..               ...           ...            ...            ...   \n",
       "187           109827  11773.061269  North America            NaN   \n",
       "190           207089   3312.585410         Africa             AF   \n",
       "192           111459   3508.016401        Oceania             OC   \n",
       "196            12876  15066.790929        Oceania             OC   \n",
       "197            11370   3869.832894        Oceania             OC   \n",
       "\n",
       "    Two_Letter_Country_Code Three_Letter_Country_Code    year  \\\n",
       "0                        CN                       CHN  2017.0   \n",
       "1                        US                       USA  2017.0   \n",
       "2                        IN                       IND  2017.0   \n",
       "7                        BR                       BRA  2017.0   \n",
       "8                        ID                       IDN  2017.0   \n",
       "..                      ...                       ...     ...   \n",
       "187                      VC                       VCT  2017.0   \n",
       "190                      ST                       STP  2017.0   \n",
       "192                      FM                       FSM  2017.0   \n",
       "196                      NR                       NRU  2017.0   \n",
       "197                      TV                       TUV  2017.0   \n",
       "\n",
       "     crude_birth_rate  crude_death_rate  net_migration  rate_natural_increase  \\\n",
       "0               26.08              7.24          -2.44                  1.884   \n",
       "1               12.10              8.40           3.40                  0.370   \n",
       "2               19.01              7.28          -0.04                  1.173   \n",
       "7               14.11              6.68          -0.14                  0.743   \n",
       "8               16.17              6.45          -1.14                  0.972   \n",
       "..                ...               ...            ...                    ...   \n",
       "187             13.19              7.32          -8.36                  0.587   \n",
       "190             13.31              7.66          -2.47                  0.565   \n",
       "192             19.95              4.22         -20.89                  1.573   \n",
       "196             23.96              5.91         -12.76                  1.805   \n",
       "197             23.71              8.51          -6.70                  1.520   \n",
       "\n",
       "     growth_rate  \n",
       "0          1.639  \n",
       "1          0.720  \n",
       "2          1.169  \n",
       "7          0.729  \n",
       "8          0.858  \n",
       "..           ...  \n",
       "187       -0.248  \n",
       "190        0.318  \n",
       "192       -0.516  \n",
       "196        0.529  \n",
       "197        0.851  \n",
       "\n",
       "[116 rows x 17 columns]"
      ]
     },
     "execution_count": 134,
     "metadata": {},
     "output_type": "execute_result"
    }
   ],
   "source": [
    "# Merge Files\n",
    "\n",
    "# Merge GDP with population to calculate per capita GDP lowest 20 countries\n",
    "gdp_per_capita = pd.merge(gdp_country_df, World_pop_df, left_on = 'country_code', right_on ='Country Code', how = 'left')\n",
    "gdp_per_capita['Population 2017'] = gdp_per_capita['Population 2017'].astype(int)\n",
    "gdp_per_capita['per capita'] = gdp_per_capita['gdp'] / gdp_per_capita['Population 2017'] * 1000000\n",
    "\n",
    "# Merge 4 files together, GDP, Population, Country conversion, and birthrate dataframes\n",
    "gdp_birth_df = pd.merge(gdp_per_capita, Country_Continent_df, left_on = 'country_code', \n",
    "                        right_on ='Three_Letter_Country_Code', how = 'left')\n",
    "gdp_birth_df = pd.merge(gdp_birth_df, birth_rate_df, left_on = 'Two_Letter_Country_Code', right_on ='country_code', how = 'left')\n",
    "gdp_birth_df.drop(['country_name_y','country_code_y'],axis=1,inplace=True)\n",
    "gdp_birth_df.rename(columns={'country_code_x': 'country_code', 'country_name_x': 'country_name'}, inplace=True)\n",
    "gdp_birth_df.to_csv(\"Data/GDP_Birthrate_Final.csv\", index = False, header=True)\n",
    "gdp_birth_df.dropna(subset=['year'], inplace=True)\n",
    "\n",
    "# Remove net migration is 0 (bad data) and outliers due to war\n",
    "net_migration = gdp_birth_df # for heat map of net migration before cleaning\n",
    "gdp_birth_df = gdp_birth_df.loc[gdp_birth_df['net_migration'] != 0]\n",
    "gdp_birth_df = gdp_birth_df.loc[gdp_birth_df['net_migration']>-30]\n",
    "gdp_birth_df\n"
   ]
  },
  {
   "cell_type": "code",
   "execution_count": 115,
   "metadata": {},
   "outputs": [
    {
     "data": {
      "text/html": [
       "<div>\n",
       "<style scoped>\n",
       "    .dataframe tbody tr th:only-of-type {\n",
       "        vertical-align: middle;\n",
       "    }\n",
       "\n",
       "    .dataframe tbody tr th {\n",
       "        vertical-align: top;\n",
       "    }\n",
       "\n",
       "    .dataframe thead th {\n",
       "        text-align: right;\n",
       "    }\n",
       "</style>\n",
       "<table border=\"1\" class=\"dataframe\">\n",
       "  <thead>\n",
       "    <tr style=\"text-align: right;\">\n",
       "      <th></th>\n",
       "      <th>gdp</th>\n",
       "      <th>Population 2017</th>\n",
       "      <th>per capita</th>\n",
       "      <th>year</th>\n",
       "      <th>crude_birth_rate</th>\n",
       "      <th>crude_death_rate</th>\n",
       "      <th>net_migration</th>\n",
       "      <th>rate_natural_increase</th>\n",
       "      <th>growth_rate</th>\n",
       "    </tr>\n",
       "  </thead>\n",
       "  <tbody>\n",
       "    <tr>\n",
       "      <th>count</th>\n",
       "      <td>1.160000e+02</td>\n",
       "      <td>1.160000e+02</td>\n",
       "      <td>116.000000</td>\n",
       "      <td>116.0</td>\n",
       "      <td>116.000000</td>\n",
       "      <td>116.000000</td>\n",
       "      <td>116.000000</td>\n",
       "      <td>116.000000</td>\n",
       "      <td>116.000000</td>\n",
       "    </tr>\n",
       "    <tr>\n",
       "      <th>mean</th>\n",
       "      <td>8.589699e+05</td>\n",
       "      <td>5.134478e+07</td>\n",
       "      <td>23377.663457</td>\n",
       "      <td>2017.0</td>\n",
       "      <td>18.885345</td>\n",
       "      <td>7.699828</td>\n",
       "      <td>-0.571552</td>\n",
       "      <td>1.118552</td>\n",
       "      <td>1.061422</td>\n",
       "    </tr>\n",
       "    <tr>\n",
       "      <th>std</th>\n",
       "      <td>2.966534e+06</td>\n",
       "      <td>1.824633e+08</td>\n",
       "      <td>24478.316287</td>\n",
       "      <td>0.0</td>\n",
       "      <td>9.596917</td>\n",
       "      <td>2.582819</td>\n",
       "      <td>5.533223</td>\n",
       "      <td>0.978610</td>\n",
       "      <td>1.002163</td>\n",
       "    </tr>\n",
       "    <tr>\n",
       "      <th>min</th>\n",
       "      <td>4.400000e+01</td>\n",
       "      <td>1.137000e+04</td>\n",
       "      <td>737.375838</td>\n",
       "      <td>2017.0</td>\n",
       "      <td>6.560000</td>\n",
       "      <td>1.540000</td>\n",
       "      <td>-20.890000</td>\n",
       "      <td>-0.379000</td>\n",
       "      <td>-1.084000</td>\n",
       "    </tr>\n",
       "    <tr>\n",
       "      <th>25%</th>\n",
       "      <td>2.775450e+04</td>\n",
       "      <td>2.078094e+06</td>\n",
       "      <td>5523.171725</td>\n",
       "      <td>2017.0</td>\n",
       "      <td>11.327500</td>\n",
       "      <td>6.017500</td>\n",
       "      <td>-2.447500</td>\n",
       "      <td>0.352000</td>\n",
       "      <td>0.315250</td>\n",
       "    </tr>\n",
       "    <tr>\n",
       "      <th>50%</th>\n",
       "      <td>8.189950e+04</td>\n",
       "      <td>7.233824e+06</td>\n",
       "      <td>15182.785761</td>\n",
       "      <td>2017.0</td>\n",
       "      <td>16.390000</td>\n",
       "      <td>7.485000</td>\n",
       "      <td>-0.355000</td>\n",
       "      <td>1.020000</td>\n",
       "      <td>0.938500</td>\n",
       "    </tr>\n",
       "    <tr>\n",
       "      <th>75%</th>\n",
       "      <td>5.182888e+05</td>\n",
       "      <td>3.118985e+07</td>\n",
       "      <td>30666.632037</td>\n",
       "      <td>2017.0</td>\n",
       "      <td>23.612500</td>\n",
       "      <td>9.427500</td>\n",
       "      <td>1.535000</td>\n",
       "      <td>1.717500</td>\n",
       "      <td>1.713000</td>\n",
       "    </tr>\n",
       "    <tr>\n",
       "      <th>max</th>\n",
       "      <td>2.335023e+07</td>\n",
       "      <td>1.386395e+09</td>\n",
       "      <td>124609.318228</td>\n",
       "      <td>2017.0</td>\n",
       "      <td>44.240000</td>\n",
       "      <td>15.020000</td>\n",
       "      <td>15.520000</td>\n",
       "      <td>3.502000</td>\n",
       "      <td>3.524000</td>\n",
       "    </tr>\n",
       "  </tbody>\n",
       "</table>\n",
       "</div>"
      ],
      "text/plain": [
       "                gdp  Population 2017     per capita    year  crude_birth_rate  \\\n",
       "count  1.160000e+02     1.160000e+02     116.000000   116.0        116.000000   \n",
       "mean   8.589699e+05     5.134478e+07   23377.663457  2017.0         18.885345   \n",
       "std    2.966534e+06     1.824633e+08   24478.316287     0.0          9.596917   \n",
       "min    4.400000e+01     1.137000e+04     737.375838  2017.0          6.560000   \n",
       "25%    2.775450e+04     2.078094e+06    5523.171725  2017.0         11.327500   \n",
       "50%    8.189950e+04     7.233824e+06   15182.785761  2017.0         16.390000   \n",
       "75%    5.182888e+05     3.118985e+07   30666.632037  2017.0         23.612500   \n",
       "max    2.335023e+07     1.386395e+09  124609.318228  2017.0         44.240000   \n",
       "\n",
       "       crude_death_rate  net_migration  rate_natural_increase  growth_rate  \n",
       "count        116.000000     116.000000             116.000000   116.000000  \n",
       "mean           7.699828      -0.571552               1.118552     1.061422  \n",
       "std            2.582819       5.533223               0.978610     1.002163  \n",
       "min            1.540000     -20.890000              -0.379000    -1.084000  \n",
       "25%            6.017500      -2.447500               0.352000     0.315250  \n",
       "50%            7.485000      -0.355000               1.020000     0.938500  \n",
       "75%            9.427500       1.535000               1.717500     1.713000  \n",
       "max           15.020000      15.520000               3.502000     3.524000  "
      ]
     },
     "execution_count": 115,
     "metadata": {},
     "output_type": "execute_result"
    }
   ],
   "source": [
    "gdp_birth_df.describe()"
   ]
  },
  {
   "cell_type": "code",
   "execution_count": 116,
   "metadata": {},
   "outputs": [
    {
     "data": {
      "image/png": "[encoded data removed]",
      "text/plain": [
       "<Figure size 432x288 with 1 Axes>"
      ]
     },
     "metadata": {},
     "output_type": "display_data"
    }
   ],
   "source": [
    "# Create pie graph from regions using gdp_region_df cleaned data\n",
    "gdp_region = gdp_region_df.drop(0, axis = 0)\n",
    "region = gdp_region['region_name']\n",
    "sizes = gdp_region['region_gdp']\n",
    "plt.pie(sizes, labels = region, autopct=\"%1.1f%%\")\n",
    "plt.title('GDP by Region')\n",
    "plt.savefig(\"Output/Pie-Regions.png\")\n",
    "plt.show()"
   ]
  },
  {
   "cell_type": "code",
   "execution_count": 117,
   "metadata": {},
   "outputs": [
    {
     "data": {
      "image/png": "[encoded data removed]",
      "text/plain": [
       "<Figure size 432x288 with 1 Axes>"
      ]
     },
     "metadata": {
      "needs_background": "light"
     },
     "output_type": "display_data"
    }
   ],
   "source": [
    "# bar graph of top 10 countries by total GDP\n",
    "x_axis = gdp_country_df.iloc[0:9,2]\n",
    "y_axis = gdp_country_df.iloc[0:9,3]\n",
    "plt.bar(x_axis, y_axis)\n",
    "tick_locations = [x for x in range(len(x_axis))]\n",
    "plt.xticks(tick_locations, x_axis, rotation=\"vertical\") \n",
    "plt.xlabel(\"Country\")\n",
    "plt.ylabel('GDP (trillion $)')\n",
    "plt.title(\"Total GDP- Top 10 Countires in 2017\")\n",
    "plt.savefig(\"Output/TotalGDP-TopTen.png\")\n",
    "plt.show()"
   ]
  },
  {
   "cell_type": "code",
   "execution_count": 118,
   "metadata": {},
   "outputs": [
    {
     "data": {
      "image/png": "[encoded data removed]",
      "text/plain": [
       "<Figure size 432x288 with 1 Axes>"
      ]
     },
     "metadata": {
      "needs_background": "light"
     },
     "output_type": "display_data"
    }
   ],
   "source": [
    "# bar graph of lowest 10 countries by total GDP\n",
    "gdp_country_low_df =  gdp_per_capita.sort_values(by = ['gdp'], ascending = True)\n",
    "x_axis_low = gdp_country_low_df.iloc[0:9,2]\n",
    "y_axis_low = gdp_country_low_df.iloc[0:9,3]\n",
    "plt.bar(x_axis_low , y_axis_low )\n",
    "tick_locations = [x for x in range(len(x_axis_low ))]\n",
    "plt.xticks(tick_locations, x_axis_low , rotation=\"vertical\") \n",
    "plt.xlabel(\"Country\")\n",
    "plt.ylabel('GDP (million $)')\n",
    "plt.title(\"Total GDP- Lowest 10 Countires in 2017\")\n",
    "plt.savefig(\"Output/TotalGDP-BottomTen.png\")\n",
    "plt.show()"
   ]
  },
  {
   "cell_type": "code",
   "execution_count": 119,
   "metadata": {},
   "outputs": [
    {
     "data": {
      "image/png": "[encoded data removed]",
      "text/plain": [
       "<Figure size 432x288 with 1 Axes>"
      ]
     },
     "metadata": {
      "needs_background": "light"
     },
     "output_type": "display_data"
    }
   ],
   "source": [
    "# Highest countries with per capita GDP\n",
    "gdp_per_capita.sort_values(by = ['per capita'], ascending = False, inplace = True)\n",
    "gdp_per_capita.head(20)\n",
    "\n",
    "x_axis_capitamax = gdp_per_capita.iloc[0:9,2]\n",
    "y_axis_capitamax = gdp_per_capita.iloc[0:9,6]\n",
    "plt.bar(x_axis_capitamax, y_axis_capitamax)\n",
    "tick_locations = [x for x in range(len(x_axis_capitamax))]\n",
    "plt.xticks(tick_locations, x_axis_capitamax, rotation=\"vertical\") \n",
    "plt.xlabel(\"Country\")\n",
    "plt.ylabel('GDP per capita (? $)')\n",
    "plt.title(\"Total GDP per Capita- Lowest 10 Countires in 2017\")\n",
    "plt.savefig(\"Output/CapitaGDP-TopTen.png\")\n",
    "plt.show()"
   ]
  },
  {
   "cell_type": "code",
   "execution_count": 121,
   "metadata": {},
   "outputs": [
    {
     "data": {
      "image/png": "[encoded data removed]",
      "text/plain": [
       "<Figure size 432x288 with 1 Axes>"
      ]
     },
     "metadata": {
      "needs_background": "light"
     },
     "output_type": "display_data"
    }
   ],
   "source": [
    "# Merge GDP with population to calculate per capita GDP lowest 20 countries\n",
    "gdp_per_capita = pd.merge(gdp_country_df, World_pop_df, left_on = 'country_code', right_on ='Country Code', how = 'left')\n",
    "gdp_per_capita['Population 2017'] = gdp_per_capita['Population 2017'].astype(int)\n",
    "gdp_per_capita['per capita'] = gdp_per_capita['gdp'] / gdp_per_capita['Population 2017'] * 1000000\n",
    "country_percap_lowest = gdp_per_capita.sort_values(by = ['per capita'], ascending = True)\n",
    "\n",
    "x_axis_gdplow = country_percap_lowest.iloc[0:9,2]\n",
    "y_axis_gdplow = country_percap_lowest.iloc[0:9,6]\n",
    "plt.bar(x_axis_gdplow, y_axis_gdplow)\n",
    "tick_locations = [x for x in range(len(x_axis_gdplow))]\n",
    "plt.xticks(tick_locations, x_axis_gdplow, rotation=\"vertical\") \n",
    "plt.xlabel(\"Country\")\n",
    "plt.ylabel('GDP per capita (? $)')\n",
    "plt.title(\"Total GDP per Capita- Lowest 10 Countires in 2017\")\n",
    "plt.savefig(\"Output/CapitaGDP-LowestTen.png\")\n",
    "plt.show()\n"
   ]
  },
  {
   "cell_type": "code",
   "execution_count": 122,
   "metadata": {},
   "outputs": [
    {
     "name": "stdout",
     "output_type": "stream",
     "text": [
      "-0.013737998016378468\n"
     ]
    },
    {
     "data": {
      "image/png": "[encoded data removed]",
      "text/plain": [
       "<Figure size 432x288 with 1 Axes>"
      ]
     },
     "metadata": {
      "needs_background": "light"
     },
     "output_type": "display_data"
    }
   ],
   "source": [
    "# GDP and Crude Brith Rate\n",
    "x_gdp = gdp_birth_df['gdp']\n",
    "y_birth = gdp_birth_df['crude_birth_rate']\n",
    "plt.scatter(x_gdp,y_birth)\n",
    "plt.xlabel('GDP')\n",
    "plt.ylabel('Crude Birth Rate')\n",
    "plt.title('GDP vs. Crude Birth Rate')\n",
    "(slope, intercept, rvalue, pvalue, stderr) = stats.linregress(x_gdp, y_birth)\n",
    "\n",
    "print(rvalue)\n",
    "plt.show()\n"
   ]
  },
  {
   "cell_type": "code",
   "execution_count": 123,
   "metadata": {},
   "outputs": [
    {
     "data": {
      "image/png": "[encoded data removed]",
      "text/plain": [
       "<Figure size 432x288 with 1 Axes>"
      ]
     },
     "metadata": {
      "needs_background": "light"
     },
     "output_type": "display_data"
    }
   ],
   "source": [
    "# Per Capita GDP verse Crude Birth Rate\n",
    "x_gdp = gdp_birth_df['per capita']\n",
    "y_birth = gdp_birth_df['crude_birth_rate']\n",
    "plt.scatter(x_gdp,y_birth)\n",
    "plt.xlabel('per Capita GDP')\n",
    "plt.ylabel('Crude Birth Rate')\n",
    "plt.title('Per Capita GDP vs. Crude Birth Rate')\n",
    "\n",
    "# Linear Regression\n",
    "(slope, intercept, rvalue, pvalue, stderr) = stats.linregress(x_gdp, y_birth)\n",
    "regress_values = x_gdp * slope + intercept\n",
    "plt.plot(x_gdp, regress_values, \"r-\")\n",
    "reg_str = f\"y = {round(slope,4)}x + {round(intercept,2)}\"\n",
    "plt.annotate(reg_str,(40000,40),fontsize=15,color=\"red\")\n",
    "plt.annotate(f\"r value = {round(rvalue,2)}\",(40000,36),fontsize=15,color=\"red\")\n",
    "plt.savefig(\"Output/CapitaGDP-CrudeBirthRate-Regression.png\")\n",
    "plt.show()\n"
   ]
  },
  {
   "cell_type": "code",
   "execution_count": 124,
   "metadata": {},
   "outputs": [
    {
     "data": {
      "image/png": "[encoded data removed]",
      "text/plain": [
       "<Figure size 432x288 with 1 Axes>"
      ]
     },
     "metadata": {
      "needs_background": "light"
     },
     "output_type": "display_data"
    }
   ],
   "source": [
    "# Per Capita GDP verse net migration\n",
    "x_gdp = gdp_birth_df['per capita']\n",
    "y_migr = gdp_birth_df['net_migration']\n",
    "plt.scatter(x_gdp,y_migr)\n",
    "plt.xlabel('per capita GDP')\n",
    "plt.ylabel('net_migration')\n",
    "plt.title('per capita vs. net_migration',fontsize=15)\n",
    "\n",
    "# Linear Regression\n",
    "(slope, intercept, rvalue, pvalue, stderr) = stats.linregress(x_gdp, y_migr)\n",
    "regress_values = x_gdp * slope + intercept\n",
    "plt.plot(x_gdp, regress_values, \"r-\")\n",
    "reg_str = f\"y = {round(slope,6)}x + {round(intercept,2)}\"\n",
    "plt.annotate(reg_str,(40000,15),fontsize=15,color=\"red\")\n",
    "plt.annotate(f\"r value = {round(rvalue,2)}\",(40000,12),fontsize=15,color=\"red\")\n",
    "plt.savefig(\"Output/CapitaGDP-NetMigration-Regression.png\")\n",
    "plt.show()\n"
   ]
  },
  {
   "cell_type": "code",
   "execution_count": 125,
   "metadata": {},
   "outputs": [
    {
     "data": {
      "image/png": "[encoded data removed]",
      "text/plain": [
       "<Figure size 432x288 with 1 Axes>"
      ]
     },
     "metadata": {
      "needs_background": "light"
     },
     "output_type": "display_data"
    }
   ],
   "source": [
    "# Per Capita GDP verse net migration\n",
    "gdp_birth_out = gdp_birth_df.loc[gdp_birth_df['net_migration']>-30]\n",
    "x_birth = gdp_birth_out['crude_birth_rate']\n",
    "y_migr = gdp_birth_out['net_migration']\n",
    "plt.scatter(x_birth,y_migr)\n",
    "plt.xlabel('crude_birth_rate')\n",
    "plt.ylabel('net_migration')\n",
    "plt.title('crude_birth_rate vs. net_migration')\n",
    "\n",
    "# Linear Regression\n",
    "(slope, intercept, rvalue, pvalue, stderr) = stats.linregress(x_birth, y_migr)\n",
    "regress_values = x_birth * slope + intercept\n",
    "plt.plot(x_birth, regress_values, \"r-\")\n",
    "reg_str = f\"y = {round(slope,2)}x + {round(intercept,2)}\"\n",
    "plt.annotate(reg_str,(20,14),fontsize=15,color=\"red\")\n",
    "plt.annotate(f\"r value = {round(rvalue,2)}\",(20,11),fontsize=15,color=\"red\")\n",
    "plt.savefig(\"Output/NetMigration-CrudeBirthRate-Regression.png\")\n",
    "plt.show()"
   ]
  },
  {
   "cell_type": "code",
   "execution_count": 126,
   "metadata": {},
   "outputs": [
    {
     "data": {
      "image/png": "[encoded data removed]",
      "text/plain": [
       "<Figure size 432x288 with 1 Axes>"
      ]
     },
     "metadata": {
      "needs_background": "light"
     },
     "output_type": "display_data"
    }
   ],
   "source": [
    "# Per Capita GDP verse crude_death_rate\n",
    "x_gdp_capita = gdp_birth_df['per capita']\n",
    "y_death = gdp_birth_df['crude_death_rate']\n",
    "plt.scatter(x_gdp_capita,y_death)\n",
    "plt.xlabel('per capita')\n",
    "plt.ylabel('crude_death_rate')\n",
    "plt.title('per capita GDP vs. crude_death_rate')\n",
    "\n",
    "# Linear Regression\n",
    "(slope, intercept, rvalue, pvalue, stderr) = stats.linregress(x_gdp_capita, y_death)\n",
    "regress_values = x_gdp * slope + intercept\n",
    "plt.plot(x_gdp, regress_values, \"r-\")\n",
    "reg_str = f\"y = {round(slope,6)}x + {round(intercept,2)}\"\n",
    "plt.annotate(reg_str,(40000,13),fontsize=15,color=\"red\")\n",
    "plt.annotate(f\"r value = {round(rvalue,2)}\",(40000,12),fontsize=15,color=\"red\")\n",
    "plt.savefig(\"Output/CapitaGDP-CrudeDeathRate-Regression.png\")\n",
    "plt.show()"
   ]
  },
  {
   "cell_type": "code",
   "execution_count": 127,
   "metadata": {},
   "outputs": [
    {
     "data": {
      "image/png": "[encoded data removed]",
      "text/plain": [
       "<Figure size 432x288 with 1 Axes>"
      ]
     },
     "metadata": {
      "needs_background": "light"
     },
     "output_type": "display_data"
    }
   ],
   "source": [
    "# Per rate_natural_increase verse net migration\n",
    "x_nat_increase = gdp_birth_df['rate_natural_increase']\n",
    "y_migr = gdp_birth_df['net_migration']\n",
    "plt.scatter(x_nat_increase,y_migr)\n",
    "plt.xlabel('rate_natural_increase')\n",
    "plt.ylabel('net_migration')\n",
    "plt.title('rate_natural_increase vs. net_migration',fontsize=15)\n",
    "\n",
    "# Linear Regression\n",
    "(slope, intercept, rvalue, pvalue, stderr) = stats.linregress(x_nat_increase, y_migr)\n",
    "regress_values = x_nat_increase * slope + intercept\n",
    "plt.plot(x_nat_increase, regress_values, \"r-\")\n",
    "reg_str = f\"y = {round(slope,3)}x + {round(intercept,2)}\"\n",
    "plt.annotate(reg_str,(1.5,15),fontsize=15,color=\"red\")\n",
    "plt.annotate(f\"r value = {round(rvalue,2)}\",(1.5,12),fontsize=15,color=\"red\")\n",
    "plt.savefig(\"Output/NetMigration-RateNaturalIncrease-Regression.png\")\n",
    "plt.show()"
   ]
  },
  {
   "cell_type": "code",
   "execution_count": 128,
   "metadata": {},
   "outputs": [
    {
     "data": {
      "image/png": "[encoded data removed]",
      "text/plain": [
       "<Figure size 432x288 with 1 Axes>"
      ]
     },
     "metadata": {
      "needs_background": "light"
     },
     "output_type": "display_data"
    }
   ],
   "source": [
    "# population verse total GDP\n",
    "x_gdp = gdp_birth_df['gdp']\n",
    "y_pop = gdp_birth_df['Population 2017']\n",
    "plt.scatter(x_gdp,y_pop)\n",
    "plt.xlabel('Total GDP')\n",
    "plt.ylabel('Population')\n",
    "plt.title('Total GDP vs. Population',fontsize=15)\n",
    "\n",
    "# Linear Regression\n",
    "(slope, intercept, rvalue, pvalue, stderr) = stats.linregress(x_gdp, y_pop)\n",
    "regress_values = x_gdp * slope + intercept\n",
    "plt.plot(x_gdp, regress_values, \"r-\")\n",
    "reg_str = f\"y = {round(slope,3)}x + {round(intercept,2)}\"\n",
    "plt.annotate(reg_str,(15000000,150000000),fontsize=15,color=\"red\")\n",
    "plt.annotate(f\"r value = {round(rvalue,2)}\",(1500,12),fontsize=15,color=\"red\")\n",
    "plt.savefig(\"Output/TotalGDP-Population-Regression.png\")\n",
    "plt.show()"
   ]
  },
  {
   "cell_type": "code",
   "execution_count": 129,
   "metadata": {},
   "outputs": [
    {
     "data": {
      "image/png": "[encoded data removed]",
      "text/plain": [
       "<Figure size 432x288 with 1 Axes>"
      ]
     },
     "metadata": {
      "needs_background": "light"
     },
     "output_type": "display_data"
    }
   ],
   "source": [
    "# Generate a box plot of the final tumor volume of each mouse across four regimens of interest\n",
    "continents = gdp_birth_df['Continent_Name'].unique()\n",
    "\n",
    "i = 0\n",
    "for continent in continents:\n",
    "    gdp = gdp_birth_df.loc[gdp_birth_df['Continent_Name']== continent, 'gdp']  # pandas.core.series.Series\n",
    "    i = i + 1\n",
    "    plt.boxplot(gdp, positions = [i])\n",
    "\n",
    "\n",
    "# set labels of plot\n",
    "tick_locations = np.arange(1,i+1)\n",
    "plt.title(f\"GDP by country\")\n",
    "plt.xlabel('Continents')\n",
    "plt.ylabel('GDP')\n",
    "plt.xticks(tick_locations, continents, rotation=\"vertical\") \n",
    "plt.savefig(\"Output/Box-TotalGDP-Continent.png\")\n",
    "plt.show()"
   ]
  },
  {
   "cell_type": "code",
   "execution_count": 130,
   "metadata": {},
   "outputs": [
    {
     "data": {
      "application/vnd.plotly.v1+json": {
       "config": {
        "plotlyServerURL": "https://plot.ly"
       },
       "data": [
        {
         "coloraxis": "coloraxis",
         "geo": "geo",
         "hovertemplate": "<b>%{hovertext}</b><br><br>Country Code=%{location}<br>per capita=%{z}<extra></extra>",
         "hovertext": [
          "China",
          "United States",
          "India",
          "Japan",
          "Germany",
          "Russian Federation",
          "Brazil",
          "Indonesia",
          "United Kingdom",
          "France",
          "Italy",
          "Mexico",
          "Turkey",
          "Korea, Rep.",
          "Spain",
          "Saudi Arabia",
          "Canada",
          "Iran, Islamic Rep.",
          "Thailand",
          "Australia",
          "Poland",
          "Egypt, Arab Rep.",
          "Nigeria",
          "Pakistan",
          "Malaysia",
          "Netherlands",
          "Argentina",
          "Philippines",
          "South Africa",
          "Colombia",
          "United Arab Emirates",
          "Vietnam",
          "Iraq",
          "Bangladesh",
          "Algeria",
          "Belgium",
          "Switzerland",
          "Singapore",
          "Romania",
          "Sweden",
          "Kazakhstan",
          "Austria",
          "Hong Kong SAR, China",
          "Chile",
          "Peru",
          "Czech Republic",
          "Ukraine",
          "Ireland",
          "Qatar",
          "Israel",
          "Portugal",
          "Myanmar",
          "Norway",
          "Denmark",
          "Greece",
          "Morocco",
          "Kuwait",
          "Hungary",
          "Sri Lanka",
          "Finland",
          "Uzbekistan",
          "Ethiopia",
          "Sudan",
          "Angola",
          "New Zealand",
          "Ecuador",
          "Oman",
          "Belarus",
          "Slovak Republic",
          "Dominican Republic",
          "Azerbaijan",
          "Tanzania",
          "Kenya",
          "Bulgaria",
          "Guatemala",
          "Tunisia",
          "Puerto Rico",
          "Ghana",
          "Libya",
          "Croatia",
          "Serbia",
          "Turkmenistan",
          "Panama",
          "Côte d'Ivoire",
          "Lithuania",
          "Cameroon",
          "Paraguay",
          "Jordan",
          "Lebanon",
          "Costa Rica",
          "Bolivia",
          "Uganda",
          "Nepal",
          "Uruguay",
          "Slovenia",
          "Yemen, Rep.",
          "Congo, Dem. Rep.",
          "Macao SAR, China",
          "Bahrain",
          "Afghanistan",
          "Zambia",
          "Cambodia",
          "Luxembourg",
          "Latvia",
          "Senegal",
          "El Salvador",
          "Lao PDR",
          "Honduras",
          "Bosnia and Herzegovina",
          "Estonia",
          "Trinidad and Tobago",
          "Mali",
          "Zimbabwe",
          "Madagascar",
          "Mongolia",
          "Georgia",
          "Botswana",
          "Albania",
          "Mozambique",
          "Gabon",
          "Nicaragua",
          "Burkina Faso",
          "Papua New Guinea",
          "Brunei Darussalam",
          "North Macedonia",
          "Equatorial Guinea",
          "Cyprus",
          "Chad",
          "Congo, Rep.",
          "Guinea",
          "Tajikistan",
          "Armenia",
          "Mauritius",
          "Namibia",
          "Jamaica",
          "Benin",
          "Rwanda",
          "Kyrgyz Republic",
          "West Bank and Gaza",
          "Malawi",
          "Niger",
          "South Sudan",
          "Moldova",
          "Haiti",
          "Kosovo",
          "Malta",
          "Iceland",
          "Mauritania",
          "Togo",
          "Bahamas, The",
          "Montenegro",
          "Eswatini",
          "Sierra Leone",
          "Timor-Leste",
          "Fiji",
          "Suriname",
          "Burundi",
          "Bhutan",
          "Maldives",
          "Lesotho",
          "Guyana",
          "Liberia",
          "Barbados",
          "Aruba",
          "Cabo Verde",
          "Cayman Islands",
          "Gambia, The",
          "Central African Republic",
          "Belize",
          "Guinea-Bissau",
          "Seychelles",
          "St. Lucia",
          "Antigua and Barbuda",
          "Comoros",
          "San Marino",
          "Grenada",
          "St. Kitts and Nevis",
          "Solomon Islands",
          "Sint Maarten (Dutch part)",
          "Samoa",
          "St. Vincent and the Grenadines",
          "Vanuatu",
          "Dominica",
          "São Tomé and Principe",
          "Tonga",
          "Micronesia, Fed. Sts.",
          "Palau",
          "Kiribati",
          "Marshall Islands",
          "Nauru",
          "Tuvalu"
         ],
         "locations": [
          "CHN",
          "USA",
          "IND",
          "JPN",
          "DEU",
          "RUS",
          "BRA",
          "IDN",
          "GBR",
          "FRA",
          "ITA",
          "MEX",
          "TUR",
          "KOR",
          "ESP",
          "SAU",
          "CAN",
          "IRN",
          "THA",
          "AUS",
          "POL",
          "EGY",
          "NGA",
          "PAK",
          "MYS",
          "NLD",
          "ARG",
          "PHL",
          "ZAF",
          "COL",
          "ARE",
          "VNM",
          "IRQ",
          "BGD",
          "DZA",
          "BEL",
          "CHE",
          "SGP",
          "ROU",
          "SWE",
          "KAZ",
          "AUT",
          "HKG",
          "CHL",
          "PER",
          "CZE",
          "UKR",
          "IRL",
          "QAT",
          "ISR",
          "PRT",
          "MMR",
          "NOR",
          "DNK",
          "GRC",
          "MAR",
          "KWT",
          "HUN",
          "LKA",
          "FIN",
          "UZB",
          "ETH",
          "SDN",
          "AGO",
          "NZL",
          "ECU",
          "OMN",
          "BLR",
          "SVK",
          "DOM",
          "AZE",
          "TZA",
          "KEN",
          "BGR",
          "GTM",
          "TUN",
          "PRI",
          "GHA",
          "LBY",
          "HRV",
          "SRB",
          "TKM",
          "PAN",
          "CIV",
          "LTU",
          "CMR",
          "PRY",
          "JOR",
          "LBN",
          "CRI",
          "BOL",
          "UGA",
          "NPL",
          "URY",
          "SVN",
          "YEM",
          "COD",
          "MAC",
          "BHR",
          "AFG",
          "ZMB",
          "KHM",
          "LUX",
          "LVA",
          "SEN",
          "SLV",
          "LAO",
          "HND",
          "BIH",
          "EST",
          "TTO",
          "MLI",
          "ZWE",
          "MDG",
          "MNG",
          "GEO",
          "BWA",
          "ALB",
          "MOZ",
          "GAB",
          "NIC",
          "BFA",
          "PNG",
          "BRN",
          "MKD",
          "GNQ",
          "CYP",
          "TCD",
          "COG",
          "GIN",
          "TJK",
          "ARM",
          "MUS",
          "NAM",
          "JAM",
          "BEN",
          "RWA",
          "KGZ",
          "PSE",
          "MWI",
          "NER",
          "SSD",
          "MDA",
          "HTI",
          "XKX",
          "MLT",
          "ISL",
          "MRT",
          "TGO",
          "BHS",
          "MNE",
          "SWZ",
          "SLE",
          "TLS",
          "FJI",
          "SUR",
          "BDI",
          "BTN",
          "MDV",
          "LSO",
          "GUY",
          "LBR",
          "BRB",
          "ABW",
          "CPV",
          "CYM",
          "GMB",
          "CAF",
          "BLZ",
          "GNB",
          "SYC",
          "LCA",
          "ATG",
          "COM",
          "SMR",
          "GRD",
          "KNA",
          "SLB",
          "SXM",
          "WSM",
          "VCT",
          "VUT",
          "DMA",
          "STP",
          "TON",
          "FSM",
          "PLW",
          "KIR",
          "MHL",
          "NRU",
          "TUV"
         ],
         "name": "",
         "type": "choropleth",
         "z": [
          16842.407827495048,
          59957.726303631,
          7168.992389311799,
          42066.57311938497,
          52574.2634604628,
          26181.48340232451,
          15662.247981176844,
          12279.182000962599,
          44896.26440565678,
          44191.691363797756,
          40923.69804906309,
          19311.681984781146,
          27878.609786316698,
          38902.952812639705,
          39037.38302272029,
          53631.11019144995,
          46719.42651298715,
          21011.292728181863,
          17865.5474195598,
          49378.29903917834,
          29923.718412824328,
          11742.05260117799,
          5887.575345722378,
          5249.2082533725425,
          30004.088085051717,
          54422.035554111026,
          20935.860072143343,
          8340.22798797991,
          13458.963684339971,
          14552.13675710055,
          73355.86684505433,
          6857.981280138887,
          17260.58584050007,
          3998.419420913656,
          15266.495378818405,
          49398.083085966806,
          66299.64599424503,
          94104.63141985936,
          26655.70377525426,
          51404.80455865746,
          26490.848982712723,
          53879.33435225152,
          61670.792916379185,
          24190.329206577062,
          13771.527472851436,
          38019.5721566354,
          8243.512014585398,
          76807.40560154496,
          124609.31822819487,
          38867.70798664111,
          32554.29453511063,
          6172.3879555392805,
          62182.8671312769,
          54356.47651856555,
          28579.839528450826,
          8389.352000520274,
          73525.3256885495,
          28798.628846892196,
          12862.572281290804,
          46343.51533909176,
          6879.272336562865,
          1877.4337870450106,
          4880.260392935692,
          6650.591137571409,
          40747.61676296961,
          11501.03354941249,
          41068.296064990194,
          18895.55817778912,
          32371.298006777426,
          16451.521435431554,
          17449.911117610423,
          3000.0234524038583,
          3258.2078984421664,
          20948.150120400845,
          8586.95907571992,
          12039.243122128653,
          39089.269313977806,
          4457.364121475869,
          19056.86973044303,
          26295.59579016378,
          15431.874565758202,
          18032.297445372427,
          24472.024371458745,
          3921.723644948665,
          33252.68711707632,
          3644.7869406736004,
          13002.94070448177,
          9100.769564052092,
          12958.403657848583,
          16956.92525627511,
          7480.040390056012,
          1945.3645451019513,
          2866.53073262349,
          22742.522796936315,
          36387.6483990422,
          2645.31968788303,
          888.4532939591072,
          115364.16714183606,
          47660.2899187055,
          1934.6271255551515,
          4090.1433561603844,
          4016.574248126758,
          107640.65895736631,
          28361.98055037256,
          3554.2282793323548,
          8010.178891386232,
          6942.292106971991,
          4909.951868769298,
          13715.837586867121,
          33448.10624692573,
          31303.284800212703,
          2221.7547876303843,
          2825.7161310397846,
          1558.3558266661557,
          12787.355814269415,
          10674.344770016341,
          17692.396994641582,
          12943.29443593553,
          1294.7394651409734,
          17765.203119105125,
          5701.147481031285,
          1866.1736053090237,
          4114.467964023352,
          79790.70518030593,
          15298.78059323841,
          24549.108915127643,
          26238.471449884717,
          1930.1750116353228,
          5614.4928817998,
          2368.0056057825877,
          3216.5695900168776,
          9620.657910241376,
          22356.246535501377,
          11042.606706143295,
          8970.667130458123,
          2276.5579939301333,
          2082.3079196560334,
          3735.4393210932208,
          5148.373497829872,
          1269.6474188834798,
          1012.8470482452193,
          1899.959480362457,
          7356.74687259315,
          1818.642722342344,
          10998.30653549994,
          40797.09572029,
          55323.23820617356,
          4085.1599995703514,
          1684.8791481429764,
          31579.9675713339,
          19354.95273734561,
          10525.866568037605,
          1544.3822611171818,
          7536.631487676361,
          9880.80354751618,
          15002.734462643033,
          737.9682542497366,
          10173.451650285419,
          14669.562169370793,
          3130.89912461055,
          8207.981981912255,
          1293.4294126103625,
          18526.864477541025,
          39452.95446348917,
          7027.015964740269,
          56624.90928023729,
          1612.091635823576,
          737.3758384413671,
          8499.902865856418,
          1734.5441775438067,
          29329.215487829053,
          13821.115747008926,
          25150.378303606984,
          2750.979245403567,
          63051.29042796471,
          14737.449717697566,
          30454.414449034488,
          2333.1939286646393,
          34061.22147187855,
          6675.130021704411,
          11773.061269086837,
          3110.223810024167,
          10383.72190657449,
          3312.5854101376704,
          6323.653404968724,
          3508.016400649566,
          18137.91554357592,
          2224.98642232695,
          3892.659065072858,
          15066.790928859893,
          3869.8328935795953
         ]
        }
       ],
       "layout": {
        "coloraxis": {
         "colorbar": {
          "title": {
           "text": "per capita"
          }
         },
         "colorscale": [
          [
           0,
           "#0d0887"
          ],
          [
           0.1111111111111111,
           "#46039f"
          ],
          [
           0.2222222222222222,
           "#7201a8"
          ],
          [
           0.3333333333333333,
           "#9c179e"
          ],
          [
           0.4444444444444444,
           "#bd3786"
          ],
          [
           0.5555555555555556,
           "#d8576b"
          ],
          [
           0.6666666666666666,
           "#ed7953"
          ],
          [
           0.7777777777777778,
           "#fb9f3a"
          ],
          [
           0.8888888888888888,
           "#fdca26"
          ],
          [
           1,
           "#f0f921"
          ]
         ]
        },
        "geo": {
         "center": {},
         "domain": {
          "x": [
           0,
           1
          ],
          "y": [
           0,
           1
          ]
         }
        },
        "legend": {
         "tracegroupgap": 0
        },
        "margin": {
         "t": 60
        },
        "template": {
         "data": {
          "bar": [
           {
            "error_x": {
             "color": "#2a3f5f"
            },
            "error_y": {
             "color": "#2a3f5f"
            },
            "marker": {
             "line": {
              "color": "#E5ECF6",
              "width": 0.5
             }
            },
            "type": "bar"
           }
          ],
          "barpolar": [
           {
            "marker": {
             "line": {
              "color": "#E5ECF6",
              "width": 0.5
             }
            },
            "type": "barpolar"
           }
          ],
          "carpet": [
           {
            "aaxis": {
             "endlinecolor": "#2a3f5f",
             "gridcolor": "white",
             "linecolor": "white",
             "minorgridcolor": "white",
             "startlinecolor": "#2a3f5f"
            },
            "baxis": {
             "endlinecolor": "#2a3f5f",
             "gridcolor": "white",
             "linecolor": "white",
             "minorgridcolor": "white",
             "startlinecolor": "#2a3f5f"
            },
            "type": "carpet"
           }
          ],
          "choropleth": [
           {
            "colorbar": {
             "outlinewidth": 0,
             "ticks": ""
            },
            "type": "choropleth"
           }
          ],
          "contour": [
           {
            "colorbar": {
             "outlinewidth": 0,
             "ticks": ""
            },
            "colorscale": [
             [
              0,
              "#0d0887"
             ],
             [
              0.1111111111111111,
              "#46039f"
             ],
             [
              0.2222222222222222,
              "#7201a8"
             ],
             [
              0.3333333333333333,
              "#9c179e"
             ],
             [
              0.4444444444444444,
              "#bd3786"
             ],
             [
              0.5555555555555556,
              "#d8576b"
             ],
             [
              0.6666666666666666,
              "#ed7953"
             ],
             [
              0.7777777777777778,
              "#fb9f3a"
             ],
             [
              0.8888888888888888,
              "#fdca26"
             ],
             [
              1,
              "#f0f921"
             ]
            ],
            "type": "contour"
           }
          ],
          "contourcarpet": [
           {
            "colorbar": {
             "outlinewidth": 0,
             "ticks": ""
            },
            "type": "contourcarpet"
           }
          ],
          "heatmap": [
           {
            "colorbar": {
             "outlinewidth": 0,
             "ticks": ""
            },
            "colorscale": [
             [
              0,
              "#0d0887"
             ],
             [
              0.1111111111111111,
              "#46039f"
             ],
             [
              0.2222222222222222,
              "#7201a8"
             ],
             [
              0.3333333333333333,
              "#9c179e"
             ],
             [
              0.4444444444444444,
              "#bd3786"
             ],
             [
              0.5555555555555556,
              "#d8576b"
             ],
             [
              0.6666666666666666,
              "#ed7953"
             ],
             [
              0.7777777777777778,
              "#fb9f3a"
             ],
             [
              0.8888888888888888,
              "#fdca26"
             ],
             [
              1,
              "#f0f921"
             ]
            ],
            "type": "heatmap"
           }
          ],
          "heatmapgl": [
           {
            "colorbar": {
             "outlinewidth": 0,
             "ticks": ""
            },
            "colorscale": [
             [
              0,
              "#0d0887"
             ],
             [
              0.1111111111111111,
              "#46039f"
             ],
             [
              0.2222222222222222,
              "#7201a8"
             ],
             [
              0.3333333333333333,
              "#9c179e"
             ],
             [
              0.4444444444444444,
              "#bd3786"
             ],
             [
              0.5555555555555556,
              "#d8576b"
             ],
             [
              0.6666666666666666,
              "#ed7953"
             ],
             [
              0.7777777777777778,
              "#fb9f3a"
             ],
             [
              0.8888888888888888,
              "#fdca26"
             ],
             [
              1,
              "#f0f921"
             ]
            ],
            "type": "heatmapgl"
           }
          ],
          "histogram": [
           {
            "marker": {
             "colorbar": {
              "outlinewidth": 0,
              "ticks": ""
             }
            },
            "type": "histogram"
           }
          ],
          "histogram2d": [
           {
            "colorbar": {
             "outlinewidth": 0,
             "ticks": ""
            },
            "colorscale": [
             [
              0,
              "#0d0887"
             ],
             [
              0.1111111111111111,
              "#46039f"
             ],
             [
              0.2222222222222222,
              "#7201a8"
             ],
             [
              0.3333333333333333,
              "#9c179e"
             ],
             [
              0.4444444444444444,
              "#bd3786"
             ],
             [
              0.5555555555555556,
              "#d8576b"
             ],
             [
              0.6666666666666666,
              "#ed7953"
             ],
             [
              0.7777777777777778,
              "#fb9f3a"
             ],
             [
              0.8888888888888888,
              "#fdca26"
             ],
             [
              1,
              "#f0f921"
             ]
            ],
            "type": "histogram2d"
           }
          ],
          "histogram2dcontour": [
           {
            "colorbar": {
             "outlinewidth": 0,
             "ticks": ""
            },
            "colorscale": [
             [
              0,
              "#0d0887"
             ],
             [
              0.1111111111111111,
              "#46039f"
             ],
             [
              0.2222222222222222,
              "#7201a8"
             ],
             [
              0.3333333333333333,
              "#9c179e"
             ],
             [
              0.4444444444444444,
              "#bd3786"
             ],
             [
              0.5555555555555556,
              "#d8576b"
             ],
             [
              0.6666666666666666,
              "#ed7953"
             ],
             [
              0.7777777777777778,
              "#fb9f3a"
             ],
             [
              0.8888888888888888,
              "#fdca26"
             ],
             [
              1,
              "#f0f921"
             ]
            ],
            "type": "histogram2dcontour"
           }
          ],
          "mesh3d": [
           {
            "colorbar": {
             "outlinewidth": 0,
             "ticks": ""
            },
            "type": "mesh3d"
           }
          ],
          "parcoords": [
           {
            "line": {
             "colorbar": {
              "outlinewidth": 0,
              "ticks": ""
             }
            },
            "type": "parcoords"
           }
          ],
          "pie": [
           {
            "automargin": true,
            "type": "pie"
           }
          ],
          "scatter": [
           {
            "marker": {
             "colorbar": {
              "outlinewidth": 0,
              "ticks": ""
             }
            },
            "type": "scatter"
           }
          ],
          "scatter3d": [
           {
            "line": {
             "colorbar": {
              "outlinewidth": 0,
              "ticks": ""
             }
            },
            "marker": {
             "colorbar": {
              "outlinewidth": 0,
              "ticks": ""
             }
            },
            "type": "scatter3d"
           }
          ],
          "scattercarpet": [
           {
            "marker": {
             "colorbar": {
              "outlinewidth": 0,
              "ticks": ""
             }
            },
            "type": "scattercarpet"
           }
          ],
          "scattergeo": [
           {
            "marker": {
             "colorbar": {
              "outlinewidth": 0,
              "ticks": ""
             }
            },
            "type": "scattergeo"
           }
          ],
          "scattergl": [
           {
            "marker": {
             "colorbar": {
              "outlinewidth": 0,
              "ticks": ""
             }
            },
            "type": "scattergl"
           }
          ],
          "scattermapbox": [
           {
            "marker": {
             "colorbar": {
              "outlinewidth": 0,
              "ticks": ""
             }
            },
            "type": "scattermapbox"
           }
          ],
          "scatterpolar": [
           {
            "marker": {
             "colorbar": {
              "outlinewidth": 0,
              "ticks": ""
             }
            },
            "type": "scatterpolar"
           }
          ],
          "scatterpolargl": [
           {
            "marker": {
             "colorbar": {
              "outlinewidth": 0,
              "ticks": ""
             }
            },
            "type": "scatterpolargl"
           }
          ],
          "scatterternary": [
           {
            "marker": {
             "colorbar": {
              "outlinewidth": 0,
              "ticks": ""
             }
            },
            "type": "scatterternary"
           }
          ],
          "surface": [
           {
            "colorbar": {
             "outlinewidth": 0,
             "ticks": ""
            },
            "colorscale": [
             [
              0,
              "#0d0887"
             ],
             [
              0.1111111111111111,
              "#46039f"
             ],
             [
              0.2222222222222222,
              "#7201a8"
             ],
             [
              0.3333333333333333,
              "#9c179e"
             ],
             [
              0.4444444444444444,
              "#bd3786"
             ],
             [
              0.5555555555555556,
              "#d8576b"
             ],
             [
              0.6666666666666666,
              "#ed7953"
             ],
             [
              0.7777777777777778,
              "#fb9f3a"
             ],
             [
              0.8888888888888888,
              "#fdca26"
             ],
             [
              1,
              "#f0f921"
             ]
            ],
            "type": "surface"
           }
          ],
          "table": [
           {
            "cells": {
             "fill": {
              "color": "#EBF0F8"
             },
             "line": {
              "color": "white"
             }
            },
            "header": {
             "fill": {
              "color": "#C8D4E3"
             },
             "line": {
              "color": "white"
             }
            },
            "type": "table"
           }
          ]
         },
         "layout": {
          "annotationdefaults": {
           "arrowcolor": "#2a3f5f",
           "arrowhead": 0,
           "arrowwidth": 1
          },
          "coloraxis": {
           "colorbar": {
            "outlinewidth": 0,
            "ticks": ""
           }
          },
          "colorscale": {
           "diverging": [
            [
             0,
             "#8e0152"
            ],
            [
             0.1,
             "#c51b7d"
            ],
            [
             0.2,
             "#de77ae"
            ],
            [
             0.3,
             "#f1b6da"
            ],
            [
             0.4,
             "#fde0ef"
            ],
            [
             0.5,
             "#f7f7f7"
            ],
            [
             0.6,
             "#e6f5d0"
            ],
            [
             0.7,
             "#b8e186"
            ],
            [
             0.8,
             "#7fbc41"
            ],
            [
             0.9,
             "#4d9221"
            ],
            [
             1,
             "#276419"
            ]
           ],
           "sequential": [
            [
             0,
             "#0d0887"
            ],
            [
             0.1111111111111111,
             "#46039f"
            ],
            [
             0.2222222222222222,
             "#7201a8"
            ],
            [
             0.3333333333333333,
             "#9c179e"
            ],
            [
             0.4444444444444444,
             "#bd3786"
            ],
            [
             0.5555555555555556,
             "#d8576b"
            ],
            [
             0.6666666666666666,
             "#ed7953"
            ],
            [
             0.7777777777777778,
             "#fb9f3a"
            ],
            [
             0.8888888888888888,
             "#fdca26"
            ],
            [
             1,
             "#f0f921"
            ]
           ],
           "sequentialminus": [
            [
             0,
             "#0d0887"
            ],
            [
             0.1111111111111111,
             "#46039f"
            ],
            [
             0.2222222222222222,
             "#7201a8"
            ],
            [
             0.3333333333333333,
             "#9c179e"
            ],
            [
             0.4444444444444444,
             "#bd3786"
            ],
            [
             0.5555555555555556,
             "#d8576b"
            ],
            [
             0.6666666666666666,
             "#ed7953"
            ],
            [
             0.7777777777777778,
             "#fb9f3a"
            ],
            [
             0.8888888888888888,
             "#fdca26"
            ],
            [
             1,
             "#f0f921"
            ]
           ]
          },
          "colorway": [
           "#636efa",
           "#EF553B",
           "#00cc96",
           "#ab63fa",
           "#FFA15A",
           "#19d3f3",
           "#FF6692",
           "#B6E880",
           "#FF97FF",
           "#FECB52"
          ],
          "font": {
           "color": "#2a3f5f"
          },
          "geo": {
           "bgcolor": "white",
           "lakecolor": "white",
           "landcolor": "#E5ECF6",
           "showlakes": true,
           "showland": true,
           "subunitcolor": "white"
          },
          "hoverlabel": {
           "align": "left"
          },
          "hovermode": "closest",
          "mapbox": {
           "style": "light"
          },
          "paper_bgcolor": "white",
          "plot_bgcolor": "#E5ECF6",
          "polar": {
           "angularaxis": {
            "gridcolor": "white",
            "linecolor": "white",
            "ticks": ""
           },
           "bgcolor": "#E5ECF6",
           "radialaxis": {
            "gridcolor": "white",
            "linecolor": "white",
            "ticks": ""
           }
          },
          "scene": {
           "xaxis": {
            "backgroundcolor": "#E5ECF6",
            "gridcolor": "white",
            "gridwidth": 2,
            "linecolor": "white",
            "showbackground": true,
            "ticks": "",
            "zerolinecolor": "white"
           },
           "yaxis": {
            "backgroundcolor": "#E5ECF6",
            "gridcolor": "white",
            "gridwidth": 2,
            "linecolor": "white",
            "showbackground": true,
            "ticks": "",
            "zerolinecolor": "white"
           },
           "zaxis": {
            "backgroundcolor": "#E5ECF6",
            "gridcolor": "white",
            "gridwidth": 2,
            "linecolor": "white",
            "showbackground": true,
            "ticks": "",
            "zerolinecolor": "white"
           }
          },
          "shapedefaults": {
           "line": {
            "color": "#2a3f5f"
           }
          },
          "ternary": {
           "aaxis": {
            "gridcolor": "white",
            "linecolor": "white",
            "ticks": ""
           },
           "baxis": {
            "gridcolor": "white",
            "linecolor": "white",
            "ticks": ""
           },
           "bgcolor": "#E5ECF6",
           "caxis": {
            "gridcolor": "white",
            "linecolor": "white",
            "ticks": ""
           }
          },
          "title": {
           "x": 0.05
          },
          "xaxis": {
           "automargin": true,
           "gridcolor": "white",
           "linecolor": "white",
           "ticks": "",
           "title": {
            "standoff": 15
           },
           "zerolinecolor": "white",
           "zerolinewidth": 2
          },
          "yaxis": {
           "automargin": true,
           "gridcolor": "white",
           "linecolor": "white",
           "ticks": "",
           "title": {
            "standoff": 15
           },
           "zerolinecolor": "white",
           "zerolinewidth": 2
          }
         }
        }
       }
      },
      "text/html": [
       "<div>                            <div id=\"44701165-b8e3-4058-8077-cd8294fc4184\" class=\"plotly-graph-div\" style=\"height:525px; width:100%;\"></div>            <script type=\"text/javascript\">                require([\"plotly\"], function(Plotly) {                    window.PLOTLYENV=window.PLOTLYENV || {};                                    if (document.getElementById(\"44701165-b8e3-4058-8077-cd8294fc4184\")) {                    Plotly.newPlot(                        \"44701165-b8e3-4058-8077-cd8294fc4184\",                        [{\"coloraxis\": \"coloraxis\", \"geo\": \"geo\", \"hovertemplate\": \"<b>%{hovertext}</b><br><br>Country Code=%{location}<br>per capita=%{z}<extra></extra>\", \"hovertext\": [\"China\", \"United States\", \"India\", \"Japan\", \"Germany\", \"Russian Federation\", \"Brazil\", \"Indonesia\", \"United Kingdom\", \"France\", \"Italy\", \"Mexico\", \"Turkey\", \"Korea, Rep.\", \"Spain\", \"Saudi Arabia\", \"Canada\", \"Iran, Islamic Rep.\", \"Thailand\", \"Australia\", \"Poland\", \"Egypt, Arab Rep.\", \"Nigeria\", \"Pakistan\", \"Malaysia\", \"Netherlands\", \"Argentina\", \"Philippines\", \"South Africa\", \"Colombia\", \"United Arab Emirates\", \"Vietnam\", \"Iraq\", \"Bangladesh\", \"Algeria\", \"Belgium\", \"Switzerland\", \"Singapore\", \"Romania\", \"Sweden\", \"Kazakhstan\", \"Austria\", \"Hong Kong SAR, China\", \"Chile\", \"Peru\", \"Czech Republic\", \"Ukraine\", \"Ireland\", \"Qatar\", \"Israel\", \"Portugal\", \"Myanmar\", \"Norway\", \"Denmark\", \"Greece\", \"Morocco\", \"Kuwait\", \"Hungary\", \"Sri Lanka\", \"Finland\", \"Uzbekistan\", \"Ethiopia\", \"Sudan\", \"Angola\", \"New Zealand\", \"Ecuador\", \"Oman\", \"Belarus\", \"Slovak Republic\", \"Dominican Republic\", \"Azerbaijan\", \"Tanzania\", \"Kenya\", \"Bulgaria\", \"Guatemala\", \"Tunisia\", \"Puerto Rico\", \"Ghana\", \"Libya\", \"Croatia\", \"Serbia\", \"Turkmenistan\", \"Panama\", \"C\\u00f4te d'Ivoire\", \"Lithuania\", \"Cameroon\", \"Paraguay\", \"Jordan\", \"Lebanon\", \"Costa Rica\", \"Bolivia\", \"Uganda\", \"Nepal\", \"Uruguay\", \"Slovenia\", \"Yemen, Rep.\", \"Congo, Dem. Rep.\", \"Macao SAR, China\", \"Bahrain\", \"Afghanistan\", \"Zambia\", \"Cambodia\", \"Luxembourg\", \"Latvia\", \"Senegal\", \"El Salvador\", \"Lao PDR\", \"Honduras\", \"Bosnia and Herzegovina\", \"Estonia\", \"Trinidad and Tobago\", \"Mali\", \"Zimbabwe\", \"Madagascar\", \"Mongolia\", \"Georgia\", \"Botswana\", \"Albania\", \"Mozambique\", \"Gabon\", \"Nicaragua\", \"Burkina Faso\", \"Papua New Guinea\", \"Brunei Darussalam\", \"North Macedonia\", \"Equatorial Guinea\", \"Cyprus\", \"Chad\", \"Congo, Rep.\", \"Guinea\", \"Tajikistan\", \"Armenia\", \"Mauritius\", \"Namibia\", \"Jamaica\", \"Benin\", \"Rwanda\", \"Kyrgyz Republic\", \"West Bank and Gaza\", \"Malawi\", \"Niger\", \"South Sudan\", \"Moldova\", \"Haiti\", \"Kosovo\", \"Malta\", \"Iceland\", \"Mauritania\", \"Togo\", \"Bahamas, The\", \"Montenegro\", \"Eswatini\", \"Sierra Leone\", \"Timor-Leste\", \"Fiji\", \"Suriname\", \"Burundi\", \"Bhutan\", \"Maldives\", \"Lesotho\", \"Guyana\", \"Liberia\", \"Barbados\", \"Aruba\", \"Cabo Verde\", \"Cayman Islands\", \"Gambia, The\", \"Central African Republic\", \"Belize\", \"Guinea-Bissau\", \"Seychelles\", \"St. Lucia\", \"Antigua and Barbuda\", \"Comoros\", \"San Marino\", \"Grenada\", \"St. Kitts and Nevis\", \"Solomon Islands\", \"Sint Maarten (Dutch part)\", \"Samoa\", \"St. Vincent and the Grenadines\", \"Vanuatu\", \"Dominica\", \"S\\u00e3o Tom\\u00e9 and Principe\", \"Tonga\", \"Micronesia, Fed. Sts.\", \"Palau\", \"Kiribati\", \"Marshall Islands\", \"Nauru\", \"Tuvalu\"], \"locations\": [\"CHN\", \"USA\", \"IND\", \"JPN\", \"DEU\", \"RUS\", \"BRA\", \"IDN\", \"GBR\", \"FRA\", \"ITA\", \"MEX\", \"TUR\", \"KOR\", \"ESP\", \"SAU\", \"CAN\", \"IRN\", \"THA\", \"AUS\", \"POL\", \"EGY\", \"NGA\", \"PAK\", \"MYS\", \"NLD\", \"ARG\", \"PHL\", \"ZAF\", \"COL\", \"ARE\", \"VNM\", \"IRQ\", \"BGD\", \"DZA\", \"BEL\", \"CHE\", \"SGP\", \"ROU\", \"SWE\", \"KAZ\", \"AUT\", \"HKG\", \"CHL\", \"PER\", \"CZE\", \"UKR\", \"IRL\", \"QAT\", \"ISR\", \"PRT\", \"MMR\", \"NOR\", \"DNK\", \"GRC\", \"MAR\", \"KWT\", \"HUN\", \"LKA\", \"FIN\", \"UZB\", \"ETH\", \"SDN\", \"AGO\", \"NZL\", \"ECU\", \"OMN\", \"BLR\", \"SVK\", \"DOM\", \"AZE\", \"TZA\", \"KEN\", \"BGR\", \"GTM\", \"TUN\", \"PRI\", \"GHA\", \"LBY\", \"HRV\", \"SRB\", \"TKM\", \"PAN\", \"CIV\", \"LTU\", \"CMR\", \"PRY\", \"JOR\", \"LBN\", \"CRI\", \"BOL\", \"UGA\", \"NPL\", \"URY\", \"SVN\", \"YEM\", \"COD\", \"MAC\", \"BHR\", \"AFG\", \"ZMB\", \"KHM\", \"LUX\", \"LVA\", \"SEN\", \"SLV\", \"LAO\", \"HND\", \"BIH\", \"EST\", \"TTO\", \"MLI\", \"ZWE\", \"MDG\", \"MNG\", \"GEO\", \"BWA\", \"ALB\", \"MOZ\", \"GAB\", \"NIC\", \"BFA\", \"PNG\", \"BRN\", \"MKD\", \"GNQ\", \"CYP\", \"TCD\", \"COG\", \"GIN\", \"TJK\", \"ARM\", \"MUS\", \"NAM\", \"JAM\", \"BEN\", \"RWA\", \"KGZ\", \"PSE\", \"MWI\", \"NER\", \"SSD\", \"MDA\", \"HTI\", \"XKX\", \"MLT\", \"ISL\", \"MRT\", \"TGO\", \"BHS\", \"MNE\", \"SWZ\", \"SLE\", \"TLS\", \"FJI\", \"SUR\", \"BDI\", \"BTN\", \"MDV\", \"LSO\", \"GUY\", \"LBR\", \"BRB\", \"ABW\", \"CPV\", \"CYM\", \"GMB\", \"CAF\", \"BLZ\", \"GNB\", \"SYC\", \"LCA\", \"ATG\", \"COM\", \"SMR\", \"GRD\", \"KNA\", \"SLB\", \"SXM\", \"WSM\", \"VCT\", \"VUT\", \"DMA\", \"STP\", \"TON\", \"FSM\", \"PLW\", \"KIR\", \"MHL\", \"NRU\", \"TUV\"], \"name\": \"\", \"type\": \"choropleth\", \"z\": [16842.407827495048, 59957.726303631, 7168.992389311799, 42066.57311938497, 52574.2634604628, 26181.48340232451, 15662.247981176844, 12279.182000962599, 44896.26440565678, 44191.691363797756, 40923.69804906309, 19311.681984781146, 27878.609786316698, 38902.952812639705, 39037.38302272029, 53631.11019144995, 46719.42651298715, 21011.292728181863, 17865.5474195598, 49378.29903917834, 29923.718412824328, 11742.05260117799, 5887.575345722378, 5249.2082533725425, 30004.088085051717, 54422.035554111026, 20935.860072143343, 8340.22798797991, 13458.963684339971, 14552.13675710055, 73355.86684505433, 6857.981280138887, 17260.58584050007, 3998.419420913656, 15266.495378818405, 49398.083085966806, 66299.64599424503, 94104.63141985936, 26655.70377525426, 51404.80455865746, 26490.848982712723, 53879.33435225152, 61670.792916379185, 24190.329206577062, 13771.527472851436, 38019.5721566354, 8243.512014585398, 76807.40560154496, 124609.31822819487, 38867.70798664111, 32554.29453511063, 6172.3879555392805, 62182.8671312769, 54356.47651856555, 28579.839528450826, 8389.352000520274, 73525.3256885495, 28798.628846892196, 12862.572281290804, 46343.51533909176, 6879.272336562865, 1877.4337870450106, 4880.260392935692, 6650.591137571409, 40747.61676296961, 11501.03354941249, 41068.296064990194, 18895.55817778912, 32371.298006777426, 16451.521435431554, 17449.911117610423, 3000.0234524038583, 3258.2078984421664, 20948.150120400845, 8586.95907571992, 12039.243122128653, 39089.269313977806, 4457.364121475869, 19056.86973044303, 26295.59579016378, 15431.874565758202, 18032.297445372427, 24472.024371458745, 3921.723644948665, 33252.68711707632, 3644.7869406736004, 13002.94070448177, 9100.769564052092, 12958.403657848583, 16956.92525627511, 7480.040390056012, 1945.3645451019513, 2866.53073262349, 22742.522796936315, 36387.6483990422, 2645.31968788303, 888.4532939591072, 115364.16714183606, 47660.2899187055, 1934.6271255551515, 4090.1433561603844, 4016.574248126758, 107640.65895736631, 28361.98055037256, 3554.2282793323548, 8010.178891386232, 6942.292106971991, 4909.951868769298, 13715.837586867121, 33448.10624692573, 31303.284800212703, 2221.7547876303843, 2825.7161310397846, 1558.3558266661557, 12787.355814269415, 10674.344770016341, 17692.396994641582, 12943.29443593553, 1294.7394651409734, 17765.203119105125, 5701.147481031285, 1866.1736053090237, 4114.467964023352, 79790.70518030593, 15298.78059323841, 24549.108915127643, 26238.471449884717, 1930.1750116353228, 5614.4928817998, 2368.0056057825877, 3216.5695900168776, 9620.657910241376, 22356.246535501377, 11042.606706143295, 8970.667130458123, 2276.5579939301333, 2082.3079196560334, 3735.4393210932208, 5148.373497829872, 1269.6474188834798, 1012.8470482452193, 1899.959480362457, 7356.74687259315, 1818.642722342344, 10998.30653549994, 40797.09572029, 55323.23820617356, 4085.1599995703514, 1684.8791481429764, 31579.9675713339, 19354.95273734561, 10525.866568037605, 1544.3822611171818, 7536.631487676361, 9880.80354751618, 15002.734462643033, 737.9682542497366, 10173.451650285419, 14669.562169370793, 3130.89912461055, 8207.981981912255, 1293.4294126103625, 18526.864477541025, 39452.95446348917, 7027.015964740269, 56624.90928023729, 1612.091635823576, 737.3758384413671, 8499.902865856418, 1734.5441775438067, 29329.215487829053, 13821.115747008926, 25150.378303606984, 2750.979245403567, 63051.29042796471, 14737.449717697566, 30454.414449034488, 2333.1939286646393, 34061.22147187855, 6675.130021704411, 11773.061269086837, 3110.223810024167, 10383.72190657449, 3312.5854101376704, 6323.653404968724, 3508.016400649566, 18137.91554357592, 2224.98642232695, 3892.659065072858, 15066.790928859893, 3869.8328935795953]}],                        {\"coloraxis\": {\"colorbar\": {\"title\": {\"text\": \"per capita\"}}, \"colorscale\": [[0.0, \"#0d0887\"], [0.1111111111111111, \"#46039f\"], [0.2222222222222222, \"#7201a8\"], [0.3333333333333333, \"#9c179e\"], [0.4444444444444444, \"#bd3786\"], [0.5555555555555556, \"#d8576b\"], [0.6666666666666666, \"#ed7953\"], [0.7777777777777778, \"#fb9f3a\"], [0.8888888888888888, \"#fdca26\"], [1.0, \"#f0f921\"]]}, \"geo\": {\"center\": {}, \"domain\": {\"x\": [0.0, 1.0], \"y\": [0.0, 1.0]}}, \"legend\": {\"tracegroupgap\": 0}, \"margin\": {\"t\": 60}, \"template\": {\"data\": {\"bar\": [{\"error_x\": {\"color\": \"#2a3f5f\"}, \"error_y\": {\"color\": \"#2a3f5f\"}, \"marker\": {\"line\": {\"color\": \"#E5ECF6\", \"width\": 0.5}}, \"type\": \"bar\"}], \"barpolar\": [{\"marker\": {\"line\": {\"color\": \"#E5ECF6\", \"width\": 0.5}}, \"type\": \"barpolar\"}], \"carpet\": [{\"aaxis\": {\"endlinecolor\": \"#2a3f5f\", \"gridcolor\": \"white\", \"linecolor\": \"white\", \"minorgridcolor\": \"white\", \"startlinecolor\": \"#2a3f5f\"}, \"baxis\": {\"endlinecolor\": \"#2a3f5f\", \"gridcolor\": \"white\", \"linecolor\": \"white\", \"minorgridcolor\": \"white\", \"startlinecolor\": \"#2a3f5f\"}, \"type\": \"carpet\"}], \"choropleth\": [{\"colorbar\": {\"outlinewidth\": 0, \"ticks\": \"\"}, \"type\": \"choropleth\"}], \"contour\": [{\"colorbar\": {\"outlinewidth\": 0, \"ticks\": \"\"}, \"colorscale\": [[0.0, \"#0d0887\"], [0.1111111111111111, \"#46039f\"], [0.2222222222222222, \"#7201a8\"], [0.3333333333333333, \"#9c179e\"], [0.4444444444444444, \"#bd3786\"], [0.5555555555555556, \"#d8576b\"], [0.6666666666666666, \"#ed7953\"], [0.7777777777777778, \"#fb9f3a\"], [0.8888888888888888, \"#fdca26\"], [1.0, \"#f0f921\"]], \"type\": \"contour\"}], \"contourcarpet\": [{\"colorbar\": {\"outlinewidth\": 0, \"ticks\": \"\"}, \"type\": \"contourcarpet\"}], \"heatmap\": [{\"colorbar\": {\"outlinewidth\": 0, \"ticks\": \"\"}, \"colorscale\": [[0.0, \"#0d0887\"], [0.1111111111111111, \"#46039f\"], [0.2222222222222222, \"#7201a8\"], [0.3333333333333333, \"#9c179e\"], [0.4444444444444444, \"#bd3786\"], [0.5555555555555556, \"#d8576b\"], [0.6666666666666666, \"#ed7953\"], [0.7777777777777778, \"#fb9f3a\"], [0.8888888888888888, \"#fdca26\"], [1.0, \"#f0f921\"]], \"type\": \"heatmap\"}], \"heatmapgl\": [{\"colorbar\": {\"outlinewidth\": 0, \"ticks\": \"\"}, \"colorscale\": [[0.0, \"#0d0887\"], [0.1111111111111111, \"#46039f\"], [0.2222222222222222, \"#7201a8\"], [0.3333333333333333, \"#9c179e\"], [0.4444444444444444, \"#bd3786\"], [0.5555555555555556, \"#d8576b\"], [0.6666666666666666, \"#ed7953\"], [0.7777777777777778, \"#fb9f3a\"], [0.8888888888888888, \"#fdca26\"], [1.0, \"#f0f921\"]], \"type\": \"heatmapgl\"}], \"histogram\": [{\"marker\": {\"colorbar\": {\"outlinewidth\": 0, \"ticks\": \"\"}}, \"type\": \"histogram\"}], \"histogram2d\": [{\"colorbar\": {\"outlinewidth\": 0, \"ticks\": \"\"}, \"colorscale\": [[0.0, \"#0d0887\"], [0.1111111111111111, \"#46039f\"], [0.2222222222222222, \"#7201a8\"], [0.3333333333333333, \"#9c179e\"], [0.4444444444444444, \"#bd3786\"], [0.5555555555555556, \"#d8576b\"], [0.6666666666666666, \"#ed7953\"], [0.7777777777777778, \"#fb9f3a\"], [0.8888888888888888, \"#fdca26\"], [1.0, \"#f0f921\"]], \"type\": \"histogram2d\"}], \"histogram2dcontour\": [{\"colorbar\": {\"outlinewidth\": 0, \"ticks\": \"\"}, \"colorscale\": [[0.0, \"#0d0887\"], [0.1111111111111111, \"#46039f\"], [0.2222222222222222, \"#7201a8\"], [0.3333333333333333, \"#9c179e\"], [0.4444444444444444, \"#bd3786\"], [0.5555555555555556, \"#d8576b\"], [0.6666666666666666, \"#ed7953\"], [0.7777777777777778, \"#fb9f3a\"], [0.8888888888888888, \"#fdca26\"], [1.0, \"#f0f921\"]], \"type\": \"histogram2dcontour\"}], \"mesh3d\": [{\"colorbar\": {\"outlinewidth\": 0, \"ticks\": \"\"}, \"type\": \"mesh3d\"}], \"parcoords\": [{\"line\": {\"colorbar\": {\"outlinewidth\": 0, \"ticks\": \"\"}}, \"type\": \"parcoords\"}], \"pie\": [{\"automargin\": true, \"type\": \"pie\"}], \"scatter\": [{\"marker\": {\"colorbar\": {\"outlinewidth\": 0, \"ticks\": \"\"}}, \"type\": \"scatter\"}], \"scatter3d\": [{\"line\": {\"colorbar\": {\"outlinewidth\": 0, \"ticks\": \"\"}}, \"marker\": {\"colorbar\": {\"outlinewidth\": 0, \"ticks\": \"\"}}, \"type\": \"scatter3d\"}], \"scattercarpet\": [{\"marker\": {\"colorbar\": {\"outlinewidth\": 0, \"ticks\": \"\"}}, \"type\": \"scattercarpet\"}], \"scattergeo\": [{\"marker\": {\"colorbar\": {\"outlinewidth\": 0, \"ticks\": \"\"}}, \"type\": \"scattergeo\"}], \"scattergl\": [{\"marker\": {\"colorbar\": {\"outlinewidth\": 0, \"ticks\": \"\"}}, \"type\": \"scattergl\"}], \"scattermapbox\": [{\"marker\": {\"colorbar\": {\"outlinewidth\": 0, \"ticks\": \"\"}}, \"type\": \"scattermapbox\"}], \"scatterpolar\": [{\"marker\": {\"colorbar\": {\"outlinewidth\": 0, \"ticks\": \"\"}}, \"type\": \"scatterpolar\"}], \"scatterpolargl\": [{\"marker\": {\"colorbar\": {\"outlinewidth\": 0, \"ticks\": \"\"}}, \"type\": \"scatterpolargl\"}], \"scatterternary\": [{\"marker\": {\"colorbar\": {\"outlinewidth\": 0, \"ticks\": \"\"}}, \"type\": \"scatterternary\"}], \"surface\": [{\"colorbar\": {\"outlinewidth\": 0, \"ticks\": \"\"}, \"colorscale\": [[0.0, \"#0d0887\"], [0.1111111111111111, \"#46039f\"], [0.2222222222222222, \"#7201a8\"], [0.3333333333333333, \"#9c179e\"], [0.4444444444444444, \"#bd3786\"], [0.5555555555555556, \"#d8576b\"], [0.6666666666666666, \"#ed7953\"], [0.7777777777777778, \"#fb9f3a\"], [0.8888888888888888, \"#fdca26\"], [1.0, \"#f0f921\"]], \"type\": \"surface\"}], \"table\": [{\"cells\": {\"fill\": {\"color\": \"#EBF0F8\"}, \"line\": {\"color\": \"white\"}}, \"header\": {\"fill\": {\"color\": \"#C8D4E3\"}, \"line\": {\"color\": \"white\"}}, \"type\": \"table\"}]}, \"layout\": {\"annotationdefaults\": {\"arrowcolor\": \"#2a3f5f\", \"arrowhead\": 0, \"arrowwidth\": 1}, \"coloraxis\": {\"colorbar\": {\"outlinewidth\": 0, \"ticks\": \"\"}}, \"colorscale\": {\"diverging\": [[0, \"#8e0152\"], [0.1, \"#c51b7d\"], [0.2, \"#de77ae\"], [0.3, \"#f1b6da\"], [0.4, \"#fde0ef\"], [0.5, \"#f7f7f7\"], [0.6, \"#e6f5d0\"], [0.7, \"#b8e186\"], [0.8, \"#7fbc41\"], [0.9, \"#4d9221\"], [1, \"#276419\"]], \"sequential\": [[0.0, \"#0d0887\"], [0.1111111111111111, \"#46039f\"], [0.2222222222222222, \"#7201a8\"], [0.3333333333333333, \"#9c179e\"], [0.4444444444444444, \"#bd3786\"], [0.5555555555555556, \"#d8576b\"], [0.6666666666666666, \"#ed7953\"], [0.7777777777777778, \"#fb9f3a\"], [0.8888888888888888, \"#fdca26\"], [1.0, \"#f0f921\"]], \"sequentialminus\": [[0.0, \"#0d0887\"], [0.1111111111111111, \"#46039f\"], [0.2222222222222222, \"#7201a8\"], [0.3333333333333333, \"#9c179e\"], [0.4444444444444444, \"#bd3786\"], [0.5555555555555556, \"#d8576b\"], [0.6666666666666666, \"#ed7953\"], [0.7777777777777778, \"#fb9f3a\"], [0.8888888888888888, \"#fdca26\"], [1.0, \"#f0f921\"]]}, \"colorway\": [\"#636efa\", \"#EF553B\", \"#00cc96\", \"#ab63fa\", \"#FFA15A\", \"#19d3f3\", \"#FF6692\", \"#B6E880\", \"#FF97FF\", \"#FECB52\"], \"font\": {\"color\": \"#2a3f5f\"}, \"geo\": {\"bgcolor\": \"white\", \"lakecolor\": \"white\", \"landcolor\": \"#E5ECF6\", \"showlakes\": true, \"showland\": true, \"subunitcolor\": \"white\"}, \"hoverlabel\": {\"align\": \"left\"}, \"hovermode\": \"closest\", \"mapbox\": {\"style\": \"light\"}, \"paper_bgcolor\": \"white\", \"plot_bgcolor\": \"#E5ECF6\", \"polar\": {\"angularaxis\": {\"gridcolor\": \"white\", \"linecolor\": \"white\", \"ticks\": \"\"}, \"bgcolor\": \"#E5ECF6\", \"radialaxis\": {\"gridcolor\": \"white\", \"linecolor\": \"white\", \"ticks\": \"\"}}, \"scene\": {\"xaxis\": {\"backgroundcolor\": \"#E5ECF6\", \"gridcolor\": \"white\", \"gridwidth\": 2, \"linecolor\": \"white\", \"showbackground\": true, \"ticks\": \"\", \"zerolinecolor\": \"white\"}, \"yaxis\": {\"backgroundcolor\": \"#E5ECF6\", \"gridcolor\": \"white\", \"gridwidth\": 2, \"linecolor\": \"white\", \"showbackground\": true, \"ticks\": \"\", \"zerolinecolor\": \"white\"}, \"zaxis\": {\"backgroundcolor\": \"#E5ECF6\", \"gridcolor\": \"white\", \"gridwidth\": 2, \"linecolor\": \"white\", \"showbackground\": true, \"ticks\": \"\", \"zerolinecolor\": \"white\"}}, \"shapedefaults\": {\"line\": {\"color\": \"#2a3f5f\"}}, \"ternary\": {\"aaxis\": {\"gridcolor\": \"white\", \"linecolor\": \"white\", \"ticks\": \"\"}, \"baxis\": {\"gridcolor\": \"white\", \"linecolor\": \"white\", \"ticks\": \"\"}, \"bgcolor\": \"#E5ECF6\", \"caxis\": {\"gridcolor\": \"white\", \"linecolor\": \"white\", \"ticks\": \"\"}}, \"title\": {\"x\": 0.05}, \"xaxis\": {\"automargin\": true, \"gridcolor\": \"white\", \"linecolor\": \"white\", \"ticks\": \"\", \"title\": {\"standoff\": 15}, \"zerolinecolor\": \"white\", \"zerolinewidth\": 2}, \"yaxis\": {\"automargin\": true, \"gridcolor\": \"white\", \"linecolor\": \"white\", \"ticks\": \"\", \"title\": {\"standoff\": 15}, \"zerolinecolor\": \"white\", \"zerolinewidth\": 2}}}},                        {\"responsive\": true}                    ).then(function(){\n",
       "                            \n",
       "var gd = document.getElementById('44701165-b8e3-4058-8077-cd8294fc4184');\n",
       "var x = new MutationObserver(function (mutations, observer) {{\n",
       "        var display = window.getComputedStyle(gd).display;\n",
       "        if (!display || display === 'none') {{\n",
       "            console.log([gd, 'removed!']);\n",
       "            Plotly.purge(gd);\n",
       "            observer.disconnect();\n",
       "        }}\n",
       "}});\n",
       "\n",
       "// Listen for the removal of the full notebook cells\n",
       "var notebookContainer = gd.closest('#notebook-container');\n",
       "if (notebookContainer) {{\n",
       "    x.observe(notebookContainer, {childList: true});\n",
       "}}\n",
       "\n",
       "// Listen for the clearing of the current output cell\n",
       "var outputEl = gd.closest('.output');\n",
       "if (outputEl) {{\n",
       "    x.observe(outputEl, {childList: true});\n",
       "}}\n",
       "\n",
       "                        })                };                });            </script>        </div>"
      ]
     },
     "metadata": {},
     "output_type": "display_data"
    }
   ],
   "source": [
    "# world heat map for GDP per capita using plotly\n",
    "import plotly.express as px\n",
    "fig = px.choropleth(gdp_per_capita, locations='Country Code', \n",
    "                        color='per capita',\n",
    "                        hover_name=\"country_name\", # column to add to hover information\n",
    "                        color_continuous_scale=px.colors.sequential.Plasma)\n",
    "fig.show()"
   ]
  },
  {
   "cell_type": "code",
   "execution_count": 131,
   "metadata": {},
   "outputs": [
    {
     "data": {
      "application/vnd.plotly.v1+json": {
       "config": {
        "plotlyServerURL": "https://plot.ly"
       },
       "data": [
        {
         "coloraxis": "coloraxis",
         "geo": "geo",
         "hovertemplate": "<b>%{hovertext}</b><br><br>Country Code=%{location}<br>gdp=%{z}<extra></extra>",
         "hovertext": [
          "China",
          "United States",
          "India",
          "Japan",
          "Germany",
          "Russian Federation",
          "Brazil",
          "Indonesia",
          "United Kingdom",
          "France",
          "Italy",
          "Mexico",
          "Turkey",
          "Korea, Rep.",
          "Spain",
          "Saudi Arabia",
          "Canada",
          "Iran, Islamic Rep.",
          "Thailand",
          "Australia",
          "Poland",
          "Egypt, Arab Rep.",
          "Nigeria",
          "Pakistan",
          "Malaysia",
          "Netherlands",
          "Argentina",
          "Philippines",
          "South Africa",
          "Colombia",
          "United Arab Emirates",
          "Vietnam",
          "Iraq",
          "Bangladesh",
          "Algeria",
          "Belgium",
          "Switzerland",
          "Singapore",
          "Romania",
          "Sweden",
          "Kazakhstan",
          "Austria",
          "Hong Kong SAR, China",
          "Chile",
          "Peru",
          "Czech Republic",
          "Ukraine",
          "Ireland",
          "Qatar",
          "Israel",
          "Portugal",
          "Myanmar",
          "Norway",
          "Denmark",
          "Greece",
          "Morocco",
          "Kuwait",
          "Hungary",
          "Sri Lanka",
          "Finland",
          "Uzbekistan",
          "Ethiopia",
          "Sudan",
          "Angola",
          "New Zealand",
          "Ecuador",
          "Oman",
          "Belarus",
          "Slovak Republic",
          "Dominican Republic",
          "Azerbaijan",
          "Tanzania",
          "Kenya",
          "Bulgaria",
          "Guatemala",
          "Tunisia",
          "Puerto Rico",
          "Ghana",
          "Libya",
          "Croatia",
          "Serbia",
          "Turkmenistan",
          "Panama",
          "Côte d'Ivoire",
          "Lithuania",
          "Cameroon",
          "Paraguay",
          "Jordan",
          "Lebanon",
          "Costa Rica",
          "Bolivia",
          "Uganda",
          "Nepal",
          "Uruguay",
          "Slovenia",
          "Yemen, Rep.",
          "Congo, Dem. Rep.",
          "Macao SAR, China",
          "Bahrain",
          "Afghanistan",
          "Zambia",
          "Cambodia",
          "Luxembourg",
          "Latvia",
          "Senegal",
          "El Salvador",
          "Lao PDR",
          "Honduras",
          "Bosnia and Herzegovina",
          "Estonia",
          "Trinidad and Tobago",
          "Mali",
          "Zimbabwe",
          "Madagascar",
          "Mongolia",
          "Georgia",
          "Botswana",
          "Albania",
          "Mozambique",
          "Gabon",
          "Nicaragua",
          "Burkina Faso",
          "Papua New Guinea",
          "Brunei Darussalam",
          "North Macedonia",
          "Equatorial Guinea",
          "Cyprus",
          "Chad",
          "Congo, Rep.",
          "Guinea",
          "Tajikistan",
          "Armenia",
          "Mauritius",
          "Namibia",
          "Jamaica",
          "Benin",
          "Rwanda",
          "Kyrgyz Republic",
          "West Bank and Gaza",
          "Malawi",
          "Niger",
          "South Sudan",
          "Moldova",
          "Haiti",
          "Kosovo",
          "Malta",
          "Iceland",
          "Mauritania",
          "Togo",
          "Bahamas, The",
          "Montenegro",
          "Eswatini",
          "Sierra Leone",
          "Timor-Leste",
          "Fiji",
          "Suriname",
          "Burundi",
          "Bhutan",
          "Maldives",
          "Lesotho",
          "Guyana",
          "Liberia",
          "Barbados",
          "Aruba",
          "Cabo Verde",
          "Cayman Islands",
          "Gambia, The",
          "Central African Republic",
          "Belize",
          "Guinea-Bissau",
          "Seychelles",
          "St. Lucia",
          "Antigua and Barbuda",
          "Comoros",
          "San Marino",
          "Grenada",
          "St. Kitts and Nevis",
          "Solomon Islands",
          "Sint Maarten (Dutch part)",
          "Samoa",
          "St. Vincent and the Grenadines",
          "Vanuatu",
          "Dominica",
          "São Tomé and Principe",
          "Tonga",
          "Micronesia, Fed. Sts.",
          "Palau",
          "Kiribati",
          "Marshall Islands",
          "Nauru",
          "Tuvalu"
         ],
         "locations": [
          "CHN",
          "USA",
          "IND",
          "JPN",
          "DEU",
          "RUS",
          "BRA",
          "IDN",
          "GBR",
          "FRA",
          "ITA",
          "MEX",
          "TUR",
          "KOR",
          "ESP",
          "SAU",
          "CAN",
          "IRN",
          "THA",
          "AUS",
          "POL",
          "EGY",
          "NGA",
          "PAK",
          "MYS",
          "NLD",
          "ARG",
          "PHL",
          "ZAF",
          "COL",
          "ARE",
          "VNM",
          "IRQ",
          "BGD",
          "DZA",
          "BEL",
          "CHE",
          "SGP",
          "ROU",
          "SWE",
          "KAZ",
          "AUT",
          "HKG",
          "CHL",
          "PER",
          "CZE",
          "UKR",
          "IRL",
          "QAT",
          "ISR",
          "PRT",
          "MMR",
          "NOR",
          "DNK",
          "GRC",
          "MAR",
          "KWT",
          "HUN",
          "LKA",
          "FIN",
          "UZB",
          "ETH",
          "SDN",
          "AGO",
          "NZL",
          "ECU",
          "OMN",
          "BLR",
          "SVK",
          "DOM",
          "AZE",
          "TZA",
          "KEN",
          "BGR",
          "GTM",
          "TUN",
          "PRI",
          "GHA",
          "LBY",
          "HRV",
          "SRB",
          "TKM",
          "PAN",
          "CIV",
          "LTU",
          "CMR",
          "PRY",
          "JOR",
          "LBN",
          "CRI",
          "BOL",
          "UGA",
          "NPL",
          "URY",
          "SVN",
          "YEM",
          "COD",
          "MAC",
          "BHR",
          "AFG",
          "ZMB",
          "KHM",
          "LUX",
          "LVA",
          "SEN",
          "SLV",
          "LAO",
          "HND",
          "BIH",
          "EST",
          "TTO",
          "MLI",
          "ZWE",
          "MDG",
          "MNG",
          "GEO",
          "BWA",
          "ALB",
          "MOZ",
          "GAB",
          "NIC",
          "BFA",
          "PNG",
          "BRN",
          "MKD",
          "GNQ",
          "CYP",
          "TCD",
          "COG",
          "GIN",
          "TJK",
          "ARM",
          "MUS",
          "NAM",
          "JAM",
          "BEN",
          "RWA",
          "KGZ",
          "PSE",
          "MWI",
          "NER",
          "SSD",
          "MDA",
          "HTI",
          "XKX",
          "MLT",
          "ISL",
          "MRT",
          "TGO",
          "BHS",
          "MNE",
          "SWZ",
          "SLE",
          "TLS",
          "FJI",
          "SUR",
          "BDI",
          "BTN",
          "MDV",
          "LSO",
          "GUY",
          "LBR",
          "BRB",
          "ABW",
          "CPV",
          "CYM",
          "GMB",
          "CAF",
          "BLZ",
          "GNB",
          "SYC",
          "LCA",
          "ATG",
          "COM",
          "SMR",
          "GRD",
          "KNA",
          "SLB",
          "SXM",
          "WSM",
          "VCT",
          "VUT",
          "DMA",
          "STP",
          "TON",
          "FSM",
          "PLW",
          "KIR",
          "MHL",
          "NRU",
          "TUV"
         ],
         "name": "",
         "type": "choropleth",
         "z": [
          23350230,
          19485394,
          9596835,
          5333444,
          4345631,
          3783139,
          3255145,
          3249635,
          2965796,
          2954850,
          2477386,
          2409660,
          2261008,
          1998130,
          1818878,
          1775144,
          1707283,
          1695064,
          1236472,
          1214798,
          1136348,
          1132434,
          1123781,
          1091293,
          933278,
          932320,
          922116,
          877169,
          767167,
          711615,
          695942,
          648742,
          648183,
          638430,
          631868,
          561911,
          560354,
          528139,
          522113,
          517014,
          477836,
          474007,
          455852,
          446806,
          433036,
          402796,
          369566,
          369243,
          339526,
          338666,
          335319,
          329498,
          328137,
          313364,
          307367,
          298504,
          298226,
          281880,
          275825,
          255270,
          222810,
          199759,
          199180,
          198299,
          195340,
          193049,
          191622,
          179475,
          176075,
          172957,
          171952,
          163993,
          163632,
          148228,
          138142,
          137650,
          129983,
          129805,
          125408,
          108457,
          108345,
          103824,
          100501,
          95837,
          94052,
          89538,
          89292,
          88998,
          88271,
          83936,
          83723,
          80076,
          79194,
          78158,
          75191,
          73632,
          72319,
          71824,
          71208,
          70220,
          68934,
          64303,
          64190,
          55086,
          54804,
          51170,
          48270,
          46296,
          45969,
          44064,
          43326,
          41130,
          40229,
          39848,
          39817,
          39794,
          39014,
          37192,
          37093,
          36682,
          36401,
          35818,
          34718,
          33869,
          31852,
          30981,
          30953,
          28985,
          28694,
          28576,
          28564,
          28331,
          28272,
          26531,
          26202,
          25441,
          24948,
          23153,
          22935,
          22435,
          21880,
          20730,
          20269,
          19973,
          19698,
          19093,
          18998,
          17495,
          12971,
          12056,
          12046,
          11839,
          11565,
          9370,
          8670,
          8559,
          7990,
          7585,
          7282,
          6548,
          6363,
          6082,
          5303,
          4157,
          3777,
          3589,
          3569,
          3389,
          3194,
          3171,
          2811,
          2501,
          2400,
          2239,
          2123,
          1634,
          1585,
          1484,
          1382,
          1304,
          1293,
          888,
          742,
          686,
          645,
          391,
          323,
          254,
          226,
          194,
          44
         ]
        }
       ],
       "layout": {
        "coloraxis": {
         "colorbar": {
          "title": {
           "text": "gdp"
          }
         },
         "colorscale": [
          [
           0,
           "#0d0887"
          ],
          [
           0.1111111111111111,
           "#46039f"
          ],
          [
           0.2222222222222222,
           "#7201a8"
          ],
          [
           0.3333333333333333,
           "#9c179e"
          ],
          [
           0.4444444444444444,
           "#bd3786"
          ],
          [
           0.5555555555555556,
           "#d8576b"
          ],
          [
           0.6666666666666666,
           "#ed7953"
          ],
          [
           0.7777777777777778,
           "#fb9f3a"
          ],
          [
           0.8888888888888888,
           "#fdca26"
          ],
          [
           1,
           "#f0f921"
          ]
         ]
        },
        "geo": {
         "center": {},
         "domain": {
          "x": [
           0,
           1
          ],
          "y": [
           0,
           1
          ]
         }
        },
        "legend": {
         "tracegroupgap": 0
        },
        "margin": {
         "t": 60
        },
        "template": {
         "data": {
          "bar": [
           {
            "error_x": {
             "color": "#2a3f5f"
            },
            "error_y": {
             "color": "#2a3f5f"
            },
            "marker": {
             "line": {
              "color": "#E5ECF6",
              "width": 0.5
             }
            },
            "type": "bar"
           }
          ],
          "barpolar": [
           {
            "marker": {
             "line": {
              "color": "#E5ECF6",
              "width": 0.5
             }
            },
            "type": "barpolar"
           }
          ],
          "carpet": [
           {
            "aaxis": {
             "endlinecolor": "#2a3f5f",
             "gridcolor": "white",
             "linecolor": "white",
             "minorgridcolor": "white",
             "startlinecolor": "#2a3f5f"
            },
            "baxis": {
             "endlinecolor": "#2a3f5f",
             "gridcolor": "white",
             "linecolor": "white",
             "minorgridcolor": "white",
             "startlinecolor": "#2a3f5f"
            },
            "type": "carpet"
           }
          ],
          "choropleth": [
           {
            "colorbar": {
             "outlinewidth": 0,
             "ticks": ""
            },
            "type": "choropleth"
           }
          ],
          "contour": [
           {
            "colorbar": {
             "outlinewidth": 0,
             "ticks": ""
            },
            "colorscale": [
             [
              0,
              "#0d0887"
             ],
             [
              0.1111111111111111,
              "#46039f"
             ],
             [
              0.2222222222222222,
              "#7201a8"
             ],
             [
              0.3333333333333333,
              "#9c179e"
             ],
             [
              0.4444444444444444,
              "#bd3786"
             ],
             [
              0.5555555555555556,
              "#d8576b"
             ],
             [
              0.6666666666666666,
              "#ed7953"
             ],
             [
              0.7777777777777778,
              "#fb9f3a"
             ],
             [
              0.8888888888888888,
              "#fdca26"
             ],
             [
              1,
              "#f0f921"
             ]
            ],
            "type": "contour"
           }
          ],
          "contourcarpet": [
           {
            "colorbar": {
             "outlinewidth": 0,
             "ticks": ""
            },
            "type": "contourcarpet"
           }
          ],
          "heatmap": [
           {
            "colorbar": {
             "outlinewidth": 0,
             "ticks": ""
            },
            "colorscale": [
             [
              0,
              "#0d0887"
             ],
             [
              0.1111111111111111,
              "#46039f"
             ],
             [
              0.2222222222222222,
              "#7201a8"
             ],
             [
              0.3333333333333333,
              "#9c179e"
             ],
             [
              0.4444444444444444,
              "#bd3786"
             ],
             [
              0.5555555555555556,
              "#d8576b"
             ],
             [
              0.6666666666666666,
              "#ed7953"
             ],
             [
              0.7777777777777778,
              "#fb9f3a"
             ],
             [
              0.8888888888888888,
              "#fdca26"
             ],
             [
              1,
              "#f0f921"
             ]
            ],
            "type": "heatmap"
           }
          ],
          "heatmapgl": [
           {
            "colorbar": {
             "outlinewidth": 0,
             "ticks": ""
            },
            "colorscale": [
             [
              0,
              "#0d0887"
             ],
             [
              0.1111111111111111,
              "#46039f"
             ],
             [
              0.2222222222222222,
              "#7201a8"
             ],
             [
              0.3333333333333333,
              "#9c179e"
             ],
             [
              0.4444444444444444,
              "#bd3786"
             ],
             [
              0.5555555555555556,
              "#d8576b"
             ],
             [
              0.6666666666666666,
              "#ed7953"
             ],
             [
              0.7777777777777778,
              "#fb9f3a"
             ],
             [
              0.8888888888888888,
              "#fdca26"
             ],
             [
              1,
              "#f0f921"
             ]
            ],
            "type": "heatmapgl"
           }
          ],
          "histogram": [
           {
            "marker": {
             "colorbar": {
              "outlinewidth": 0,
              "ticks": ""
             }
            },
            "type": "histogram"
           }
          ],
          "histogram2d": [
           {
            "colorbar": {
             "outlinewidth": 0,
             "ticks": ""
            },
            "colorscale": [
             [
              0,
              "#0d0887"
             ],
             [
              0.1111111111111111,
              "#46039f"
             ],
             [
              0.2222222222222222,
              "#7201a8"
             ],
             [
              0.3333333333333333,
              "#9c179e"
             ],
             [
              0.4444444444444444,
              "#bd3786"
             ],
             [
              0.5555555555555556,
              "#d8576b"
             ],
             [
              0.6666666666666666,
              "#ed7953"
             ],
             [
              0.7777777777777778,
              "#fb9f3a"
             ],
             [
              0.8888888888888888,
              "#fdca26"
             ],
             [
              1,
              "#f0f921"
             ]
            ],
            "type": "histogram2d"
           }
          ],
          "histogram2dcontour": [
           {
            "colorbar": {
             "outlinewidth": 0,
             "ticks": ""
            },
            "colorscale": [
             [
              0,
              "#0d0887"
             ],
             [
              0.1111111111111111,
              "#46039f"
             ],
             [
              0.2222222222222222,
              "#7201a8"
             ],
             [
              0.3333333333333333,
              "#9c179e"
             ],
             [
              0.4444444444444444,
              "#bd3786"
             ],
             [
              0.5555555555555556,
              "#d8576b"
             ],
             [
              0.6666666666666666,
              "#ed7953"
             ],
             [
              0.7777777777777778,
              "#fb9f3a"
             ],
             [
              0.8888888888888888,
              "#fdca26"
             ],
             [
              1,
              "#f0f921"
             ]
            ],
            "type": "histogram2dcontour"
           }
          ],
          "mesh3d": [
           {
            "colorbar": {
             "outlinewidth": 0,
             "ticks": ""
            },
            "type": "mesh3d"
           }
          ],
          "parcoords": [
           {
            "line": {
             "colorbar": {
              "outlinewidth": 0,
              "ticks": ""
             }
            },
            "type": "parcoords"
           }
          ],
          "pie": [
           {
            "automargin": true,
            "type": "pie"
           }
          ],
          "scatter": [
           {
            "marker": {
             "colorbar": {
              "outlinewidth": 0,
              "ticks": ""
             }
            },
            "type": "scatter"
           }
          ],
          "scatter3d": [
           {
            "line": {
             "colorbar": {
              "outlinewidth": 0,
              "ticks": ""
             }
            },
            "marker": {
             "colorbar": {
              "outlinewidth": 0,
              "ticks": ""
             }
            },
            "type": "scatter3d"
           }
          ],
          "scattercarpet": [
           {
            "marker": {
             "colorbar": {
              "outlinewidth": 0,
              "ticks": ""
             }
            },
            "type": "scattercarpet"
           }
          ],
          "scattergeo": [
           {
            "marker": {
             "colorbar": {
              "outlinewidth": 0,
              "ticks": ""
             }
            },
            "type": "scattergeo"
           }
          ],
          "scattergl": [
           {
            "marker": {
             "colorbar": {
              "outlinewidth": 0,
              "ticks": ""
             }
            },
            "type": "scattergl"
           }
          ],
          "scattermapbox": [
           {
            "marker": {
             "colorbar": {
              "outlinewidth": 0,
              "ticks": ""
             }
            },
            "type": "scattermapbox"
           }
          ],
          "scatterpolar": [
           {
            "marker": {
             "colorbar": {
              "outlinewidth": 0,
              "ticks": ""
             }
            },
            "type": "scatterpolar"
           }
          ],
          "scatterpolargl": [
           {
            "marker": {
             "colorbar": {
              "outlinewidth": 0,
              "ticks": ""
             }
            },
            "type": "scatterpolargl"
           }
          ],
          "scatterternary": [
           {
            "marker": {
             "colorbar": {
              "outlinewidth": 0,
              "ticks": ""
             }
            },
            "type": "scatterternary"
           }
          ],
          "surface": [
           {
            "colorbar": {
             "outlinewidth": 0,
             "ticks": ""
            },
            "colorscale": [
             [
              0,
              "#0d0887"
             ],
             [
              0.1111111111111111,
              "#46039f"
             ],
             [
              0.2222222222222222,
              "#7201a8"
             ],
             [
              0.3333333333333333,
              "#9c179e"
             ],
             [
              0.4444444444444444,
              "#bd3786"
             ],
             [
              0.5555555555555556,
              "#d8576b"
             ],
             [
              0.6666666666666666,
              "#ed7953"
             ],
             [
              0.7777777777777778,
              "#fb9f3a"
             ],
             [
              0.8888888888888888,
              "#fdca26"
             ],
             [
              1,
              "#f0f921"
             ]
            ],
            "type": "surface"
           }
          ],
          "table": [
           {
            "cells": {
             "fill": {
              "color": "#EBF0F8"
             },
             "line": {
              "color": "white"
             }
            },
            "header": {
             "fill": {
              "color": "#C8D4E3"
             },
             "line": {
              "color": "white"
             }
            },
            "type": "table"
           }
          ]
         },
         "layout": {
          "annotationdefaults": {
           "arrowcolor": "#2a3f5f",
           "arrowhead": 0,
           "arrowwidth": 1
          },
          "coloraxis": {
           "colorbar": {
            "outlinewidth": 0,
            "ticks": ""
           }
          },
          "colorscale": {
           "diverging": [
            [
             0,
             "#8e0152"
            ],
            [
             0.1,
             "#c51b7d"
            ],
            [
             0.2,
             "#de77ae"
            ],
            [
             0.3,
             "#f1b6da"
            ],
            [
             0.4,
             "#fde0ef"
            ],
            [
             0.5,
             "#f7f7f7"
            ],
            [
             0.6,
             "#e6f5d0"
            ],
            [
             0.7,
             "#b8e186"
            ],
            [
             0.8,
             "#7fbc41"
            ],
            [
             0.9,
             "#4d9221"
            ],
            [
             1,
             "#276419"
            ]
           ],
           "sequential": [
            [
             0,
             "#0d0887"
            ],
            [
             0.1111111111111111,
             "#46039f"
            ],
            [
             0.2222222222222222,
             "#7201a8"
            ],
            [
             0.3333333333333333,
             "#9c179e"
            ],
            [
             0.4444444444444444,
             "#bd3786"
            ],
            [
             0.5555555555555556,
             "#d8576b"
            ],
            [
             0.6666666666666666,
             "#ed7953"
            ],
            [
             0.7777777777777778,
             "#fb9f3a"
            ],
            [
             0.8888888888888888,
             "#fdca26"
            ],
            [
             1,
             "#f0f921"
            ]
           ],
           "sequentialminus": [
            [
             0,
             "#0d0887"
            ],
            [
             0.1111111111111111,
             "#46039f"
            ],
            [
             0.2222222222222222,
             "#7201a8"
            ],
            [
             0.3333333333333333,
             "#9c179e"
            ],
            [
             0.4444444444444444,
             "#bd3786"
            ],
            [
             0.5555555555555556,
             "#d8576b"
            ],
            [
             0.6666666666666666,
             "#ed7953"
            ],
            [
             0.7777777777777778,
             "#fb9f3a"
            ],
            [
             0.8888888888888888,
             "#fdca26"
            ],
            [
             1,
             "#f0f921"
            ]
           ]
          },
          "colorway": [
           "#636efa",
           "#EF553B",
           "#00cc96",
           "#ab63fa",
           "#FFA15A",
           "#19d3f3",
           "#FF6692",
           "#B6E880",
           "#FF97FF",
           "#FECB52"
          ],
          "font": {
           "color": "#2a3f5f"
          },
          "geo": {
           "bgcolor": "white",
           "lakecolor": "white",
           "landcolor": "#E5ECF6",
           "showlakes": true,
           "showland": true,
           "subunitcolor": "white"
          },
          "hoverlabel": {
           "align": "left"
          },
          "hovermode": "closest",
          "mapbox": {
           "style": "light"
          },
          "paper_bgcolor": "white",
          "plot_bgcolor": "#E5ECF6",
          "polar": {
           "angularaxis": {
            "gridcolor": "white",
            "linecolor": "white",
            "ticks": ""
           },
           "bgcolor": "#E5ECF6",
           "radialaxis": {
            "gridcolor": "white",
            "linecolor": "white",
            "ticks": ""
           }
          },
          "scene": {
           "xaxis": {
            "backgroundcolor": "#E5ECF6",
            "gridcolor": "white",
            "gridwidth": 2,
            "linecolor": "white",
            "showbackground": true,
            "ticks": "",
            "zerolinecolor": "white"
           },
           "yaxis": {
            "backgroundcolor": "#E5ECF6",
            "gridcolor": "white",
            "gridwidth": 2,
            "linecolor": "white",
            "showbackground": true,
            "ticks": "",
            "zerolinecolor": "white"
           },
           "zaxis": {
            "backgroundcolor": "#E5ECF6",
            "gridcolor": "white",
            "gridwidth": 2,
            "linecolor": "white",
            "showbackground": true,
            "ticks": "",
            "zerolinecolor": "white"
           }
          },
          "shapedefaults": {
           "line": {
            "color": "#2a3f5f"
           }
          },
          "ternary": {
           "aaxis": {
            "gridcolor": "white",
            "linecolor": "white",
            "ticks": ""
           },
           "baxis": {
            "gridcolor": "white",
            "linecolor": "white",
            "ticks": ""
           },
           "bgcolor": "#E5ECF6",
           "caxis": {
            "gridcolor": "white",
            "linecolor": "white",
            "ticks": ""
           }
          },
          "title": {
           "x": 0.05
          },
          "xaxis": {
           "automargin": true,
           "gridcolor": "white",
           "linecolor": "white",
           "ticks": "",
           "title": {
            "standoff": 15
           },
           "zerolinecolor": "white",
           "zerolinewidth": 2
          },
          "yaxis": {
           "automargin": true,
           "gridcolor": "white",
           "linecolor": "white",
           "ticks": "",
           "title": {
            "standoff": 15
           },
           "zerolinecolor": "white",
           "zerolinewidth": 2
          }
         }
        }
       }
      },
      "text/html": [
       "<div>                            <div id=\"94683416-00c7-45be-9a15-2ee5aec639c6\" class=\"plotly-graph-div\" style=\"height:525px; width:100%;\"></div>            <script type=\"text/javascript\">                require([\"plotly\"], function(Plotly) {                    window.PLOTLYENV=window.PLOTLYENV || {};                                    if (document.getElementById(\"94683416-00c7-45be-9a15-2ee5aec639c6\")) {                    Plotly.newPlot(                        \"94683416-00c7-45be-9a15-2ee5aec639c6\",                        [{\"coloraxis\": \"coloraxis\", \"geo\": \"geo\", \"hovertemplate\": \"<b>%{hovertext}</b><br><br>Country Code=%{location}<br>gdp=%{z}<extra></extra>\", \"hovertext\": [\"China\", \"United States\", \"India\", \"Japan\", \"Germany\", \"Russian Federation\", \"Brazil\", \"Indonesia\", \"United Kingdom\", \"France\", \"Italy\", \"Mexico\", \"Turkey\", \"Korea, Rep.\", \"Spain\", \"Saudi Arabia\", \"Canada\", \"Iran, Islamic Rep.\", \"Thailand\", \"Australia\", \"Poland\", \"Egypt, Arab Rep.\", \"Nigeria\", \"Pakistan\", \"Malaysia\", \"Netherlands\", \"Argentina\", \"Philippines\", \"South Africa\", \"Colombia\", \"United Arab Emirates\", \"Vietnam\", \"Iraq\", \"Bangladesh\", \"Algeria\", \"Belgium\", \"Switzerland\", \"Singapore\", \"Romania\", \"Sweden\", \"Kazakhstan\", \"Austria\", \"Hong Kong SAR, China\", \"Chile\", \"Peru\", \"Czech Republic\", \"Ukraine\", \"Ireland\", \"Qatar\", \"Israel\", \"Portugal\", \"Myanmar\", \"Norway\", \"Denmark\", \"Greece\", \"Morocco\", \"Kuwait\", \"Hungary\", \"Sri Lanka\", \"Finland\", \"Uzbekistan\", \"Ethiopia\", \"Sudan\", \"Angola\", \"New Zealand\", \"Ecuador\", \"Oman\", \"Belarus\", \"Slovak Republic\", \"Dominican Republic\", \"Azerbaijan\", \"Tanzania\", \"Kenya\", \"Bulgaria\", \"Guatemala\", \"Tunisia\", \"Puerto Rico\", \"Ghana\", \"Libya\", \"Croatia\", \"Serbia\", \"Turkmenistan\", \"Panama\", \"C\\u00f4te d'Ivoire\", \"Lithuania\", \"Cameroon\", \"Paraguay\", \"Jordan\", \"Lebanon\", \"Costa Rica\", \"Bolivia\", \"Uganda\", \"Nepal\", \"Uruguay\", \"Slovenia\", \"Yemen, Rep.\", \"Congo, Dem. Rep.\", \"Macao SAR, China\", \"Bahrain\", \"Afghanistan\", \"Zambia\", \"Cambodia\", \"Luxembourg\", \"Latvia\", \"Senegal\", \"El Salvador\", \"Lao PDR\", \"Honduras\", \"Bosnia and Herzegovina\", \"Estonia\", \"Trinidad and Tobago\", \"Mali\", \"Zimbabwe\", \"Madagascar\", \"Mongolia\", \"Georgia\", \"Botswana\", \"Albania\", \"Mozambique\", \"Gabon\", \"Nicaragua\", \"Burkina Faso\", \"Papua New Guinea\", \"Brunei Darussalam\", \"North Macedonia\", \"Equatorial Guinea\", \"Cyprus\", \"Chad\", \"Congo, Rep.\", \"Guinea\", \"Tajikistan\", \"Armenia\", \"Mauritius\", \"Namibia\", \"Jamaica\", \"Benin\", \"Rwanda\", \"Kyrgyz Republic\", \"West Bank and Gaza\", \"Malawi\", \"Niger\", \"South Sudan\", \"Moldova\", \"Haiti\", \"Kosovo\", \"Malta\", \"Iceland\", \"Mauritania\", \"Togo\", \"Bahamas, The\", \"Montenegro\", \"Eswatini\", \"Sierra Leone\", \"Timor-Leste\", \"Fiji\", \"Suriname\", \"Burundi\", \"Bhutan\", \"Maldives\", \"Lesotho\", \"Guyana\", \"Liberia\", \"Barbados\", \"Aruba\", \"Cabo Verde\", \"Cayman Islands\", \"Gambia, The\", \"Central African Republic\", \"Belize\", \"Guinea-Bissau\", \"Seychelles\", \"St. Lucia\", \"Antigua and Barbuda\", \"Comoros\", \"San Marino\", \"Grenada\", \"St. Kitts and Nevis\", \"Solomon Islands\", \"Sint Maarten (Dutch part)\", \"Samoa\", \"St. Vincent and the Grenadines\", \"Vanuatu\", \"Dominica\", \"S\\u00e3o Tom\\u00e9 and Principe\", \"Tonga\", \"Micronesia, Fed. Sts.\", \"Palau\", \"Kiribati\", \"Marshall Islands\", \"Nauru\", \"Tuvalu\"], \"locations\": [\"CHN\", \"USA\", \"IND\", \"JPN\", \"DEU\", \"RUS\", \"BRA\", \"IDN\", \"GBR\", \"FRA\", \"ITA\", \"MEX\", \"TUR\", \"KOR\", \"ESP\", \"SAU\", \"CAN\", \"IRN\", \"THA\", \"AUS\", \"POL\", \"EGY\", \"NGA\", \"PAK\", \"MYS\", \"NLD\", \"ARG\", \"PHL\", \"ZAF\", \"COL\", \"ARE\", \"VNM\", \"IRQ\", \"BGD\", \"DZA\", \"BEL\", \"CHE\", \"SGP\", \"ROU\", \"SWE\", \"KAZ\", \"AUT\", \"HKG\", \"CHL\", \"PER\", \"CZE\", \"UKR\", \"IRL\", \"QAT\", \"ISR\", \"PRT\", \"MMR\", \"NOR\", \"DNK\", \"GRC\", \"MAR\", \"KWT\", \"HUN\", \"LKA\", \"FIN\", \"UZB\", \"ETH\", \"SDN\", \"AGO\", \"NZL\", \"ECU\", \"OMN\", \"BLR\", \"SVK\", \"DOM\", \"AZE\", \"TZA\", \"KEN\", \"BGR\", \"GTM\", \"TUN\", \"PRI\", \"GHA\", \"LBY\", \"HRV\", \"SRB\", \"TKM\", \"PAN\", \"CIV\", \"LTU\", \"CMR\", \"PRY\", \"JOR\", \"LBN\", \"CRI\", \"BOL\", \"UGA\", \"NPL\", \"URY\", \"SVN\", \"YEM\", \"COD\", \"MAC\", \"BHR\", \"AFG\", \"ZMB\", \"KHM\", \"LUX\", \"LVA\", \"SEN\", \"SLV\", \"LAO\", \"HND\", \"BIH\", \"EST\", \"TTO\", \"MLI\", \"ZWE\", \"MDG\", \"MNG\", \"GEO\", \"BWA\", \"ALB\", \"MOZ\", \"GAB\", \"NIC\", \"BFA\", \"PNG\", \"BRN\", \"MKD\", \"GNQ\", \"CYP\", \"TCD\", \"COG\", \"GIN\", \"TJK\", \"ARM\", \"MUS\", \"NAM\", \"JAM\", \"BEN\", \"RWA\", \"KGZ\", \"PSE\", \"MWI\", \"NER\", \"SSD\", \"MDA\", \"HTI\", \"XKX\", \"MLT\", \"ISL\", \"MRT\", \"TGO\", \"BHS\", \"MNE\", \"SWZ\", \"SLE\", \"TLS\", \"FJI\", \"SUR\", \"BDI\", \"BTN\", \"MDV\", \"LSO\", \"GUY\", \"LBR\", \"BRB\", \"ABW\", \"CPV\", \"CYM\", \"GMB\", \"CAF\", \"BLZ\", \"GNB\", \"SYC\", \"LCA\", \"ATG\", \"COM\", \"SMR\", \"GRD\", \"KNA\", \"SLB\", \"SXM\", \"WSM\", \"VCT\", \"VUT\", \"DMA\", \"STP\", \"TON\", \"FSM\", \"PLW\", \"KIR\", \"MHL\", \"NRU\", \"TUV\"], \"name\": \"\", \"type\": \"choropleth\", \"z\": [23350230, 19485394, 9596835, 5333444, 4345631, 3783139, 3255145, 3249635, 2965796, 2954850, 2477386, 2409660, 2261008, 1998130, 1818878, 1775144, 1707283, 1695064, 1236472, 1214798, 1136348, 1132434, 1123781, 1091293, 933278, 932320, 922116, 877169, 767167, 711615, 695942, 648742, 648183, 638430, 631868, 561911, 560354, 528139, 522113, 517014, 477836, 474007, 455852, 446806, 433036, 402796, 369566, 369243, 339526, 338666, 335319, 329498, 328137, 313364, 307367, 298504, 298226, 281880, 275825, 255270, 222810, 199759, 199180, 198299, 195340, 193049, 191622, 179475, 176075, 172957, 171952, 163993, 163632, 148228, 138142, 137650, 129983, 129805, 125408, 108457, 108345, 103824, 100501, 95837, 94052, 89538, 89292, 88998, 88271, 83936, 83723, 80076, 79194, 78158, 75191, 73632, 72319, 71824, 71208, 70220, 68934, 64303, 64190, 55086, 54804, 51170, 48270, 46296, 45969, 44064, 43326, 41130, 40229, 39848, 39817, 39794, 39014, 37192, 37093, 36682, 36401, 35818, 34718, 33869, 31852, 30981, 30953, 28985, 28694, 28576, 28564, 28331, 28272, 26531, 26202, 25441, 24948, 23153, 22935, 22435, 21880, 20730, 20269, 19973, 19698, 19093, 18998, 17495, 12971, 12056, 12046, 11839, 11565, 9370, 8670, 8559, 7990, 7585, 7282, 6548, 6363, 6082, 5303, 4157, 3777, 3589, 3569, 3389, 3194, 3171, 2811, 2501, 2400, 2239, 2123, 1634, 1585, 1484, 1382, 1304, 1293, 888, 742, 686, 645, 391, 323, 254, 226, 194, 44]}],                        {\"coloraxis\": {\"colorbar\": {\"title\": {\"text\": \"gdp\"}}, \"colorscale\": [[0.0, \"#0d0887\"], [0.1111111111111111, \"#46039f\"], [0.2222222222222222, \"#7201a8\"], [0.3333333333333333, \"#9c179e\"], [0.4444444444444444, \"#bd3786\"], [0.5555555555555556, \"#d8576b\"], [0.6666666666666666, \"#ed7953\"], [0.7777777777777778, \"#fb9f3a\"], [0.8888888888888888, \"#fdca26\"], [1.0, \"#f0f921\"]]}, \"geo\": {\"center\": {}, \"domain\": {\"x\": [0.0, 1.0], \"y\": [0.0, 1.0]}}, \"legend\": {\"tracegroupgap\": 0}, \"margin\": {\"t\": 60}, \"template\": {\"data\": {\"bar\": [{\"error_x\": {\"color\": \"#2a3f5f\"}, \"error_y\": {\"color\": \"#2a3f5f\"}, \"marker\": {\"line\": {\"color\": \"#E5ECF6\", \"width\": 0.5}}, \"type\": \"bar\"}], \"barpolar\": [{\"marker\": {\"line\": {\"color\": \"#E5ECF6\", \"width\": 0.5}}, \"type\": \"barpolar\"}], \"carpet\": [{\"aaxis\": {\"endlinecolor\": \"#2a3f5f\", \"gridcolor\": \"white\", \"linecolor\": \"white\", \"minorgridcolor\": \"white\", \"startlinecolor\": \"#2a3f5f\"}, \"baxis\": {\"endlinecolor\": \"#2a3f5f\", \"gridcolor\": \"white\", \"linecolor\": \"white\", \"minorgridcolor\": \"white\", \"startlinecolor\": \"#2a3f5f\"}, \"type\": \"carpet\"}], \"choropleth\": [{\"colorbar\": {\"outlinewidth\": 0, \"ticks\": \"\"}, \"type\": \"choropleth\"}], \"contour\": [{\"colorbar\": {\"outlinewidth\": 0, \"ticks\": \"\"}, \"colorscale\": [[0.0, \"#0d0887\"], [0.1111111111111111, \"#46039f\"], [0.2222222222222222, \"#7201a8\"], [0.3333333333333333, \"#9c179e\"], [0.4444444444444444, \"#bd3786\"], [0.5555555555555556, \"#d8576b\"], [0.6666666666666666, \"#ed7953\"], [0.7777777777777778, \"#fb9f3a\"], [0.8888888888888888, \"#fdca26\"], [1.0, \"#f0f921\"]], \"type\": \"contour\"}], \"contourcarpet\": [{\"colorbar\": {\"outlinewidth\": 0, \"ticks\": \"\"}, \"type\": \"contourcarpet\"}], \"heatmap\": [{\"colorbar\": {\"outlinewidth\": 0, \"ticks\": \"\"}, \"colorscale\": [[0.0, \"#0d0887\"], [0.1111111111111111, \"#46039f\"], [0.2222222222222222, \"#7201a8\"], [0.3333333333333333, \"#9c179e\"], [0.4444444444444444, \"#bd3786\"], [0.5555555555555556, \"#d8576b\"], [0.6666666666666666, \"#ed7953\"], [0.7777777777777778, \"#fb9f3a\"], [0.8888888888888888, \"#fdca26\"], [1.0, \"#f0f921\"]], \"type\": \"heatmap\"}], \"heatmapgl\": [{\"colorbar\": {\"outlinewidth\": 0, \"ticks\": \"\"}, \"colorscale\": [[0.0, \"#0d0887\"], [0.1111111111111111, \"#46039f\"], [0.2222222222222222, \"#7201a8\"], [0.3333333333333333, \"#9c179e\"], [0.4444444444444444, \"#bd3786\"], [0.5555555555555556, \"#d8576b\"], [0.6666666666666666, \"#ed7953\"], [0.7777777777777778, \"#fb9f3a\"], [0.8888888888888888, \"#fdca26\"], [1.0, \"#f0f921\"]], \"type\": \"heatmapgl\"}], \"histogram\": [{\"marker\": {\"colorbar\": {\"outlinewidth\": 0, \"ticks\": \"\"}}, \"type\": \"histogram\"}], \"histogram2d\": [{\"colorbar\": {\"outlinewidth\": 0, \"ticks\": \"\"}, \"colorscale\": [[0.0, \"#0d0887\"], [0.1111111111111111, \"#46039f\"], [0.2222222222222222, \"#7201a8\"], [0.3333333333333333, \"#9c179e\"], [0.4444444444444444, \"#bd3786\"], [0.5555555555555556, \"#d8576b\"], [0.6666666666666666, \"#ed7953\"], [0.7777777777777778, \"#fb9f3a\"], [0.8888888888888888, \"#fdca26\"], [1.0, \"#f0f921\"]], \"type\": \"histogram2d\"}], \"histogram2dcontour\": [{\"colorbar\": {\"outlinewidth\": 0, \"ticks\": \"\"}, \"colorscale\": [[0.0, \"#0d0887\"], [0.1111111111111111, \"#46039f\"], [0.2222222222222222, \"#7201a8\"], [0.3333333333333333, \"#9c179e\"], [0.4444444444444444, \"#bd3786\"], [0.5555555555555556, \"#d8576b\"], [0.6666666666666666, \"#ed7953\"], [0.7777777777777778, \"#fb9f3a\"], [0.8888888888888888, \"#fdca26\"], [1.0, \"#f0f921\"]], \"type\": \"histogram2dcontour\"}], \"mesh3d\": [{\"colorbar\": {\"outlinewidth\": 0, \"ticks\": \"\"}, \"type\": \"mesh3d\"}], \"parcoords\": [{\"line\": {\"colorbar\": {\"outlinewidth\": 0, \"ticks\": \"\"}}, \"type\": \"parcoords\"}], \"pie\": [{\"automargin\": true, \"type\": \"pie\"}], \"scatter\": [{\"marker\": {\"colorbar\": {\"outlinewidth\": 0, \"ticks\": \"\"}}, \"type\": \"scatter\"}], \"scatter3d\": [{\"line\": {\"colorbar\": {\"outlinewidth\": 0, \"ticks\": \"\"}}, \"marker\": {\"colorbar\": {\"outlinewidth\": 0, \"ticks\": \"\"}}, \"type\": \"scatter3d\"}], \"scattercarpet\": [{\"marker\": {\"colorbar\": {\"outlinewidth\": 0, \"ticks\": \"\"}}, \"type\": \"scattercarpet\"}], \"scattergeo\": [{\"marker\": {\"colorbar\": {\"outlinewidth\": 0, \"ticks\": \"\"}}, \"type\": \"scattergeo\"}], \"scattergl\": [{\"marker\": {\"colorbar\": {\"outlinewidth\": 0, \"ticks\": \"\"}}, \"type\": \"scattergl\"}], \"scattermapbox\": [{\"marker\": {\"colorbar\": {\"outlinewidth\": 0, \"ticks\": \"\"}}, \"type\": \"scattermapbox\"}], \"scatterpolar\": [{\"marker\": {\"colorbar\": {\"outlinewidth\": 0, \"ticks\": \"\"}}, \"type\": \"scatterpolar\"}], \"scatterpolargl\": [{\"marker\": {\"colorbar\": {\"outlinewidth\": 0, \"ticks\": \"\"}}, \"type\": \"scatterpolargl\"}], \"scatterternary\": [{\"marker\": {\"colorbar\": {\"outlinewidth\": 0, \"ticks\": \"\"}}, \"type\": \"scatterternary\"}], \"surface\": [{\"colorbar\": {\"outlinewidth\": 0, \"ticks\": \"\"}, \"colorscale\": [[0.0, \"#0d0887\"], [0.1111111111111111, \"#46039f\"], [0.2222222222222222, \"#7201a8\"], [0.3333333333333333, \"#9c179e\"], [0.4444444444444444, \"#bd3786\"], [0.5555555555555556, \"#d8576b\"], [0.6666666666666666, \"#ed7953\"], [0.7777777777777778, \"#fb9f3a\"], [0.8888888888888888, \"#fdca26\"], [1.0, \"#f0f921\"]], \"type\": \"surface\"}], \"table\": [{\"cells\": {\"fill\": {\"color\": \"#EBF0F8\"}, \"line\": {\"color\": \"white\"}}, \"header\": {\"fill\": {\"color\": \"#C8D4E3\"}, \"line\": {\"color\": \"white\"}}, \"type\": \"table\"}]}, \"layout\": {\"annotationdefaults\": {\"arrowcolor\": \"#2a3f5f\", \"arrowhead\": 0, \"arrowwidth\": 1}, \"coloraxis\": {\"colorbar\": {\"outlinewidth\": 0, \"ticks\": \"\"}}, \"colorscale\": {\"diverging\": [[0, \"#8e0152\"], [0.1, \"#c51b7d\"], [0.2, \"#de77ae\"], [0.3, \"#f1b6da\"], [0.4, \"#fde0ef\"], [0.5, \"#f7f7f7\"], [0.6, \"#e6f5d0\"], [0.7, \"#b8e186\"], [0.8, \"#7fbc41\"], [0.9, \"#4d9221\"], [1, \"#276419\"]], \"sequential\": [[0.0, \"#0d0887\"], [0.1111111111111111, \"#46039f\"], [0.2222222222222222, \"#7201a8\"], [0.3333333333333333, \"#9c179e\"], [0.4444444444444444, \"#bd3786\"], [0.5555555555555556, \"#d8576b\"], [0.6666666666666666, \"#ed7953\"], [0.7777777777777778, \"#fb9f3a\"], [0.8888888888888888, \"#fdca26\"], [1.0, \"#f0f921\"]], \"sequentialminus\": [[0.0, \"#0d0887\"], [0.1111111111111111, \"#46039f\"], [0.2222222222222222, \"#7201a8\"], [0.3333333333333333, \"#9c179e\"], [0.4444444444444444, \"#bd3786\"], [0.5555555555555556, \"#d8576b\"], [0.6666666666666666, \"#ed7953\"], [0.7777777777777778, \"#fb9f3a\"], [0.8888888888888888, \"#fdca26\"], [1.0, \"#f0f921\"]]}, \"colorway\": [\"#636efa\", \"#EF553B\", \"#00cc96\", \"#ab63fa\", \"#FFA15A\", \"#19d3f3\", \"#FF6692\", \"#B6E880\", \"#FF97FF\", \"#FECB52\"], \"font\": {\"color\": \"#2a3f5f\"}, \"geo\": {\"bgcolor\": \"white\", \"lakecolor\": \"white\", \"landcolor\": \"#E5ECF6\", \"showlakes\": true, \"showland\": true, \"subunitcolor\": \"white\"}, \"hoverlabel\": {\"align\": \"left\"}, \"hovermode\": \"closest\", \"mapbox\": {\"style\": \"light\"}, \"paper_bgcolor\": \"white\", \"plot_bgcolor\": \"#E5ECF6\", \"polar\": {\"angularaxis\": {\"gridcolor\": \"white\", \"linecolor\": \"white\", \"ticks\": \"\"}, \"bgcolor\": \"#E5ECF6\", \"radialaxis\": {\"gridcolor\": \"white\", \"linecolor\": \"white\", \"ticks\": \"\"}}, \"scene\": {\"xaxis\": {\"backgroundcolor\": \"#E5ECF6\", \"gridcolor\": \"white\", \"gridwidth\": 2, \"linecolor\": \"white\", \"showbackground\": true, \"ticks\": \"\", \"zerolinecolor\": \"white\"}, \"yaxis\": {\"backgroundcolor\": \"#E5ECF6\", \"gridcolor\": \"white\", \"gridwidth\": 2, \"linecolor\": \"white\", \"showbackground\": true, \"ticks\": \"\", \"zerolinecolor\": \"white\"}, \"zaxis\": {\"backgroundcolor\": \"#E5ECF6\", \"gridcolor\": \"white\", \"gridwidth\": 2, \"linecolor\": \"white\", \"showbackground\": true, \"ticks\": \"\", \"zerolinecolor\": \"white\"}}, \"shapedefaults\": {\"line\": {\"color\": \"#2a3f5f\"}}, \"ternary\": {\"aaxis\": {\"gridcolor\": \"white\", \"linecolor\": \"white\", \"ticks\": \"\"}, \"baxis\": {\"gridcolor\": \"white\", \"linecolor\": \"white\", \"ticks\": \"\"}, \"bgcolor\": \"#E5ECF6\", \"caxis\": {\"gridcolor\": \"white\", \"linecolor\": \"white\", \"ticks\": \"\"}}, \"title\": {\"x\": 0.05}, \"xaxis\": {\"automargin\": true, \"gridcolor\": \"white\", \"linecolor\": \"white\", \"ticks\": \"\", \"title\": {\"standoff\": 15}, \"zerolinecolor\": \"white\", \"zerolinewidth\": 2}, \"yaxis\": {\"automargin\": true, \"gridcolor\": \"white\", \"linecolor\": \"white\", \"ticks\": \"\", \"title\": {\"standoff\": 15}, \"zerolinecolor\": \"white\", \"zerolinewidth\": 2}}}},                        {\"responsive\": true}                    ).then(function(){\n",
       "                            \n",
       "var gd = document.getElementById('94683416-00c7-45be-9a15-2ee5aec639c6');\n",
       "var x = new MutationObserver(function (mutations, observer) {{\n",
       "        var display = window.getComputedStyle(gd).display;\n",
       "        if (!display || display === 'none') {{\n",
       "            console.log([gd, 'removed!']);\n",
       "            Plotly.purge(gd);\n",
       "            observer.disconnect();\n",
       "        }}\n",
       "}});\n",
       "\n",
       "// Listen for the removal of the full notebook cells\n",
       "var notebookContainer = gd.closest('#notebook-container');\n",
       "if (notebookContainer) {{\n",
       "    x.observe(notebookContainer, {childList: true});\n",
       "}}\n",
       "\n",
       "// Listen for the clearing of the current output cell\n",
       "var outputEl = gd.closest('.output');\n",
       "if (outputEl) {{\n",
       "    x.observe(outputEl, {childList: true});\n",
       "}}\n",
       "\n",
       "                        })                };                });            </script>        </div>"
      ]
     },
     "metadata": {},
     "output_type": "display_data"
    }
   ],
   "source": [
    "# world heat map for GDP using plotly\n",
    "\n",
    "fig = px.choropleth(gdp_per_capita, locations='Country Code', \n",
    "                        color='gdp',\n",
    "                        hover_name=\"country_name\", # column to add to hover information\n",
    "                        color_continuous_scale=px.colors.sequential.Plasma)\n",
    "fig.show()"
   ]
  },
  {
   "cell_type": "code",
   "execution_count": 132,
   "metadata": {},
   "outputs": [
    {
     "data": {
      "application/vnd.plotly.v1+json": {
       "config": {
        "plotlyServerURL": "https://plot.ly"
       },
       "data": [
        {
         "coloraxis": "coloraxis",
         "geo": "geo",
         "hovertemplate": "<b>%{hovertext}</b><br><br>Country Code=%{location}<br>Population 2017=%{z}<extra></extra>",
         "hovertext": [
          "China",
          "United States",
          "India",
          "Japan",
          "Germany",
          "Russian Federation",
          "Brazil",
          "Indonesia",
          "United Kingdom",
          "France",
          "Italy",
          "Mexico",
          "Turkey",
          "Korea, Rep.",
          "Spain",
          "Saudi Arabia",
          "Canada",
          "Iran, Islamic Rep.",
          "Thailand",
          "Australia",
          "Poland",
          "Egypt, Arab Rep.",
          "Nigeria",
          "Pakistan",
          "Malaysia",
          "Netherlands",
          "Argentina",
          "Philippines",
          "South Africa",
          "Colombia",
          "United Arab Emirates",
          "Vietnam",
          "Iraq",
          "Bangladesh",
          "Algeria",
          "Belgium",
          "Switzerland",
          "Singapore",
          "Romania",
          "Sweden",
          "Kazakhstan",
          "Austria",
          "Hong Kong SAR, China",
          "Chile",
          "Peru",
          "Czech Republic",
          "Ukraine",
          "Ireland",
          "Qatar",
          "Israel",
          "Portugal",
          "Myanmar",
          "Norway",
          "Denmark",
          "Greece",
          "Morocco",
          "Kuwait",
          "Hungary",
          "Sri Lanka",
          "Finland",
          "Uzbekistan",
          "Ethiopia",
          "Sudan",
          "Angola",
          "New Zealand",
          "Ecuador",
          "Oman",
          "Belarus",
          "Slovak Republic",
          "Dominican Republic",
          "Azerbaijan",
          "Tanzania",
          "Kenya",
          "Bulgaria",
          "Guatemala",
          "Tunisia",
          "Puerto Rico",
          "Ghana",
          "Libya",
          "Croatia",
          "Serbia",
          "Turkmenistan",
          "Panama",
          "Côte d'Ivoire",
          "Lithuania",
          "Cameroon",
          "Paraguay",
          "Jordan",
          "Lebanon",
          "Costa Rica",
          "Bolivia",
          "Uganda",
          "Nepal",
          "Uruguay",
          "Slovenia",
          "Yemen, Rep.",
          "Congo, Dem. Rep.",
          "Macao SAR, China",
          "Bahrain",
          "Afghanistan",
          "Zambia",
          "Cambodia",
          "Luxembourg",
          "Latvia",
          "Senegal",
          "El Salvador",
          "Lao PDR",
          "Honduras",
          "Bosnia and Herzegovina",
          "Estonia",
          "Trinidad and Tobago",
          "Mali",
          "Zimbabwe",
          "Madagascar",
          "Mongolia",
          "Georgia",
          "Botswana",
          "Albania",
          "Mozambique",
          "Gabon",
          "Nicaragua",
          "Burkina Faso",
          "Papua New Guinea",
          "Brunei Darussalam",
          "North Macedonia",
          "Equatorial Guinea",
          "Cyprus",
          "Chad",
          "Congo, Rep.",
          "Guinea",
          "Tajikistan",
          "Armenia",
          "Mauritius",
          "Namibia",
          "Jamaica",
          "Benin",
          "Rwanda",
          "Kyrgyz Republic",
          "West Bank and Gaza",
          "Malawi",
          "Niger",
          "South Sudan",
          "Moldova",
          "Haiti",
          "Kosovo",
          "Malta",
          "Iceland",
          "Mauritania",
          "Togo",
          "Bahamas, The",
          "Montenegro",
          "Eswatini",
          "Sierra Leone",
          "Timor-Leste",
          "Fiji",
          "Suriname",
          "Burundi",
          "Bhutan",
          "Maldives",
          "Lesotho",
          "Guyana",
          "Liberia",
          "Barbados",
          "Aruba",
          "Cabo Verde",
          "Cayman Islands",
          "Gambia, The",
          "Central African Republic",
          "Belize",
          "Guinea-Bissau",
          "Seychelles",
          "St. Lucia",
          "Antigua and Barbuda",
          "Comoros",
          "San Marino",
          "Grenada",
          "St. Kitts and Nevis",
          "Solomon Islands",
          "Sint Maarten (Dutch part)",
          "Samoa",
          "St. Vincent and the Grenadines",
          "Vanuatu",
          "Dominica",
          "São Tomé and Principe",
          "Tonga",
          "Micronesia, Fed. Sts.",
          "Palau",
          "Kiribati",
          "Marshall Islands",
          "Nauru",
          "Tuvalu"
         ],
         "locations": [
          "CHN",
          "USA",
          "IND",
          "JPN",
          "DEU",
          "RUS",
          "BRA",
          "IDN",
          "GBR",
          "FRA",
          "ITA",
          "MEX",
          "TUR",
          "KOR",
          "ESP",
          "SAU",
          "CAN",
          "IRN",
          "THA",
          "AUS",
          "POL",
          "EGY",
          "NGA",
          "PAK",
          "MYS",
          "NLD",
          "ARG",
          "PHL",
          "ZAF",
          "COL",
          "ARE",
          "VNM",
          "IRQ",
          "BGD",
          "DZA",
          "BEL",
          "CHE",
          "SGP",
          "ROU",
          "SWE",
          "KAZ",
          "AUT",
          "HKG",
          "CHL",
          "PER",
          "CZE",
          "UKR",
          "IRL",
          "QAT",
          "ISR",
          "PRT",
          "MMR",
          "NOR",
          "DNK",
          "GRC",
          "MAR",
          "KWT",
          "HUN",
          "LKA",
          "FIN",
          "UZB",
          "ETH",
          "SDN",
          "AGO",
          "NZL",
          "ECU",
          "OMN",
          "BLR",
          "SVK",
          "DOM",
          "AZE",
          "TZA",
          "KEN",
          "BGR",
          "GTM",
          "TUN",
          "PRI",
          "GHA",
          "LBY",
          "HRV",
          "SRB",
          "TKM",
          "PAN",
          "CIV",
          "LTU",
          "CMR",
          "PRY",
          "JOR",
          "LBN",
          "CRI",
          "BOL",
          "UGA",
          "NPL",
          "URY",
          "SVN",
          "YEM",
          "COD",
          "MAC",
          "BHR",
          "AFG",
          "ZMB",
          "KHM",
          "LUX",
          "LVA",
          "SEN",
          "SLV",
          "LAO",
          "HND",
          "BIH",
          "EST",
          "TTO",
          "MLI",
          "ZWE",
          "MDG",
          "MNG",
          "GEO",
          "BWA",
          "ALB",
          "MOZ",
          "GAB",
          "NIC",
          "BFA",
          "PNG",
          "BRN",
          "MKD",
          "GNQ",
          "CYP",
          "TCD",
          "COG",
          "GIN",
          "TJK",
          "ARM",
          "MUS",
          "NAM",
          "JAM",
          "BEN",
          "RWA",
          "KGZ",
          "PSE",
          "MWI",
          "NER",
          "SSD",
          "MDA",
          "HTI",
          "XKX",
          "MLT",
          "ISL",
          "MRT",
          "TGO",
          "BHS",
          "MNE",
          "SWZ",
          "SLE",
          "TLS",
          "FJI",
          "SUR",
          "BDI",
          "BTN",
          "MDV",
          "LSO",
          "GUY",
          "LBR",
          "BRB",
          "ABW",
          "CPV",
          "CYM",
          "GMB",
          "CAF",
          "BLZ",
          "GNB",
          "SYC",
          "LCA",
          "ATG",
          "COM",
          "SMR",
          "GRD",
          "KNA",
          "SLB",
          "SXM",
          "WSM",
          "VCT",
          "VUT",
          "DMA",
          "STP",
          "TON",
          "FSM",
          "PLW",
          "KIR",
          "MHL",
          "NRU",
          "TUV"
         ],
         "name": "",
         "type": "choropleth",
         "z": [
          1386395000,
          324985539,
          1338658835,
          126785797,
          82657002,
          144496740,
          207833831,
          264645886,
          66058859,
          66864379,
          60536709,
          124777324,
          81101892,
          51361911,
          46593236,
          33099147,
          36543321,
          80673951,
          69209858,
          24601860,
          37974826,
          96442593,
          190873311,
          207896686,
          31105028,
          17131296,
          44044811,
          105173264,
          57000451,
          48901066,
          9487203,
          94596642,
          37552781,
          159670593,
          41389198,
          11375158,
          8451840,
          5612253,
          19587290,
          10057698,
          18037776,
          8797566,
          7391700,
          18470439,
          31444297,
          10594438,
          44831135,
          4807388,
          2724724,
          8713300,
          10300300,
          53382581,
          5276968,
          5764980,
          10754679,
          35581294,
          4056099,
          9787966,
          21444000,
          5508214,
          32388600,
          106400024,
          40813396,
          29816748,
          4793900,
          16785361,
          4665935,
          9498264,
          5439232,
          10513131,
          9854033,
          54663906,
          50221473,
          7075947,
          16087418,
          11433443,
          3325286,
          29121471,
          6580724,
          4124531,
          7020858,
          5757669,
          4106771,
          24437469,
          2828403,
          24566045,
          6867062,
          9779173,
          6811873,
          4949954,
          11192854,
          41162465,
          27627124,
          3436646,
          2066388,
          27834821,
          81398764,
          622585,
          1494074,
          36296400,
          16853688,
          16009414,
          596336,
          1942248,
          15419381,
          6388122,
          6953035,
          9429013,
          3351527,
          1317384,
          1384072,
          18512394,
          14236745,
          25570540,
          3113779,
          3728004,
          2205128,
          2873457,
          28649007,
          2064823,
          6384855,
          19193284,
          8438029,
          424473,
          2081996,
          1262001,
          1179680,
          15016773,
          5110702,
          12067539,
          8880268,
          2944809,
          1264613,
          2402603,
          2920853,
          11175204,
          11980937,
          6198200,
          4454805,
          17670260,
          21602472,
          10910759,
          2755158,
          10982366,
          1791003,
          467999,
          343400,
          4282574,
          7698475,
          381761,
          622373,
          1124753,
          7488431,
          1243261,
          877459,
          570496,
          10827024,
          745568,
          496402,
          2091412,
          775221,
          4702228,
          286233,
          105366,
          537497,
          63382,
          2213894,
          4596028,
          375769,
          1828146,
          95843,
          180955,
          95426,
          813892,
          33671,
          110874,
          52045,
          636038,
          40574,
          195352,
          109827,
          285510,
          71458,
          207089,
          101998,
          111459,
          17808,
          114158,
          58058,
          12876,
          11370
         ]
        }
       ],
       "layout": {
        "coloraxis": {
         "colorbar": {
          "title": {
           "text": "Population 2017"
          }
         },
         "colorscale": [
          [
           0,
           "#0d0887"
          ],
          [
           0.1111111111111111,
           "#46039f"
          ],
          [
           0.2222222222222222,
           "#7201a8"
          ],
          [
           0.3333333333333333,
           "#9c179e"
          ],
          [
           0.4444444444444444,
           "#bd3786"
          ],
          [
           0.5555555555555556,
           "#d8576b"
          ],
          [
           0.6666666666666666,
           "#ed7953"
          ],
          [
           0.7777777777777778,
           "#fb9f3a"
          ],
          [
           0.8888888888888888,
           "#fdca26"
          ],
          [
           1,
           "#f0f921"
          ]
         ]
        },
        "geo": {
         "center": {},
         "domain": {
          "x": [
           0,
           1
          ],
          "y": [
           0,
           1
          ]
         }
        },
        "legend": {
         "tracegroupgap": 0
        },
        "margin": {
         "t": 60
        },
        "template": {
         "data": {
          "bar": [
           {
            "error_x": {
             "color": "#2a3f5f"
            },
            "error_y": {
             "color": "#2a3f5f"
            },
            "marker": {
             "line": {
              "color": "#E5ECF6",
              "width": 0.5
             }
            },
            "type": "bar"
           }
          ],
          "barpolar": [
           {
            "marker": {
             "line": {
              "color": "#E5ECF6",
              "width": 0.5
             }
            },
            "type": "barpolar"
           }
          ],
          "carpet": [
           {
            "aaxis": {
             "endlinecolor": "#2a3f5f",
             "gridcolor": "white",
             "linecolor": "white",
             "minorgridcolor": "white",
             "startlinecolor": "#2a3f5f"
            },
            "baxis": {
             "endlinecolor": "#2a3f5f",
             "gridcolor": "white",
             "linecolor": "white",
             "minorgridcolor": "white",
             "startlinecolor": "#2a3f5f"
            },
            "type": "carpet"
           }
          ],
          "choropleth": [
           {
            "colorbar": {
             "outlinewidth": 0,
             "ticks": ""
            },
            "type": "choropleth"
           }
          ],
          "contour": [
           {
            "colorbar": {
             "outlinewidth": 0,
             "ticks": ""
            },
            "colorscale": [
             [
              0,
              "#0d0887"
             ],
             [
              0.1111111111111111,
              "#46039f"
             ],
             [
              0.2222222222222222,
              "#7201a8"
             ],
             [
              0.3333333333333333,
              "#9c179e"
             ],
             [
              0.4444444444444444,
              "#bd3786"
             ],
             [
              0.5555555555555556,
              "#d8576b"
             ],
             [
              0.6666666666666666,
              "#ed7953"
             ],
             [
              0.7777777777777778,
              "#fb9f3a"
             ],
             [
              0.8888888888888888,
              "#fdca26"
             ],
             [
              1,
              "#f0f921"
             ]
            ],
            "type": "contour"
           }
          ],
          "contourcarpet": [
           {
            "colorbar": {
             "outlinewidth": 0,
             "ticks": ""
            },
            "type": "contourcarpet"
           }
          ],
          "heatmap": [
           {
            "colorbar": {
             "outlinewidth": 0,
             "ticks": ""
            },
            "colorscale": [
             [
              0,
              "#0d0887"
             ],
             [
              0.1111111111111111,
              "#46039f"
             ],
             [
              0.2222222222222222,
              "#7201a8"
             ],
             [
              0.3333333333333333,
              "#9c179e"
             ],
             [
              0.4444444444444444,
              "#bd3786"
             ],
             [
              0.5555555555555556,
              "#d8576b"
             ],
             [
              0.6666666666666666,
              "#ed7953"
             ],
             [
              0.7777777777777778,
              "#fb9f3a"
             ],
             [
              0.8888888888888888,
              "#fdca26"
             ],
             [
              1,
              "#f0f921"
             ]
            ],
            "type": "heatmap"
           }
          ],
          "heatmapgl": [
           {
            "colorbar": {
             "outlinewidth": 0,
             "ticks": ""
            },
            "colorscale": [
             [
              0,
              "#0d0887"
             ],
             [
              0.1111111111111111,
              "#46039f"
             ],
             [
              0.2222222222222222,
              "#7201a8"
             ],
             [
              0.3333333333333333,
              "#9c179e"
             ],
             [
              0.4444444444444444,
              "#bd3786"
             ],
             [
              0.5555555555555556,
              "#d8576b"
             ],
             [
              0.6666666666666666,
              "#ed7953"
             ],
             [
              0.7777777777777778,
              "#fb9f3a"
             ],
             [
              0.8888888888888888,
              "#fdca26"
             ],
             [
              1,
              "#f0f921"
             ]
            ],
            "type": "heatmapgl"
           }
          ],
          "histogram": [
           {
            "marker": {
             "colorbar": {
              "outlinewidth": 0,
              "ticks": ""
             }
            },
            "type": "histogram"
           }
          ],
          "histogram2d": [
           {
            "colorbar": {
             "outlinewidth": 0,
             "ticks": ""
            },
            "colorscale": [
             [
              0,
              "#0d0887"
             ],
             [
              0.1111111111111111,
              "#46039f"
             ],
             [
              0.2222222222222222,
              "#7201a8"
             ],
             [
              0.3333333333333333,
              "#9c179e"
             ],
             [
              0.4444444444444444,
              "#bd3786"
             ],
             [
              0.5555555555555556,
              "#d8576b"
             ],
             [
              0.6666666666666666,
              "#ed7953"
             ],
             [
              0.7777777777777778,
              "#fb9f3a"
             ],
             [
              0.8888888888888888,
              "#fdca26"
             ],
             [
              1,
              "#f0f921"
             ]
            ],
            "type": "histogram2d"
           }
          ],
          "histogram2dcontour": [
           {
            "colorbar": {
             "outlinewidth": 0,
             "ticks": ""
            },
            "colorscale": [
             [
              0,
              "#0d0887"
             ],
             [
              0.1111111111111111,
              "#46039f"
             ],
             [
              0.2222222222222222,
              "#7201a8"
             ],
             [
              0.3333333333333333,
              "#9c179e"
             ],
             [
              0.4444444444444444,
              "#bd3786"
             ],
             [
              0.5555555555555556,
              "#d8576b"
             ],
             [
              0.6666666666666666,
              "#ed7953"
             ],
             [
              0.7777777777777778,
              "#fb9f3a"
             ],
             [
              0.8888888888888888,
              "#fdca26"
             ],
             [
              1,
              "#f0f921"
             ]
            ],
            "type": "histogram2dcontour"
           }
          ],
          "mesh3d": [
           {
            "colorbar": {
             "outlinewidth": 0,
             "ticks": ""
            },
            "type": "mesh3d"
           }
          ],
          "parcoords": [
           {
            "line": {
             "colorbar": {
              "outlinewidth": 0,
              "ticks": ""
             }
            },
            "type": "parcoords"
           }
          ],
          "pie": [
           {
            "automargin": true,
            "type": "pie"
           }
          ],
          "scatter": [
           {
            "marker": {
             "colorbar": {
              "outlinewidth": 0,
              "ticks": ""
             }
            },
            "type": "scatter"
           }
          ],
          "scatter3d": [
           {
            "line": {
             "colorbar": {
              "outlinewidth": 0,
              "ticks": ""
             }
            },
            "marker": {
             "colorbar": {
              "outlinewidth": 0,
              "ticks": ""
             }
            },
            "type": "scatter3d"
           }
          ],
          "scattercarpet": [
           {
            "marker": {
             "colorbar": {
              "outlinewidth": 0,
              "ticks": ""
             }
            },
            "type": "scattercarpet"
           }
          ],
          "scattergeo": [
           {
            "marker": {
             "colorbar": {
              "outlinewidth": 0,
              "ticks": ""
             }
            },
            "type": "scattergeo"
           }
          ],
          "scattergl": [
           {
            "marker": {
             "colorbar": {
              "outlinewidth": 0,
              "ticks": ""
             }
            },
            "type": "scattergl"
           }
          ],
          "scattermapbox": [
           {
            "marker": {
             "colorbar": {
              "outlinewidth": 0,
              "ticks": ""
             }
            },
            "type": "scattermapbox"
           }
          ],
          "scatterpolar": [
           {
            "marker": {
             "colorbar": {
              "outlinewidth": 0,
              "ticks": ""
             }
            },
            "type": "scatterpolar"
           }
          ],
          "scatterpolargl": [
           {
            "marker": {
             "colorbar": {
              "outlinewidth": 0,
              "ticks": ""
             }
            },
            "type": "scatterpolargl"
           }
          ],
          "scatterternary": [
           {
            "marker": {
             "colorbar": {
              "outlinewidth": 0,
              "ticks": ""
             }
            },
            "type": "scatterternary"
           }
          ],
          "surface": [
           {
            "colorbar": {
             "outlinewidth": 0,
             "ticks": ""
            },
            "colorscale": [
             [
              0,
              "#0d0887"
             ],
             [
              0.1111111111111111,
              "#46039f"
             ],
             [
              0.2222222222222222,
              "#7201a8"
             ],
             [
              0.3333333333333333,
              "#9c179e"
             ],
             [
              0.4444444444444444,
              "#bd3786"
             ],
             [
              0.5555555555555556,
              "#d8576b"
             ],
             [
              0.6666666666666666,
              "#ed7953"
             ],
             [
              0.7777777777777778,
              "#fb9f3a"
             ],
             [
              0.8888888888888888,
              "#fdca26"
             ],
             [
              1,
              "#f0f921"
             ]
            ],
            "type": "surface"
           }
          ],
          "table": [
           {
            "cells": {
             "fill": {
              "color": "#EBF0F8"
             },
             "line": {
              "color": "white"
             }
            },
            "header": {
             "fill": {
              "color": "#C8D4E3"
             },
             "line": {
              "color": "white"
             }
            },
            "type": "table"
           }
          ]
         },
         "layout": {
          "annotationdefaults": {
           "arrowcolor": "#2a3f5f",
           "arrowhead": 0,
           "arrowwidth": 1
          },
          "coloraxis": {
           "colorbar": {
            "outlinewidth": 0,
            "ticks": ""
           }
          },
          "colorscale": {
           "diverging": [
            [
             0,
             "#8e0152"
            ],
            [
             0.1,
             "#c51b7d"
            ],
            [
             0.2,
             "#de77ae"
            ],
            [
             0.3,
             "#f1b6da"
            ],
            [
             0.4,
             "#fde0ef"
            ],
            [
             0.5,
             "#f7f7f7"
            ],
            [
             0.6,
             "#e6f5d0"
            ],
            [
             0.7,
             "#b8e186"
            ],
            [
             0.8,
             "#7fbc41"
            ],
            [
             0.9,
             "#4d9221"
            ],
            [
             1,
             "#276419"
            ]
           ],
           "sequential": [
            [
             0,
             "#0d0887"
            ],
            [
             0.1111111111111111,
             "#46039f"
            ],
            [
             0.2222222222222222,
             "#7201a8"
            ],
            [
             0.3333333333333333,
             "#9c179e"
            ],
            [
             0.4444444444444444,
             "#bd3786"
            ],
            [
             0.5555555555555556,
             "#d8576b"
            ],
            [
             0.6666666666666666,
             "#ed7953"
            ],
            [
             0.7777777777777778,
             "#fb9f3a"
            ],
            [
             0.8888888888888888,
             "#fdca26"
            ],
            [
             1,
             "#f0f921"
            ]
           ],
           "sequentialminus": [
            [
             0,
             "#0d0887"
            ],
            [
             0.1111111111111111,
             "#46039f"
            ],
            [
             0.2222222222222222,
             "#7201a8"
            ],
            [
             0.3333333333333333,
             "#9c179e"
            ],
            [
             0.4444444444444444,
             "#bd3786"
            ],
            [
             0.5555555555555556,
             "#d8576b"
            ],
            [
             0.6666666666666666,
             "#ed7953"
            ],
            [
             0.7777777777777778,
             "#fb9f3a"
            ],
            [
             0.8888888888888888,
             "#fdca26"
            ],
            [
             1,
             "#f0f921"
            ]
           ]
          },
          "colorway": [
           "#636efa",
           "#EF553B",
           "#00cc96",
           "#ab63fa",
           "#FFA15A",
           "#19d3f3",
           "#FF6692",
           "#B6E880",
           "#FF97FF",
           "#FECB52"
          ],
          "font": {
           "color": "#2a3f5f"
          },
          "geo": {
           "bgcolor": "white",
           "lakecolor": "white",
           "landcolor": "#E5ECF6",
           "showlakes": true,
           "showland": true,
           "subunitcolor": "white"
          },
          "hoverlabel": {
           "align": "left"
          },
          "hovermode": "closest",
          "mapbox": {
           "style": "light"
          },
          "paper_bgcolor": "white",
          "plot_bgcolor": "#E5ECF6",
          "polar": {
           "angularaxis": {
            "gridcolor": "white",
            "linecolor": "white",
            "ticks": ""
           },
           "bgcolor": "#E5ECF6",
           "radialaxis": {
            "gridcolor": "white",
            "linecolor": "white",
            "ticks": ""
           }
          },
          "scene": {
           "xaxis": {
            "backgroundcolor": "#E5ECF6",
            "gridcolor": "white",
            "gridwidth": 2,
            "linecolor": "white",
            "showbackground": true,
            "ticks": "",
            "zerolinecolor": "white"
           },
           "yaxis": {
            "backgroundcolor": "#E5ECF6",
            "gridcolor": "white",
            "gridwidth": 2,
            "linecolor": "white",
            "showbackground": true,
            "ticks": "",
            "zerolinecolor": "white"
           },
           "zaxis": {
            "backgroundcolor": "#E5ECF6",
            "gridcolor": "white",
            "gridwidth": 2,
            "linecolor": "white",
            "showbackground": true,
            "ticks": "",
            "zerolinecolor": "white"
           }
          },
          "shapedefaults": {
           "line": {
            "color": "#2a3f5f"
           }
          },
          "ternary": {
           "aaxis": {
            "gridcolor": "white",
            "linecolor": "white",
            "ticks": ""
           },
           "baxis": {
            "gridcolor": "white",
            "linecolor": "white",
            "ticks": ""
           },
           "bgcolor": "#E5ECF6",
           "caxis": {
            "gridcolor": "white",
            "linecolor": "white",
            "ticks": ""
           }
          },
          "title": {
           "x": 0.05
          },
          "xaxis": {
           "automargin": true,
           "gridcolor": "white",
           "linecolor": "white",
           "ticks": "",
           "title": {
            "standoff": 15
           },
           "zerolinecolor": "white",
           "zerolinewidth": 2
          },
          "yaxis": {
           "automargin": true,
           "gridcolor": "white",
           "linecolor": "white",
           "ticks": "",
           "title": {
            "standoff": 15
           },
           "zerolinecolor": "white",
           "zerolinewidth": 2
          }
         }
        }
       }
      },
      "text/html": [
       "<div>                            <div id=\"6d605dbb-a189-4482-af34-a4a7e750aeca\" class=\"plotly-graph-div\" style=\"height:525px; width:100%;\"></div>            <script type=\"text/javascript\">                require([\"plotly\"], function(Plotly) {                    window.PLOTLYENV=window.PLOTLYENV || {};                                    if (document.getElementById(\"6d605dbb-a189-4482-af34-a4a7e750aeca\")) {                    Plotly.newPlot(                        \"6d605dbb-a189-4482-af34-a4a7e750aeca\",                        [{\"coloraxis\": \"coloraxis\", \"geo\": \"geo\", \"hovertemplate\": \"<b>%{hovertext}</b><br><br>Country Code=%{location}<br>Population 2017=%{z}<extra></extra>\", \"hovertext\": [\"China\", \"United States\", \"India\", \"Japan\", \"Germany\", \"Russian Federation\", \"Brazil\", \"Indonesia\", \"United Kingdom\", \"France\", \"Italy\", \"Mexico\", \"Turkey\", \"Korea, Rep.\", \"Spain\", \"Saudi Arabia\", \"Canada\", \"Iran, Islamic Rep.\", \"Thailand\", \"Australia\", \"Poland\", \"Egypt, Arab Rep.\", \"Nigeria\", \"Pakistan\", \"Malaysia\", \"Netherlands\", \"Argentina\", \"Philippines\", \"South Africa\", \"Colombia\", \"United Arab Emirates\", \"Vietnam\", \"Iraq\", \"Bangladesh\", \"Algeria\", \"Belgium\", \"Switzerland\", \"Singapore\", \"Romania\", \"Sweden\", \"Kazakhstan\", \"Austria\", \"Hong Kong SAR, China\", \"Chile\", \"Peru\", \"Czech Republic\", \"Ukraine\", \"Ireland\", \"Qatar\", \"Israel\", \"Portugal\", \"Myanmar\", \"Norway\", \"Denmark\", \"Greece\", \"Morocco\", \"Kuwait\", \"Hungary\", \"Sri Lanka\", \"Finland\", \"Uzbekistan\", \"Ethiopia\", \"Sudan\", \"Angola\", \"New Zealand\", \"Ecuador\", \"Oman\", \"Belarus\", \"Slovak Republic\", \"Dominican Republic\", \"Azerbaijan\", \"Tanzania\", \"Kenya\", \"Bulgaria\", \"Guatemala\", \"Tunisia\", \"Puerto Rico\", \"Ghana\", \"Libya\", \"Croatia\", \"Serbia\", \"Turkmenistan\", \"Panama\", \"C\\u00f4te d'Ivoire\", \"Lithuania\", \"Cameroon\", \"Paraguay\", \"Jordan\", \"Lebanon\", \"Costa Rica\", \"Bolivia\", \"Uganda\", \"Nepal\", \"Uruguay\", \"Slovenia\", \"Yemen, Rep.\", \"Congo, Dem. Rep.\", \"Macao SAR, China\", \"Bahrain\", \"Afghanistan\", \"Zambia\", \"Cambodia\", \"Luxembourg\", \"Latvia\", \"Senegal\", \"El Salvador\", \"Lao PDR\", \"Honduras\", \"Bosnia and Herzegovina\", \"Estonia\", \"Trinidad and Tobago\", \"Mali\", \"Zimbabwe\", \"Madagascar\", \"Mongolia\", \"Georgia\", \"Botswana\", \"Albania\", \"Mozambique\", \"Gabon\", \"Nicaragua\", \"Burkina Faso\", \"Papua New Guinea\", \"Brunei Darussalam\", \"North Macedonia\", \"Equatorial Guinea\", \"Cyprus\", \"Chad\", \"Congo, Rep.\", \"Guinea\", \"Tajikistan\", \"Armenia\", \"Mauritius\", \"Namibia\", \"Jamaica\", \"Benin\", \"Rwanda\", \"Kyrgyz Republic\", \"West Bank and Gaza\", \"Malawi\", \"Niger\", \"South Sudan\", \"Moldova\", \"Haiti\", \"Kosovo\", \"Malta\", \"Iceland\", \"Mauritania\", \"Togo\", \"Bahamas, The\", \"Montenegro\", \"Eswatini\", \"Sierra Leone\", \"Timor-Leste\", \"Fiji\", \"Suriname\", \"Burundi\", \"Bhutan\", \"Maldives\", \"Lesotho\", \"Guyana\", \"Liberia\", \"Barbados\", \"Aruba\", \"Cabo Verde\", \"Cayman Islands\", \"Gambia, The\", \"Central African Republic\", \"Belize\", \"Guinea-Bissau\", \"Seychelles\", \"St. Lucia\", \"Antigua and Barbuda\", \"Comoros\", \"San Marino\", \"Grenada\", \"St. Kitts and Nevis\", \"Solomon Islands\", \"Sint Maarten (Dutch part)\", \"Samoa\", \"St. Vincent and the Grenadines\", \"Vanuatu\", \"Dominica\", \"S\\u00e3o Tom\\u00e9 and Principe\", \"Tonga\", \"Micronesia, Fed. Sts.\", \"Palau\", \"Kiribati\", \"Marshall Islands\", \"Nauru\", \"Tuvalu\"], \"locations\": [\"CHN\", \"USA\", \"IND\", \"JPN\", \"DEU\", \"RUS\", \"BRA\", \"IDN\", \"GBR\", \"FRA\", \"ITA\", \"MEX\", \"TUR\", \"KOR\", \"ESP\", \"SAU\", \"CAN\", \"IRN\", \"THA\", \"AUS\", \"POL\", \"EGY\", \"NGA\", \"PAK\", \"MYS\", \"NLD\", \"ARG\", \"PHL\", \"ZAF\", \"COL\", \"ARE\", \"VNM\", \"IRQ\", \"BGD\", \"DZA\", \"BEL\", \"CHE\", \"SGP\", \"ROU\", \"SWE\", \"KAZ\", \"AUT\", \"HKG\", \"CHL\", \"PER\", \"CZE\", \"UKR\", \"IRL\", \"QAT\", \"ISR\", \"PRT\", \"MMR\", \"NOR\", \"DNK\", \"GRC\", \"MAR\", \"KWT\", \"HUN\", \"LKA\", \"FIN\", \"UZB\", \"ETH\", \"SDN\", \"AGO\", \"NZL\", \"ECU\", \"OMN\", \"BLR\", \"SVK\", \"DOM\", \"AZE\", \"TZA\", \"KEN\", \"BGR\", \"GTM\", \"TUN\", \"PRI\", \"GHA\", \"LBY\", \"HRV\", \"SRB\", \"TKM\", \"PAN\", \"CIV\", \"LTU\", \"CMR\", \"PRY\", \"JOR\", \"LBN\", \"CRI\", \"BOL\", \"UGA\", \"NPL\", \"URY\", \"SVN\", \"YEM\", \"COD\", \"MAC\", \"BHR\", \"AFG\", \"ZMB\", \"KHM\", \"LUX\", \"LVA\", \"SEN\", \"SLV\", \"LAO\", \"HND\", \"BIH\", \"EST\", \"TTO\", \"MLI\", \"ZWE\", \"MDG\", \"MNG\", \"GEO\", \"BWA\", \"ALB\", \"MOZ\", \"GAB\", \"NIC\", \"BFA\", \"PNG\", \"BRN\", \"MKD\", \"GNQ\", \"CYP\", \"TCD\", \"COG\", \"GIN\", \"TJK\", \"ARM\", \"MUS\", \"NAM\", \"JAM\", \"BEN\", \"RWA\", \"KGZ\", \"PSE\", \"MWI\", \"NER\", \"SSD\", \"MDA\", \"HTI\", \"XKX\", \"MLT\", \"ISL\", \"MRT\", \"TGO\", \"BHS\", \"MNE\", \"SWZ\", \"SLE\", \"TLS\", \"FJI\", \"SUR\", \"BDI\", \"BTN\", \"MDV\", \"LSO\", \"GUY\", \"LBR\", \"BRB\", \"ABW\", \"CPV\", \"CYM\", \"GMB\", \"CAF\", \"BLZ\", \"GNB\", \"SYC\", \"LCA\", \"ATG\", \"COM\", \"SMR\", \"GRD\", \"KNA\", \"SLB\", \"SXM\", \"WSM\", \"VCT\", \"VUT\", \"DMA\", \"STP\", \"TON\", \"FSM\", \"PLW\", \"KIR\", \"MHL\", \"NRU\", \"TUV\"], \"name\": \"\", \"type\": \"choropleth\", \"z\": [1386395000, 324985539, 1338658835, 126785797, 82657002, 144496740, 207833831, 264645886, 66058859, 66864379, 60536709, 124777324, 81101892, 51361911, 46593236, 33099147, 36543321, 80673951, 69209858, 24601860, 37974826, 96442593, 190873311, 207896686, 31105028, 17131296, 44044811, 105173264, 57000451, 48901066, 9487203, 94596642, 37552781, 159670593, 41389198, 11375158, 8451840, 5612253, 19587290, 10057698, 18037776, 8797566, 7391700, 18470439, 31444297, 10594438, 44831135, 4807388, 2724724, 8713300, 10300300, 53382581, 5276968, 5764980, 10754679, 35581294, 4056099, 9787966, 21444000, 5508214, 32388600, 106400024, 40813396, 29816748, 4793900, 16785361, 4665935, 9498264, 5439232, 10513131, 9854033, 54663906, 50221473, 7075947, 16087418, 11433443, 3325286, 29121471, 6580724, 4124531, 7020858, 5757669, 4106771, 24437469, 2828403, 24566045, 6867062, 9779173, 6811873, 4949954, 11192854, 41162465, 27627124, 3436646, 2066388, 27834821, 81398764, 622585, 1494074, 36296400, 16853688, 16009414, 596336, 1942248, 15419381, 6388122, 6953035, 9429013, 3351527, 1317384, 1384072, 18512394, 14236745, 25570540, 3113779, 3728004, 2205128, 2873457, 28649007, 2064823, 6384855, 19193284, 8438029, 424473, 2081996, 1262001, 1179680, 15016773, 5110702, 12067539, 8880268, 2944809, 1264613, 2402603, 2920853, 11175204, 11980937, 6198200, 4454805, 17670260, 21602472, 10910759, 2755158, 10982366, 1791003, 467999, 343400, 4282574, 7698475, 381761, 622373, 1124753, 7488431, 1243261, 877459, 570496, 10827024, 745568, 496402, 2091412, 775221, 4702228, 286233, 105366, 537497, 63382, 2213894, 4596028, 375769, 1828146, 95843, 180955, 95426, 813892, 33671, 110874, 52045, 636038, 40574, 195352, 109827, 285510, 71458, 207089, 101998, 111459, 17808, 114158, 58058, 12876, 11370]}],                        {\"coloraxis\": {\"colorbar\": {\"title\": {\"text\": \"Population 2017\"}}, \"colorscale\": [[0.0, \"#0d0887\"], [0.1111111111111111, \"#46039f\"], [0.2222222222222222, \"#7201a8\"], [0.3333333333333333, \"#9c179e\"], [0.4444444444444444, \"#bd3786\"], [0.5555555555555556, \"#d8576b\"], [0.6666666666666666, \"#ed7953\"], [0.7777777777777778, \"#fb9f3a\"], [0.8888888888888888, \"#fdca26\"], [1.0, \"#f0f921\"]]}, \"geo\": {\"center\": {}, \"domain\": {\"x\": [0.0, 1.0], \"y\": [0.0, 1.0]}}, \"legend\": {\"tracegroupgap\": 0}, \"margin\": {\"t\": 60}, \"template\": {\"data\": {\"bar\": [{\"error_x\": {\"color\": \"#2a3f5f\"}, \"error_y\": {\"color\": \"#2a3f5f\"}, \"marker\": {\"line\": {\"color\": \"#E5ECF6\", \"width\": 0.5}}, \"type\": \"bar\"}], \"barpolar\": [{\"marker\": {\"line\": {\"color\": \"#E5ECF6\", \"width\": 0.5}}, \"type\": \"barpolar\"}], \"carpet\": [{\"aaxis\": {\"endlinecolor\": \"#2a3f5f\", \"gridcolor\": \"white\", \"linecolor\": \"white\", \"minorgridcolor\": \"white\", \"startlinecolor\": \"#2a3f5f\"}, \"baxis\": {\"endlinecolor\": \"#2a3f5f\", \"gridcolor\": \"white\", \"linecolor\": \"white\", \"minorgridcolor\": \"white\", \"startlinecolor\": \"#2a3f5f\"}, \"type\": \"carpet\"}], \"choropleth\": [{\"colorbar\": {\"outlinewidth\": 0, \"ticks\": \"\"}, \"type\": \"choropleth\"}], \"contour\": [{\"colorbar\": {\"outlinewidth\": 0, \"ticks\": \"\"}, \"colorscale\": [[0.0, \"#0d0887\"], [0.1111111111111111, \"#46039f\"], [0.2222222222222222, \"#7201a8\"], [0.3333333333333333, \"#9c179e\"], [0.4444444444444444, \"#bd3786\"], [0.5555555555555556, \"#d8576b\"], [0.6666666666666666, \"#ed7953\"], [0.7777777777777778, \"#fb9f3a\"], [0.8888888888888888, \"#fdca26\"], [1.0, \"#f0f921\"]], \"type\": \"contour\"}], \"contourcarpet\": [{\"colorbar\": {\"outlinewidth\": 0, \"ticks\": \"\"}, \"type\": \"contourcarpet\"}], \"heatmap\": [{\"colorbar\": {\"outlinewidth\": 0, \"ticks\": \"\"}, \"colorscale\": [[0.0, \"#0d0887\"], [0.1111111111111111, \"#46039f\"], [0.2222222222222222, \"#7201a8\"], [0.3333333333333333, \"#9c179e\"], [0.4444444444444444, \"#bd3786\"], [0.5555555555555556, \"#d8576b\"], [0.6666666666666666, \"#ed7953\"], [0.7777777777777778, \"#fb9f3a\"], [0.8888888888888888, \"#fdca26\"], [1.0, \"#f0f921\"]], \"type\": \"heatmap\"}], \"heatmapgl\": [{\"colorbar\": {\"outlinewidth\": 0, \"ticks\": \"\"}, \"colorscale\": [[0.0, \"#0d0887\"], [0.1111111111111111, \"#46039f\"], [0.2222222222222222, \"#7201a8\"], [0.3333333333333333, \"#9c179e\"], [0.4444444444444444, \"#bd3786\"], [0.5555555555555556, \"#d8576b\"], [0.6666666666666666, \"#ed7953\"], [0.7777777777777778, \"#fb9f3a\"], [0.8888888888888888, \"#fdca26\"], [1.0, \"#f0f921\"]], \"type\": \"heatmapgl\"}], \"histogram\": [{\"marker\": {\"colorbar\": {\"outlinewidth\": 0, \"ticks\": \"\"}}, \"type\": \"histogram\"}], \"histogram2d\": [{\"colorbar\": {\"outlinewidth\": 0, \"ticks\": \"\"}, \"colorscale\": [[0.0, \"#0d0887\"], [0.1111111111111111, \"#46039f\"], [0.2222222222222222, \"#7201a8\"], [0.3333333333333333, \"#9c179e\"], [0.4444444444444444, \"#bd3786\"], [0.5555555555555556, \"#d8576b\"], [0.6666666666666666, \"#ed7953\"], [0.7777777777777778, \"#fb9f3a\"], [0.8888888888888888, \"#fdca26\"], [1.0, \"#f0f921\"]], \"type\": \"histogram2d\"}], \"histogram2dcontour\": [{\"colorbar\": {\"outlinewidth\": 0, \"ticks\": \"\"}, \"colorscale\": [[0.0, \"#0d0887\"], [0.1111111111111111, \"#46039f\"], [0.2222222222222222, \"#7201a8\"], [0.3333333333333333, \"#9c179e\"], [0.4444444444444444, \"#bd3786\"], [0.5555555555555556, \"#d8576b\"], [0.6666666666666666, \"#ed7953\"], [0.7777777777777778, \"#fb9f3a\"], [0.8888888888888888, \"#fdca26\"], [1.0, \"#f0f921\"]], \"type\": \"histogram2dcontour\"}], \"mesh3d\": [{\"colorbar\": {\"outlinewidth\": 0, \"ticks\": \"\"}, \"type\": \"mesh3d\"}], \"parcoords\": [{\"line\": {\"colorbar\": {\"outlinewidth\": 0, \"ticks\": \"\"}}, \"type\": \"parcoords\"}], \"pie\": [{\"automargin\": true, \"type\": \"pie\"}], \"scatter\": [{\"marker\": {\"colorbar\": {\"outlinewidth\": 0, \"ticks\": \"\"}}, \"type\": \"scatter\"}], \"scatter3d\": [{\"line\": {\"colorbar\": {\"outlinewidth\": 0, \"ticks\": \"\"}}, \"marker\": {\"colorbar\": {\"outlinewidth\": 0, \"ticks\": \"\"}}, \"type\": \"scatter3d\"}], \"scattercarpet\": [{\"marker\": {\"colorbar\": {\"outlinewidth\": 0, \"ticks\": \"\"}}, \"type\": \"scattercarpet\"}], \"scattergeo\": [{\"marker\": {\"colorbar\": {\"outlinewidth\": 0, \"ticks\": \"\"}}, \"type\": \"scattergeo\"}], \"scattergl\": [{\"marker\": {\"colorbar\": {\"outlinewidth\": 0, \"ticks\": \"\"}}, \"type\": \"scattergl\"}], \"scattermapbox\": [{\"marker\": {\"colorbar\": {\"outlinewidth\": 0, \"ticks\": \"\"}}, \"type\": \"scattermapbox\"}], \"scatterpolar\": [{\"marker\": {\"colorbar\": {\"outlinewidth\": 0, \"ticks\": \"\"}}, \"type\": \"scatterpolar\"}], \"scatterpolargl\": [{\"marker\": {\"colorbar\": {\"outlinewidth\": 0, \"ticks\": \"\"}}, \"type\": \"scatterpolargl\"}], \"scatterternary\": [{\"marker\": {\"colorbar\": {\"outlinewidth\": 0, \"ticks\": \"\"}}, \"type\": \"scatterternary\"}], \"surface\": [{\"colorbar\": {\"outlinewidth\": 0, \"ticks\": \"\"}, \"colorscale\": [[0.0, \"#0d0887\"], [0.1111111111111111, \"#46039f\"], [0.2222222222222222, \"#7201a8\"], [0.3333333333333333, \"#9c179e\"], [0.4444444444444444, \"#bd3786\"], [0.5555555555555556, \"#d8576b\"], [0.6666666666666666, \"#ed7953\"], [0.7777777777777778, \"#fb9f3a\"], [0.8888888888888888, \"#fdca26\"], [1.0, \"#f0f921\"]], \"type\": \"surface\"}], \"table\": [{\"cells\": {\"fill\": {\"color\": \"#EBF0F8\"}, \"line\": {\"color\": \"white\"}}, \"header\": {\"fill\": {\"color\": \"#C8D4E3\"}, \"line\": {\"color\": \"white\"}}, \"type\": \"table\"}]}, \"layout\": {\"annotationdefaults\": {\"arrowcolor\": \"#2a3f5f\", \"arrowhead\": 0, \"arrowwidth\": 1}, \"coloraxis\": {\"colorbar\": {\"outlinewidth\": 0, \"ticks\": \"\"}}, \"colorscale\": {\"diverging\": [[0, \"#8e0152\"], [0.1, \"#c51b7d\"], [0.2, \"#de77ae\"], [0.3, \"#f1b6da\"], [0.4, \"#fde0ef\"], [0.5, \"#f7f7f7\"], [0.6, \"#e6f5d0\"], [0.7, \"#b8e186\"], [0.8, \"#7fbc41\"], [0.9, \"#4d9221\"], [1, \"#276419\"]], \"sequential\": [[0.0, \"#0d0887\"], [0.1111111111111111, \"#46039f\"], [0.2222222222222222, \"#7201a8\"], [0.3333333333333333, \"#9c179e\"], [0.4444444444444444, \"#bd3786\"], [0.5555555555555556, \"#d8576b\"], [0.6666666666666666, \"#ed7953\"], [0.7777777777777778, \"#fb9f3a\"], [0.8888888888888888, \"#fdca26\"], [1.0, \"#f0f921\"]], \"sequentialminus\": [[0.0, \"#0d0887\"], [0.1111111111111111, \"#46039f\"], [0.2222222222222222, \"#7201a8\"], [0.3333333333333333, \"#9c179e\"], [0.4444444444444444, \"#bd3786\"], [0.5555555555555556, \"#d8576b\"], [0.6666666666666666, \"#ed7953\"], [0.7777777777777778, \"#fb9f3a\"], [0.8888888888888888, \"#fdca26\"], [1.0, \"#f0f921\"]]}, \"colorway\": [\"#636efa\", \"#EF553B\", \"#00cc96\", \"#ab63fa\", \"#FFA15A\", \"#19d3f3\", \"#FF6692\", \"#B6E880\", \"#FF97FF\", \"#FECB52\"], \"font\": {\"color\": \"#2a3f5f\"}, \"geo\": {\"bgcolor\": \"white\", \"lakecolor\": \"white\", \"landcolor\": \"#E5ECF6\", \"showlakes\": true, \"showland\": true, \"subunitcolor\": \"white\"}, \"hoverlabel\": {\"align\": \"left\"}, \"hovermode\": \"closest\", \"mapbox\": {\"style\": \"light\"}, \"paper_bgcolor\": \"white\", \"plot_bgcolor\": \"#E5ECF6\", \"polar\": {\"angularaxis\": {\"gridcolor\": \"white\", \"linecolor\": \"white\", \"ticks\": \"\"}, \"bgcolor\": \"#E5ECF6\", \"radialaxis\": {\"gridcolor\": \"white\", \"linecolor\": \"white\", \"ticks\": \"\"}}, \"scene\": {\"xaxis\": {\"backgroundcolor\": \"#E5ECF6\", \"gridcolor\": \"white\", \"gridwidth\": 2, \"linecolor\": \"white\", \"showbackground\": true, \"ticks\": \"\", \"zerolinecolor\": \"white\"}, \"yaxis\": {\"backgroundcolor\": \"#E5ECF6\", \"gridcolor\": \"white\", \"gridwidth\": 2, \"linecolor\": \"white\", \"showbackground\": true, \"ticks\": \"\", \"zerolinecolor\": \"white\"}, \"zaxis\": {\"backgroundcolor\": \"#E5ECF6\", \"gridcolor\": \"white\", \"gridwidth\": 2, \"linecolor\": \"white\", \"showbackground\": true, \"ticks\": \"\", \"zerolinecolor\": \"white\"}}, \"shapedefaults\": {\"line\": {\"color\": \"#2a3f5f\"}}, \"ternary\": {\"aaxis\": {\"gridcolor\": \"white\", \"linecolor\": \"white\", \"ticks\": \"\"}, \"baxis\": {\"gridcolor\": \"white\", \"linecolor\": \"white\", \"ticks\": \"\"}, \"bgcolor\": \"#E5ECF6\", \"caxis\": {\"gridcolor\": \"white\", \"linecolor\": \"white\", \"ticks\": \"\"}}, \"title\": {\"x\": 0.05}, \"xaxis\": {\"automargin\": true, \"gridcolor\": \"white\", \"linecolor\": \"white\", \"ticks\": \"\", \"title\": {\"standoff\": 15}, \"zerolinecolor\": \"white\", \"zerolinewidth\": 2}, \"yaxis\": {\"automargin\": true, \"gridcolor\": \"white\", \"linecolor\": \"white\", \"ticks\": \"\", \"title\": {\"standoff\": 15}, \"zerolinecolor\": \"white\", \"zerolinewidth\": 2}}}},                        {\"responsive\": true}                    ).then(function(){\n",
       "                            \n",
       "var gd = document.getElementById('6d605dbb-a189-4482-af34-a4a7e750aeca');\n",
       "var x = new MutationObserver(function (mutations, observer) {{\n",
       "        var display = window.getComputedStyle(gd).display;\n",
       "        if (!display || display === 'none') {{\n",
       "            console.log([gd, 'removed!']);\n",
       "            Plotly.purge(gd);\n",
       "            observer.disconnect();\n",
       "        }}\n",
       "}});\n",
       "\n",
       "// Listen for the removal of the full notebook cells\n",
       "var notebookContainer = gd.closest('#notebook-container');\n",
       "if (notebookContainer) {{\n",
       "    x.observe(notebookContainer, {childList: true});\n",
       "}}\n",
       "\n",
       "// Listen for the clearing of the current output cell\n",
       "var outputEl = gd.closest('.output');\n",
       "if (outputEl) {{\n",
       "    x.observe(outputEl, {childList: true});\n",
       "}}\n",
       "\n",
       "                        })                };                });            </script>        </div>"
      ]
     },
     "metadata": {},
     "output_type": "display_data"
    }
   ],
   "source": [
    "# world heat map for GDP using plotly\n",
    "\n",
    "fig = px.choropleth(gdp_per_capita, locations='Country Code', \n",
    "                        color='Population 2017',\n",
    "                        hover_name=\"country_name\", # column to add to hover information\n",
    "                        color_continuous_scale=px.colors.sequential.Plasma)\n",
    "fig.show()"
   ]
  },
  {
   "cell_type": "code",
   "execution_count": 135,
   "metadata": {},
   "outputs": [
    {
     "data": {
      "application/vnd.plotly.v1+json": {
       "config": {
        "plotlyServerURL": "https://plot.ly"
       },
       "data": [
        {
         "coloraxis": "coloraxis",
         "geo": "geo",
         "hovertemplate": "<b>%{hovertext}</b><br><br>Country Code=%{location}<br>net_migration=%{z}<extra></extra>",
         "hovertext": [
          "China",
          "United States",
          "India",
          "Brazil",
          "Indonesia",
          "United Kingdom",
          "France",
          "Italy",
          "Mexico",
          "Korea, Rep.",
          "Spain",
          "Saudi Arabia",
          "Canada",
          "Iran, Islamic Rep.",
          "Thailand",
          "Australia",
          "Poland",
          "Egypt, Arab Rep.",
          "Nigeria",
          "Pakistan",
          "Malaysia",
          "Netherlands",
          "Argentina",
          "South Africa",
          "Colombia",
          "United Arab Emirates",
          "Bangladesh",
          "Belgium",
          "Switzerland",
          "Singapore",
          "Romania",
          "Sweden",
          "Kazakhstan",
          "Kazakhstan",
          "Hong Kong SAR, China",
          "Peru",
          "Qatar",
          "Norway",
          "Greece",
          "Morocco",
          "Hungary",
          "Finland",
          "Uzbekistan",
          "Ethiopia",
          "Angola",
          "New Zealand",
          "Ecuador",
          "Belarus",
          "Dominican Republic",
          "Tanzania",
          "Kenya",
          "Bulgaria",
          "Guatemala",
          "Tunisia",
          "Ghana",
          "Libya",
          "Croatia",
          "Serbia",
          "Panama",
          "Côte d'Ivoire",
          "Lithuania",
          "Cameroon",
          "Jordan",
          "Bolivia",
          "Uganda",
          "Nepal",
          "Uruguay",
          "Slovenia",
          "Congo, Dem. Rep.",
          "Macao SAR, China",
          "Bahrain",
          "Afghanistan",
          "Luxembourg",
          "Senegal",
          "Lao PDR",
          "Bosnia and Herzegovina",
          "Trinidad and Tobago",
          "Mali",
          "Madagascar",
          "Mongolia",
          "Albania",
          "Mozambique",
          "Gabon",
          "Nicaragua",
          "Burkina Faso",
          "Brunei Darussalam",
          "North Macedonia",
          "Equatorial Guinea",
          "Cyprus",
          "Cyprus",
          "Chad",
          "Congo, Rep.",
          "Armenia",
          "Armenia",
          "Mauritius",
          "Jamaica",
          "Rwanda",
          "Kyrgyz Republic",
          "West Bank and Gaza",
          "Moldova",
          "Malta",
          "Iceland",
          "Mauritania",
          "Eswatini",
          "Sierra Leone",
          "Fiji",
          "Bhutan",
          "Maldives",
          "Lesotho",
          "Guyana",
          "Barbados",
          "Cabo Verde",
          "Gambia, The",
          "Central African Republic",
          "Seychelles",
          "Antigua and Barbuda",
          "San Marino",
          "St. Kitts and Nevis",
          "Solomon Islands",
          "Samoa",
          "St. Vincent and the Grenadines",
          "São Tomé and Principe",
          "Tonga",
          "Micronesia, Fed. Sts.",
          "Marshall Islands",
          "Nauru",
          "Tuvalu"
         ],
         "locations": [
          "CHN",
          "USA",
          "IND",
          "BRA",
          "IDN",
          "GBR",
          "FRA",
          "ITA",
          "MEX",
          "KOR",
          "ESP",
          "SAU",
          "CAN",
          "IRN",
          "THA",
          "AUS",
          "POL",
          "EGY",
          "NGA",
          "PAK",
          "MYS",
          "NLD",
          "ARG",
          "ZAF",
          "COL",
          "ARE",
          "BGD",
          "BEL",
          "CHE",
          "SGP",
          "ROU",
          "SWE",
          "KAZ",
          "KAZ",
          "HKG",
          "PER",
          "QAT",
          "NOR",
          "GRC",
          "MAR",
          "HUN",
          "FIN",
          "UZB",
          "ETH",
          "AGO",
          "NZL",
          "ECU",
          "BLR",
          "DOM",
          "TZA",
          "KEN",
          "BGR",
          "GTM",
          "TUN",
          "GHA",
          "LBY",
          "HRV",
          "SRB",
          "PAN",
          "CIV",
          "LTU",
          "CMR",
          "JOR",
          "BOL",
          "UGA",
          "NPL",
          "URY",
          "SVN",
          "COD",
          "MAC",
          "BHR",
          "AFG",
          "LUX",
          "SEN",
          "LAO",
          "BIH",
          "TTO",
          "MLI",
          "MDG",
          "MNG",
          "ALB",
          "MOZ",
          "GAB",
          "NIC",
          "BFA",
          "BRN",
          "MKD",
          "GNQ",
          "CYP",
          "CYP",
          "TCD",
          "COG",
          "ARM",
          "ARM",
          "MUS",
          "JAM",
          "RWA",
          "KGZ",
          "PSE",
          "MDA",
          "MLT",
          "ISL",
          "MRT",
          "SWZ",
          "SLE",
          "FJI",
          "BTN",
          "MDV",
          "LSO",
          "GUY",
          "BRB",
          "CPV",
          "GMB",
          "CAF",
          "SYC",
          "ATG",
          "SMR",
          "KNA",
          "SLB",
          "WSM",
          "VCT",
          "STP",
          "TON",
          "FSM",
          "MHL",
          "NRU",
          "TUV"
         ],
         "name": "",
         "type": "choropleth",
         "z": [
          -2.44,
          3.4,
          -0.04,
          -0.14,
          -1.14,
          8.69,
          1.08,
          3.74,
          -1.77,
          -2.85,
          -7.95,
          3.94,
          5.68,
          -0.16,
          0,
          4.75,
          -0.41,
          -0.49,
          -0.53,
          -1.28,
          -0.3,
          1.93,
          -0.1,
          0,
          -0.63,
          5.31,
          1.75,
          5.42,
          -0.44,
          -1.46,
          -0.23,
          0.98,
          0.41,
          0.41,
          1.67,
          -2.22,
          14.61,
          5.9,
          2.32,
          0,
          1.3,
          2.88,
          -2.2,
          -0.21,
          0.22,
          2.17,
          0,
          0,
          -5.36,
          -0.48,
          -0.21,
          -3.05,
          -2.79,
          -17.84,
          -1.83,
          1.88,
          -1.67,
          1.7,
          -0.07,
          0.34,
          -6.84,
          -0.14,
          0,
          0.71,
          -0.69,
          -2.23,
          -0.89,
          0.76,
          -0.15,
          -3.17,
          -0.42,
          -0.9,
          15.52,
          13.1,
          -1.05,
          12.07,
          -3.86,
          -3.86,
          -0.81,
          5.65,
          -3.28,
          -1.88,
          -1.92,
          -0.21,
          0,
          0,
          0.85,
          -11.07,
          8.7,
          8.7,
          -5.91,
          -0.15,
          -5.66,
          -5.66,
          -0.41,
          -9.36,
          0.17,
          -5.1,
          0.79,
          -9.39,
          8.35,
          2.17,
          -0.8,
          4.67,
          -2.11,
          -6.52,
          0,
          -12.7,
          4.99,
          -4.82,
          -0.3,
          -0.61,
          1.49,
          -3.78,
          1.2,
          -0.89,
          7.45,
          -0.04,
          -7.95,
          -9.12,
          -8.36,
          -2.47,
          0,
          -20.89,
          0,
          -12.76,
          -6.7
         ]
        }
       ],
       "layout": {
        "coloraxis": {
         "colorbar": {
          "title": {
           "text": "net_migration"
          }
         },
         "colorscale": [
          [
           0,
           "#0d0887"
          ],
          [
           0.1111111111111111,
           "#46039f"
          ],
          [
           0.2222222222222222,
           "#7201a8"
          ],
          [
           0.3333333333333333,
           "#9c179e"
          ],
          [
           0.4444444444444444,
           "#bd3786"
          ],
          [
           0.5555555555555556,
           "#d8576b"
          ],
          [
           0.6666666666666666,
           "#ed7953"
          ],
          [
           0.7777777777777778,
           "#fb9f3a"
          ],
          [
           0.8888888888888888,
           "#fdca26"
          ],
          [
           1,
           "#f0f921"
          ]
         ]
        },
        "geo": {
         "center": {},
         "domain": {
          "x": [
           0,
           1
          ],
          "y": [
           0,
           1
          ]
         }
        },
        "legend": {
         "tracegroupgap": 0
        },
        "margin": {
         "t": 60
        },
        "template": {
         "data": {
          "bar": [
           {
            "error_x": {
             "color": "#2a3f5f"
            },
            "error_y": {
             "color": "#2a3f5f"
            },
            "marker": {
             "line": {
              "color": "#E5ECF6",
              "width": 0.5
             }
            },
            "type": "bar"
           }
          ],
          "barpolar": [
           {
            "marker": {
             "line": {
              "color": "#E5ECF6",
              "width": 0.5
             }
            },
            "type": "barpolar"
           }
          ],
          "carpet": [
           {
            "aaxis": {
             "endlinecolor": "#2a3f5f",
             "gridcolor": "white",
             "linecolor": "white",
             "minorgridcolor": "white",
             "startlinecolor": "#2a3f5f"
            },
            "baxis": {
             "endlinecolor": "#2a3f5f",
             "gridcolor": "white",
             "linecolor": "white",
             "minorgridcolor": "white",
             "startlinecolor": "#2a3f5f"
            },
            "type": "carpet"
           }
          ],
          "choropleth": [
           {
            "colorbar": {
             "outlinewidth": 0,
             "ticks": ""
            },
            "type": "choropleth"
           }
          ],
          "contour": [
           {
            "colorbar": {
             "outlinewidth": 0,
             "ticks": ""
            },
            "colorscale": [
             [
              0,
              "#0d0887"
             ],
             [
              0.1111111111111111,
              "#46039f"
             ],
             [
              0.2222222222222222,
              "#7201a8"
             ],
             [
              0.3333333333333333,
              "#9c179e"
             ],
             [
              0.4444444444444444,
              "#bd3786"
             ],
             [
              0.5555555555555556,
              "#d8576b"
             ],
             [
              0.6666666666666666,
              "#ed7953"
             ],
             [
              0.7777777777777778,
              "#fb9f3a"
             ],
             [
              0.8888888888888888,
              "#fdca26"
             ],
             [
              1,
              "#f0f921"
             ]
            ],
            "type": "contour"
           }
          ],
          "contourcarpet": [
           {
            "colorbar": {
             "outlinewidth": 0,
             "ticks": ""
            },
            "type": "contourcarpet"
           }
          ],
          "heatmap": [
           {
            "colorbar": {
             "outlinewidth": 0,
             "ticks": ""
            },
            "colorscale": [
             [
              0,
              "#0d0887"
             ],
             [
              0.1111111111111111,
              "#46039f"
             ],
             [
              0.2222222222222222,
              "#7201a8"
             ],
             [
              0.3333333333333333,
              "#9c179e"
             ],
             [
              0.4444444444444444,
              "#bd3786"
             ],
             [
              0.5555555555555556,
              "#d8576b"
             ],
             [
              0.6666666666666666,
              "#ed7953"
             ],
             [
              0.7777777777777778,
              "#fb9f3a"
             ],
             [
              0.8888888888888888,
              "#fdca26"
             ],
             [
              1,
              "#f0f921"
             ]
            ],
            "type": "heatmap"
           }
          ],
          "heatmapgl": [
           {
            "colorbar": {
             "outlinewidth": 0,
             "ticks": ""
            },
            "colorscale": [
             [
              0,
              "#0d0887"
             ],
             [
              0.1111111111111111,
              "#46039f"
             ],
             [
              0.2222222222222222,
              "#7201a8"
             ],
             [
              0.3333333333333333,
              "#9c179e"
             ],
             [
              0.4444444444444444,
              "#bd3786"
             ],
             [
              0.5555555555555556,
              "#d8576b"
             ],
             [
              0.6666666666666666,
              "#ed7953"
             ],
             [
              0.7777777777777778,
              "#fb9f3a"
             ],
             [
              0.8888888888888888,
              "#fdca26"
             ],
             [
              1,
              "#f0f921"
             ]
            ],
            "type": "heatmapgl"
           }
          ],
          "histogram": [
           {
            "marker": {
             "colorbar": {
              "outlinewidth": 0,
              "ticks": ""
             }
            },
            "type": "histogram"
           }
          ],
          "histogram2d": [
           {
            "colorbar": {
             "outlinewidth": 0,
             "ticks": ""
            },
            "colorscale": [
             [
              0,
              "#0d0887"
             ],
             [
              0.1111111111111111,
              "#46039f"
             ],
             [
              0.2222222222222222,
              "#7201a8"
             ],
             [
              0.3333333333333333,
              "#9c179e"
             ],
             [
              0.4444444444444444,
              "#bd3786"
             ],
             [
              0.5555555555555556,
              "#d8576b"
             ],
             [
              0.6666666666666666,
              "#ed7953"
             ],
             [
              0.7777777777777778,
              "#fb9f3a"
             ],
             [
              0.8888888888888888,
              "#fdca26"
             ],
             [
              1,
              "#f0f921"
             ]
            ],
            "type": "histogram2d"
           }
          ],
          "histogram2dcontour": [
           {
            "colorbar": {
             "outlinewidth": 0,
             "ticks": ""
            },
            "colorscale": [
             [
              0,
              "#0d0887"
             ],
             [
              0.1111111111111111,
              "#46039f"
             ],
             [
              0.2222222222222222,
              "#7201a8"
             ],
             [
              0.3333333333333333,
              "#9c179e"
             ],
             [
              0.4444444444444444,
              "#bd3786"
             ],
             [
              0.5555555555555556,
              "#d8576b"
             ],
             [
              0.6666666666666666,
              "#ed7953"
             ],
             [
              0.7777777777777778,
              "#fb9f3a"
             ],
             [
              0.8888888888888888,
              "#fdca26"
             ],
             [
              1,
              "#f0f921"
             ]
            ],
            "type": "histogram2dcontour"
           }
          ],
          "mesh3d": [
           {
            "colorbar": {
             "outlinewidth": 0,
             "ticks": ""
            },
            "type": "mesh3d"
           }
          ],
          "parcoords": [
           {
            "line": {
             "colorbar": {
              "outlinewidth": 0,
              "ticks": ""
             }
            },
            "type": "parcoords"
           }
          ],
          "pie": [
           {
            "automargin": true,
            "type": "pie"
           }
          ],
          "scatter": [
           {
            "marker": {
             "colorbar": {
              "outlinewidth": 0,
              "ticks": ""
             }
            },
            "type": "scatter"
           }
          ],
          "scatter3d": [
           {
            "line": {
             "colorbar": {
              "outlinewidth": 0,
              "ticks": ""
             }
            },
            "marker": {
             "colorbar": {
              "outlinewidth": 0,
              "ticks": ""
             }
            },
            "type": "scatter3d"
           }
          ],
          "scattercarpet": [
           {
            "marker": {
             "colorbar": {
              "outlinewidth": 0,
              "ticks": ""
             }
            },
            "type": "scattercarpet"
           }
          ],
          "scattergeo": [
           {
            "marker": {
             "colorbar": {
              "outlinewidth": 0,
              "ticks": ""
             }
            },
            "type": "scattergeo"
           }
          ],
          "scattergl": [
           {
            "marker": {
             "colorbar": {
              "outlinewidth": 0,
              "ticks": ""
             }
            },
            "type": "scattergl"
           }
          ],
          "scattermapbox": [
           {
            "marker": {
             "colorbar": {
              "outlinewidth": 0,
              "ticks": ""
             }
            },
            "type": "scattermapbox"
           }
          ],
          "scatterpolar": [
           {
            "marker": {
             "colorbar": {
              "outlinewidth": 0,
              "ticks": ""
             }
            },
            "type": "scatterpolar"
           }
          ],
          "scatterpolargl": [
           {
            "marker": {
             "colorbar": {
              "outlinewidth": 0,
              "ticks": ""
             }
            },
            "type": "scatterpolargl"
           }
          ],
          "scatterternary": [
           {
            "marker": {
             "colorbar": {
              "outlinewidth": 0,
              "ticks": ""
             }
            },
            "type": "scatterternary"
           }
          ],
          "surface": [
           {
            "colorbar": {
             "outlinewidth": 0,
             "ticks": ""
            },
            "colorscale": [
             [
              0,
              "#0d0887"
             ],
             [
              0.1111111111111111,
              "#46039f"
             ],
             [
              0.2222222222222222,
              "#7201a8"
             ],
             [
              0.3333333333333333,
              "#9c179e"
             ],
             [
              0.4444444444444444,
              "#bd3786"
             ],
             [
              0.5555555555555556,
              "#d8576b"
             ],
             [
              0.6666666666666666,
              "#ed7953"
             ],
             [
              0.7777777777777778,
              "#fb9f3a"
             ],
             [
              0.8888888888888888,
              "#fdca26"
             ],
             [
              1,
              "#f0f921"
             ]
            ],
            "type": "surface"
           }
          ],
          "table": [
           {
            "cells": {
             "fill": {
              "color": "#EBF0F8"
             },
             "line": {
              "color": "white"
             }
            },
            "header": {
             "fill": {
              "color": "#C8D4E3"
             },
             "line": {
              "color": "white"
             }
            },
            "type": "table"
           }
          ]
         },
         "layout": {
          "annotationdefaults": {
           "arrowcolor": "#2a3f5f",
           "arrowhead": 0,
           "arrowwidth": 1
          },
          "coloraxis": {
           "colorbar": {
            "outlinewidth": 0,
            "ticks": ""
           }
          },
          "colorscale": {
           "diverging": [
            [
             0,
             "#8e0152"
            ],
            [
             0.1,
             "#c51b7d"
            ],
            [
             0.2,
             "#de77ae"
            ],
            [
             0.3,
             "#f1b6da"
            ],
            [
             0.4,
             "#fde0ef"
            ],
            [
             0.5,
             "#f7f7f7"
            ],
            [
             0.6,
             "#e6f5d0"
            ],
            [
             0.7,
             "#b8e186"
            ],
            [
             0.8,
             "#7fbc41"
            ],
            [
             0.9,
             "#4d9221"
            ],
            [
             1,
             "#276419"
            ]
           ],
           "sequential": [
            [
             0,
             "#0d0887"
            ],
            [
             0.1111111111111111,
             "#46039f"
            ],
            [
             0.2222222222222222,
             "#7201a8"
            ],
            [
             0.3333333333333333,
             "#9c179e"
            ],
            [
             0.4444444444444444,
             "#bd3786"
            ],
            [
             0.5555555555555556,
             "#d8576b"
            ],
            [
             0.6666666666666666,
             "#ed7953"
            ],
            [
             0.7777777777777778,
             "#fb9f3a"
            ],
            [
             0.8888888888888888,
             "#fdca26"
            ],
            [
             1,
             "#f0f921"
            ]
           ],
           "sequentialminus": [
            [
             0,
             "#0d0887"
            ],
            [
             0.1111111111111111,
             "#46039f"
            ],
            [
             0.2222222222222222,
             "#7201a8"
            ],
            [
             0.3333333333333333,
             "#9c179e"
            ],
            [
             0.4444444444444444,
             "#bd3786"
            ],
            [
             0.5555555555555556,
             "#d8576b"
            ],
            [
             0.6666666666666666,
             "#ed7953"
            ],
            [
             0.7777777777777778,
             "#fb9f3a"
            ],
            [
             0.8888888888888888,
             "#fdca26"
            ],
            [
             1,
             "#f0f921"
            ]
           ]
          },
          "colorway": [
           "#636efa",
           "#EF553B",
           "#00cc96",
           "#ab63fa",
           "#FFA15A",
           "#19d3f3",
           "#FF6692",
           "#B6E880",
           "#FF97FF",
           "#FECB52"
          ],
          "font": {
           "color": "#2a3f5f"
          },
          "geo": {
           "bgcolor": "white",
           "lakecolor": "white",
           "landcolor": "#E5ECF6",
           "showlakes": true,
           "showland": true,
           "subunitcolor": "white"
          },
          "hoverlabel": {
           "align": "left"
          },
          "hovermode": "closest",
          "mapbox": {
           "style": "light"
          },
          "paper_bgcolor": "white",
          "plot_bgcolor": "#E5ECF6",
          "polar": {
           "angularaxis": {
            "gridcolor": "white",
            "linecolor": "white",
            "ticks": ""
           },
           "bgcolor": "#E5ECF6",
           "radialaxis": {
            "gridcolor": "white",
            "linecolor": "white",
            "ticks": ""
           }
          },
          "scene": {
           "xaxis": {
            "backgroundcolor": "#E5ECF6",
            "gridcolor": "white",
            "gridwidth": 2,
            "linecolor": "white",
            "showbackground": true,
            "ticks": "",
            "zerolinecolor": "white"
           },
           "yaxis": {
            "backgroundcolor": "#E5ECF6",
            "gridcolor": "white",
            "gridwidth": 2,
            "linecolor": "white",
            "showbackground": true,
            "ticks": "",
            "zerolinecolor": "white"
           },
           "zaxis": {
            "backgroundcolor": "#E5ECF6",
            "gridcolor": "white",
            "gridwidth": 2,
            "linecolor": "white",
            "showbackground": true,
            "ticks": "",
            "zerolinecolor": "white"
           }
          },
          "shapedefaults": {
           "line": {
            "color": "#2a3f5f"
           }
          },
          "ternary": {
           "aaxis": {
            "gridcolor": "white",
            "linecolor": "white",
            "ticks": ""
           },
           "baxis": {
            "gridcolor": "white",
            "linecolor": "white",
            "ticks": ""
           },
           "bgcolor": "#E5ECF6",
           "caxis": {
            "gridcolor": "white",
            "linecolor": "white",
            "ticks": ""
           }
          },
          "title": {
           "x": 0.05
          },
          "xaxis": {
           "automargin": true,
           "gridcolor": "white",
           "linecolor": "white",
           "ticks": "",
           "title": {
            "standoff": 15
           },
           "zerolinecolor": "white",
           "zerolinewidth": 2
          },
          "yaxis": {
           "automargin": true,
           "gridcolor": "white",
           "linecolor": "white",
           "ticks": "",
           "title": {
            "standoff": 15
           },
           "zerolinecolor": "white",
           "zerolinewidth": 2
          }
         }
        }
       }
      },
      "text/html": [
       "<div>                            <div id=\"30b49f58-6e38-4e5b-9b28-15dd5c533f7d\" class=\"plotly-graph-div\" style=\"height:525px; width:100%;\"></div>            <script type=\"text/javascript\">                require([\"plotly\"], function(Plotly) {                    window.PLOTLYENV=window.PLOTLYENV || {};                                    if (document.getElementById(\"30b49f58-6e38-4e5b-9b28-15dd5c533f7d\")) {                    Plotly.newPlot(                        \"30b49f58-6e38-4e5b-9b28-15dd5c533f7d\",                        [{\"coloraxis\": \"coloraxis\", \"geo\": \"geo\", \"hovertemplate\": \"<b>%{hovertext}</b><br><br>Country Code=%{location}<br>net_migration=%{z}<extra></extra>\", \"hovertext\": [\"China\", \"United States\", \"India\", \"Brazil\", \"Indonesia\", \"United Kingdom\", \"France\", \"Italy\", \"Mexico\", \"Korea, Rep.\", \"Spain\", \"Saudi Arabia\", \"Canada\", \"Iran, Islamic Rep.\", \"Thailand\", \"Australia\", \"Poland\", \"Egypt, Arab Rep.\", \"Nigeria\", \"Pakistan\", \"Malaysia\", \"Netherlands\", \"Argentina\", \"South Africa\", \"Colombia\", \"United Arab Emirates\", \"Bangladesh\", \"Belgium\", \"Switzerland\", \"Singapore\", \"Romania\", \"Sweden\", \"Kazakhstan\", \"Kazakhstan\", \"Hong Kong SAR, China\", \"Peru\", \"Qatar\", \"Norway\", \"Greece\", \"Morocco\", \"Hungary\", \"Finland\", \"Uzbekistan\", \"Ethiopia\", \"Angola\", \"New Zealand\", \"Ecuador\", \"Belarus\", \"Dominican Republic\", \"Tanzania\", \"Kenya\", \"Bulgaria\", \"Guatemala\", \"Tunisia\", \"Ghana\", \"Libya\", \"Croatia\", \"Serbia\", \"Panama\", \"C\\u00f4te d'Ivoire\", \"Lithuania\", \"Cameroon\", \"Jordan\", \"Bolivia\", \"Uganda\", \"Nepal\", \"Uruguay\", \"Slovenia\", \"Congo, Dem. Rep.\", \"Macao SAR, China\", \"Bahrain\", \"Afghanistan\", \"Luxembourg\", \"Senegal\", \"Lao PDR\", \"Bosnia and Herzegovina\", \"Trinidad and Tobago\", \"Mali\", \"Madagascar\", \"Mongolia\", \"Albania\", \"Mozambique\", \"Gabon\", \"Nicaragua\", \"Burkina Faso\", \"Brunei Darussalam\", \"North Macedonia\", \"Equatorial Guinea\", \"Cyprus\", \"Cyprus\", \"Chad\", \"Congo, Rep.\", \"Armenia\", \"Armenia\", \"Mauritius\", \"Jamaica\", \"Rwanda\", \"Kyrgyz Republic\", \"West Bank and Gaza\", \"Moldova\", \"Malta\", \"Iceland\", \"Mauritania\", \"Eswatini\", \"Sierra Leone\", \"Fiji\", \"Bhutan\", \"Maldives\", \"Lesotho\", \"Guyana\", \"Barbados\", \"Cabo Verde\", \"Gambia, The\", \"Central African Republic\", \"Seychelles\", \"Antigua and Barbuda\", \"San Marino\", \"St. Kitts and Nevis\", \"Solomon Islands\", \"Samoa\", \"St. Vincent and the Grenadines\", \"S\\u00e3o Tom\\u00e9 and Principe\", \"Tonga\", \"Micronesia, Fed. Sts.\", \"Marshall Islands\", \"Nauru\", \"Tuvalu\"], \"locations\": [\"CHN\", \"USA\", \"IND\", \"BRA\", \"IDN\", \"GBR\", \"FRA\", \"ITA\", \"MEX\", \"KOR\", \"ESP\", \"SAU\", \"CAN\", \"IRN\", \"THA\", \"AUS\", \"POL\", \"EGY\", \"NGA\", \"PAK\", \"MYS\", \"NLD\", \"ARG\", \"ZAF\", \"COL\", \"ARE\", \"BGD\", \"BEL\", \"CHE\", \"SGP\", \"ROU\", \"SWE\", \"KAZ\", \"KAZ\", \"HKG\", \"PER\", \"QAT\", \"NOR\", \"GRC\", \"MAR\", \"HUN\", \"FIN\", \"UZB\", \"ETH\", \"AGO\", \"NZL\", \"ECU\", \"BLR\", \"DOM\", \"TZA\", \"KEN\", \"BGR\", \"GTM\", \"TUN\", \"GHA\", \"LBY\", \"HRV\", \"SRB\", \"PAN\", \"CIV\", \"LTU\", \"CMR\", \"JOR\", \"BOL\", \"UGA\", \"NPL\", \"URY\", \"SVN\", \"COD\", \"MAC\", \"BHR\", \"AFG\", \"LUX\", \"SEN\", \"LAO\", \"BIH\", \"TTO\", \"MLI\", \"MDG\", \"MNG\", \"ALB\", \"MOZ\", \"GAB\", \"NIC\", \"BFA\", \"BRN\", \"MKD\", \"GNQ\", \"CYP\", \"CYP\", \"TCD\", \"COG\", \"ARM\", \"ARM\", \"MUS\", \"JAM\", \"RWA\", \"KGZ\", \"PSE\", \"MDA\", \"MLT\", \"ISL\", \"MRT\", \"SWZ\", \"SLE\", \"FJI\", \"BTN\", \"MDV\", \"LSO\", \"GUY\", \"BRB\", \"CPV\", \"GMB\", \"CAF\", \"SYC\", \"ATG\", \"SMR\", \"KNA\", \"SLB\", \"WSM\", \"VCT\", \"STP\", \"TON\", \"FSM\", \"MHL\", \"NRU\", \"TUV\"], \"name\": \"\", \"type\": \"choropleth\", \"z\": [-2.44, 3.4, -0.04, -0.14, -1.14, 8.69, 1.08, 3.74, -1.77, -2.85, -7.95, 3.94, 5.68, -0.16, 0.0, 4.75, -0.41, -0.49, -0.53, -1.28, -0.3, 1.93, -0.1, 0.0, -0.63, 5.31, 1.75, 5.42, -0.44, -1.46, -0.23, 0.98, 0.41, 0.41, 1.67, -2.22, 14.61, 5.9, 2.32, 0.0, 1.3, 2.88, -2.2, -0.21, 0.22, 2.17, 0.0, 0.0, -5.36, -0.48, -0.21, -3.05, -2.79, -17.84, -1.83, 1.88, -1.67, 1.7, -0.07, 0.34, -6.84, -0.14, 0.0, 0.71, -0.69, -2.23, -0.89, 0.76, -0.15, -3.17, -0.42, -0.9, 15.52, 13.1, -1.05, 12.07, -3.86, -3.86, -0.81, 5.65, -3.28, -1.88, -1.92, -0.21, 0.0, 0.0, 0.85, -11.07, 8.7, 8.7, -5.91, -0.15, -5.66, -5.66, -0.41, -9.36, 0.17, -5.1, 0.79, -9.39, 8.35, 2.17, -0.8, 4.67, -2.11, -6.52, 0.0, -12.7, 4.99, -4.82, -0.3, -0.61, 1.49, -3.78, 1.2, -0.89, 7.45, -0.04, -7.95, -9.12, -8.36, -2.47, 0.0, -20.89, 0.0, -12.76, -6.7]}],                        {\"coloraxis\": {\"colorbar\": {\"title\": {\"text\": \"net_migration\"}}, \"colorscale\": [[0.0, \"#0d0887\"], [0.1111111111111111, \"#46039f\"], [0.2222222222222222, \"#7201a8\"], [0.3333333333333333, \"#9c179e\"], [0.4444444444444444, \"#bd3786\"], [0.5555555555555556, \"#d8576b\"], [0.6666666666666666, \"#ed7953\"], [0.7777777777777778, \"#fb9f3a\"], [0.8888888888888888, \"#fdca26\"], [1.0, \"#f0f921\"]]}, \"geo\": {\"center\": {}, \"domain\": {\"x\": [0.0, 1.0], \"y\": [0.0, 1.0]}}, \"legend\": {\"tracegroupgap\": 0}, \"margin\": {\"t\": 60}, \"template\": {\"data\": {\"bar\": [{\"error_x\": {\"color\": \"#2a3f5f\"}, \"error_y\": {\"color\": \"#2a3f5f\"}, \"marker\": {\"line\": {\"color\": \"#E5ECF6\", \"width\": 0.5}}, \"type\": \"bar\"}], \"barpolar\": [{\"marker\": {\"line\": {\"color\": \"#E5ECF6\", \"width\": 0.5}}, \"type\": \"barpolar\"}], \"carpet\": [{\"aaxis\": {\"endlinecolor\": \"#2a3f5f\", \"gridcolor\": \"white\", \"linecolor\": \"white\", \"minorgridcolor\": \"white\", \"startlinecolor\": \"#2a3f5f\"}, \"baxis\": {\"endlinecolor\": \"#2a3f5f\", \"gridcolor\": \"white\", \"linecolor\": \"white\", \"minorgridcolor\": \"white\", \"startlinecolor\": \"#2a3f5f\"}, \"type\": \"carpet\"}], \"choropleth\": [{\"colorbar\": {\"outlinewidth\": 0, \"ticks\": \"\"}, \"type\": \"choropleth\"}], \"contour\": [{\"colorbar\": {\"outlinewidth\": 0, \"ticks\": \"\"}, \"colorscale\": [[0.0, \"#0d0887\"], [0.1111111111111111, \"#46039f\"], [0.2222222222222222, \"#7201a8\"], [0.3333333333333333, \"#9c179e\"], [0.4444444444444444, \"#bd3786\"], [0.5555555555555556, \"#d8576b\"], [0.6666666666666666, \"#ed7953\"], [0.7777777777777778, \"#fb9f3a\"], [0.8888888888888888, \"#fdca26\"], [1.0, \"#f0f921\"]], \"type\": \"contour\"}], \"contourcarpet\": [{\"colorbar\": {\"outlinewidth\": 0, \"ticks\": \"\"}, \"type\": \"contourcarpet\"}], \"heatmap\": [{\"colorbar\": {\"outlinewidth\": 0, \"ticks\": \"\"}, \"colorscale\": [[0.0, \"#0d0887\"], [0.1111111111111111, \"#46039f\"], [0.2222222222222222, \"#7201a8\"], [0.3333333333333333, \"#9c179e\"], [0.4444444444444444, \"#bd3786\"], [0.5555555555555556, \"#d8576b\"], [0.6666666666666666, \"#ed7953\"], [0.7777777777777778, \"#fb9f3a\"], [0.8888888888888888, \"#fdca26\"], [1.0, \"#f0f921\"]], \"type\": \"heatmap\"}], \"heatmapgl\": [{\"colorbar\": {\"outlinewidth\": 0, \"ticks\": \"\"}, \"colorscale\": [[0.0, \"#0d0887\"], [0.1111111111111111, \"#46039f\"], [0.2222222222222222, \"#7201a8\"], [0.3333333333333333, \"#9c179e\"], [0.4444444444444444, \"#bd3786\"], [0.5555555555555556, \"#d8576b\"], [0.6666666666666666, \"#ed7953\"], [0.7777777777777778, \"#fb9f3a\"], [0.8888888888888888, \"#fdca26\"], [1.0, \"#f0f921\"]], \"type\": \"heatmapgl\"}], \"histogram\": [{\"marker\": {\"colorbar\": {\"outlinewidth\": 0, \"ticks\": \"\"}}, \"type\": \"histogram\"}], \"histogram2d\": [{\"colorbar\": {\"outlinewidth\": 0, \"ticks\": \"\"}, \"colorscale\": [[0.0, \"#0d0887\"], [0.1111111111111111, \"#46039f\"], [0.2222222222222222, \"#7201a8\"], [0.3333333333333333, \"#9c179e\"], [0.4444444444444444, \"#bd3786\"], [0.5555555555555556, \"#d8576b\"], [0.6666666666666666, \"#ed7953\"], [0.7777777777777778, \"#fb9f3a\"], [0.8888888888888888, \"#fdca26\"], [1.0, \"#f0f921\"]], \"type\": \"histogram2d\"}], \"histogram2dcontour\": [{\"colorbar\": {\"outlinewidth\": 0, \"ticks\": \"\"}, \"colorscale\": [[0.0, \"#0d0887\"], [0.1111111111111111, \"#46039f\"], [0.2222222222222222, \"#7201a8\"], [0.3333333333333333, \"#9c179e\"], [0.4444444444444444, \"#bd3786\"], [0.5555555555555556, \"#d8576b\"], [0.6666666666666666, \"#ed7953\"], [0.7777777777777778, \"#fb9f3a\"], [0.8888888888888888, \"#fdca26\"], [1.0, \"#f0f921\"]], \"type\": \"histogram2dcontour\"}], \"mesh3d\": [{\"colorbar\": {\"outlinewidth\": 0, \"ticks\": \"\"}, \"type\": \"mesh3d\"}], \"parcoords\": [{\"line\": {\"colorbar\": {\"outlinewidth\": 0, \"ticks\": \"\"}}, \"type\": \"parcoords\"}], \"pie\": [{\"automargin\": true, \"type\": \"pie\"}], \"scatter\": [{\"marker\": {\"colorbar\": {\"outlinewidth\": 0, \"ticks\": \"\"}}, \"type\": \"scatter\"}], \"scatter3d\": [{\"line\": {\"colorbar\": {\"outlinewidth\": 0, \"ticks\": \"\"}}, \"marker\": {\"colorbar\": {\"outlinewidth\": 0, \"ticks\": \"\"}}, \"type\": \"scatter3d\"}], \"scattercarpet\": [{\"marker\": {\"colorbar\": {\"outlinewidth\": 0, \"ticks\": \"\"}}, \"type\": \"scattercarpet\"}], \"scattergeo\": [{\"marker\": {\"colorbar\": {\"outlinewidth\": 0, \"ticks\": \"\"}}, \"type\": \"scattergeo\"}], \"scattergl\": [{\"marker\": {\"colorbar\": {\"outlinewidth\": 0, \"ticks\": \"\"}}, \"type\": \"scattergl\"}], \"scattermapbox\": [{\"marker\": {\"colorbar\": {\"outlinewidth\": 0, \"ticks\": \"\"}}, \"type\": \"scattermapbox\"}], \"scatterpolar\": [{\"marker\": {\"colorbar\": {\"outlinewidth\": 0, \"ticks\": \"\"}}, \"type\": \"scatterpolar\"}], \"scatterpolargl\": [{\"marker\": {\"colorbar\": {\"outlinewidth\": 0, \"ticks\": \"\"}}, \"type\": \"scatterpolargl\"}], \"scatterternary\": [{\"marker\": {\"colorbar\": {\"outlinewidth\": 0, \"ticks\": \"\"}}, \"type\": \"scatterternary\"}], \"surface\": [{\"colorbar\": {\"outlinewidth\": 0, \"ticks\": \"\"}, \"colorscale\": [[0.0, \"#0d0887\"], [0.1111111111111111, \"#46039f\"], [0.2222222222222222, \"#7201a8\"], [0.3333333333333333, \"#9c179e\"], [0.4444444444444444, \"#bd3786\"], [0.5555555555555556, \"#d8576b\"], [0.6666666666666666, \"#ed7953\"], [0.7777777777777778, \"#fb9f3a\"], [0.8888888888888888, \"#fdca26\"], [1.0, \"#f0f921\"]], \"type\": \"surface\"}], \"table\": [{\"cells\": {\"fill\": {\"color\": \"#EBF0F8\"}, \"line\": {\"color\": \"white\"}}, \"header\": {\"fill\": {\"color\": \"#C8D4E3\"}, \"line\": {\"color\": \"white\"}}, \"type\": \"table\"}]}, \"layout\": {\"annotationdefaults\": {\"arrowcolor\": \"#2a3f5f\", \"arrowhead\": 0, \"arrowwidth\": 1}, \"coloraxis\": {\"colorbar\": {\"outlinewidth\": 0, \"ticks\": \"\"}}, \"colorscale\": {\"diverging\": [[0, \"#8e0152\"], [0.1, \"#c51b7d\"], [0.2, \"#de77ae\"], [0.3, \"#f1b6da\"], [0.4, \"#fde0ef\"], [0.5, \"#f7f7f7\"], [0.6, \"#e6f5d0\"], [0.7, \"#b8e186\"], [0.8, \"#7fbc41\"], [0.9, \"#4d9221\"], [1, \"#276419\"]], \"sequential\": [[0.0, \"#0d0887\"], [0.1111111111111111, \"#46039f\"], [0.2222222222222222, \"#7201a8\"], [0.3333333333333333, \"#9c179e\"], [0.4444444444444444, \"#bd3786\"], [0.5555555555555556, \"#d8576b\"], [0.6666666666666666, \"#ed7953\"], [0.7777777777777778, \"#fb9f3a\"], [0.8888888888888888, \"#fdca26\"], [1.0, \"#f0f921\"]], \"sequentialminus\": [[0.0, \"#0d0887\"], [0.1111111111111111, \"#46039f\"], [0.2222222222222222, \"#7201a8\"], [0.3333333333333333, \"#9c179e\"], [0.4444444444444444, \"#bd3786\"], [0.5555555555555556, \"#d8576b\"], [0.6666666666666666, \"#ed7953\"], [0.7777777777777778, \"#fb9f3a\"], [0.8888888888888888, \"#fdca26\"], [1.0, \"#f0f921\"]]}, \"colorway\": [\"#636efa\", \"#EF553B\", \"#00cc96\", \"#ab63fa\", \"#FFA15A\", \"#19d3f3\", \"#FF6692\", \"#B6E880\", \"#FF97FF\", \"#FECB52\"], \"font\": {\"color\": \"#2a3f5f\"}, \"geo\": {\"bgcolor\": \"white\", \"lakecolor\": \"white\", \"landcolor\": \"#E5ECF6\", \"showlakes\": true, \"showland\": true, \"subunitcolor\": \"white\"}, \"hoverlabel\": {\"align\": \"left\"}, \"hovermode\": \"closest\", \"mapbox\": {\"style\": \"light\"}, \"paper_bgcolor\": \"white\", \"plot_bgcolor\": \"#E5ECF6\", \"polar\": {\"angularaxis\": {\"gridcolor\": \"white\", \"linecolor\": \"white\", \"ticks\": \"\"}, \"bgcolor\": \"#E5ECF6\", \"radialaxis\": {\"gridcolor\": \"white\", \"linecolor\": \"white\", \"ticks\": \"\"}}, \"scene\": {\"xaxis\": {\"backgroundcolor\": \"#E5ECF6\", \"gridcolor\": \"white\", \"gridwidth\": 2, \"linecolor\": \"white\", \"showbackground\": true, \"ticks\": \"\", \"zerolinecolor\": \"white\"}, \"yaxis\": {\"backgroundcolor\": \"#E5ECF6\", \"gridcolor\": \"white\", \"gridwidth\": 2, \"linecolor\": \"white\", \"showbackground\": true, \"ticks\": \"\", \"zerolinecolor\": \"white\"}, \"zaxis\": {\"backgroundcolor\": \"#E5ECF6\", \"gridcolor\": \"white\", \"gridwidth\": 2, \"linecolor\": \"white\", \"showbackground\": true, \"ticks\": \"\", \"zerolinecolor\": \"white\"}}, \"shapedefaults\": {\"line\": {\"color\": \"#2a3f5f\"}}, \"ternary\": {\"aaxis\": {\"gridcolor\": \"white\", \"linecolor\": \"white\", \"ticks\": \"\"}, \"baxis\": {\"gridcolor\": \"white\", \"linecolor\": \"white\", \"ticks\": \"\"}, \"bgcolor\": \"#E5ECF6\", \"caxis\": {\"gridcolor\": \"white\", \"linecolor\": \"white\", \"ticks\": \"\"}}, \"title\": {\"x\": 0.05}, \"xaxis\": {\"automargin\": true, \"gridcolor\": \"white\", \"linecolor\": \"white\", \"ticks\": \"\", \"title\": {\"standoff\": 15}, \"zerolinecolor\": \"white\", \"zerolinewidth\": 2}, \"yaxis\": {\"automargin\": true, \"gridcolor\": \"white\", \"linecolor\": \"white\", \"ticks\": \"\", \"title\": {\"standoff\": 15}, \"zerolinecolor\": \"white\", \"zerolinewidth\": 2}}}},                        {\"responsive\": true}                    ).then(function(){\n",
       "                            \n",
       "var gd = document.getElementById('30b49f58-6e38-4e5b-9b28-15dd5c533f7d');\n",
       "var x = new MutationObserver(function (mutations, observer) {{\n",
       "        var display = window.getComputedStyle(gd).display;\n",
       "        if (!display || display === 'none') {{\n",
       "            console.log([gd, 'removed!']);\n",
       "            Plotly.purge(gd);\n",
       "            observer.disconnect();\n",
       "        }}\n",
       "}});\n",
       "\n",
       "// Listen for the removal of the full notebook cells\n",
       "var notebookContainer = gd.closest('#notebook-container');\n",
       "if (notebookContainer) {{\n",
       "    x.observe(notebookContainer, {childList: true});\n",
       "}}\n",
       "\n",
       "// Listen for the clearing of the current output cell\n",
       "var outputEl = gd.closest('.output');\n",
       "if (outputEl) {{\n",
       "    x.observe(outputEl, {childList: true});\n",
       "}}\n",
       "\n",
       "                        })                };                });            </script>        </div>"
      ]
     },
     "metadata": {},
     "output_type": "display_data"
    }
   ],
   "source": [
    "fig = px.choropleth(net_migration, locations='Country Code', \n",
    "                        color='net_migration',\n",
    "                        hover_name=\"country_name\", # column to add to hover information\n",
    "                        color_continuous_scale=px.colors.sequential.Plasma)\n",
    "fig.show()"
   ]
  },
  {
   "cell_type": "code",
   "execution_count": null,
   "metadata": {},
   "outputs": [],
   "source": []
  }
 ],
 "metadata": {
  "kernelspec": {
   "display_name": "Python [conda env:PythonData] *",
   "language": "python",
   "name": "conda-env-PythonData-py"
  },
  "language_info": {
   "codemirror_mode": {
    "name": "ipython",
    "version": 3
   },
   "file_extension": ".py",
   "mimetype": "text/x-python",
   "name": "python",
   "nbconvert_exporter": "python",
   "pygments_lexer": "ipython3",
   "version": "3.6.10"
  }
 },
 "nbformat": 4,
 "nbformat_minor": 4
}
