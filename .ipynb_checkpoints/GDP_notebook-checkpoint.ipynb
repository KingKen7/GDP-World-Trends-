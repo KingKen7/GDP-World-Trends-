{
 "cells": [
  {
   "cell_type": "code",
   "execution_count": 1,
   "metadata": {},
   "outputs": [],
   "source": [
    "# Dependencies\n",
    "import pandas as pd\n",
    "import matplotlib.pyplot as plt\n",
    "import scipy.stats as sts\n",
    "import numpy as np\n",
    "import csv"
   ]
  },
  {
   "cell_type": "code",
   "execution_count": 2,
   "metadata": {},
   "outputs": [],
   "source": [
    "# Read data\n",
    "Country_Continent_df = pd.read_csv('Data/Country-Continent.csv')\n",
    "\n",
    "#gdp_raw_df = pd.read_csv('Data/gdp-ppp-2017.csv', header=None)\n",
    "  \n",
    "# Calling DataFrame constructor \n",
    "column_names = [\"a\", \"b\", \"c\", \"d\", \"e\",\"f\"]\n",
    "#Creating the dataframe\n",
    "gdp_raw_df = pd.DataFrame(columns = column_names)\n",
    "  \n",
    "#read cvs file into already created DF\n",
    "with open('Data/gdp-ppp-2017.csv') as csvfile:\n",
    "    readCSV = csv.reader(csvfile, delimiter=',')\n",
    "    for row in readCSV:\n",
    "        #print(row)\n",
    "        a_series = pd.Series(row, index = gdp_raw_df.columns)\n",
    "        gdp_raw_df = gdp_raw_df.append(a_series, ignore_index=True)\n",
    "       "
   ]
  },
  {
   "cell_type": "code",
   "execution_count": 3,
   "metadata": {},
   "outputs": [
    {
     "data": {
      "text/html": [
       "<div>\n",
       "<style scoped>\n",
       "    .dataframe tbody tr th:only-of-type {\n",
       "        vertical-align: middle;\n",
       "    }\n",
       "\n",
       "    .dataframe tbody tr th {\n",
       "        vertical-align: top;\n",
       "    }\n",
       "\n",
       "    .dataframe thead th {\n",
       "        text-align: right;\n",
       "    }\n",
       "</style>\n",
       "<table border=\"1\" class=\"dataframe\">\n",
       "  <thead>\n",
       "    <tr style=\"text-align: right;\">\n",
       "      <th></th>\n",
       "      <th>a</th>\n",
       "      <th>b</th>\n",
       "      <th>d</th>\n",
       "      <th>e</th>\n",
       "    </tr>\n",
       "  </thead>\n",
       "  <tbody>\n",
       "    <tr>\n",
       "      <th>0</th>\n",
       "      <td>CHN</td>\n",
       "      <td>1</td>\n",
       "      <td>China</td>\n",
       "      <td>23,350,230</td>\n",
       "    </tr>\n",
       "    <tr>\n",
       "      <th>1</th>\n",
       "      <td>USA</td>\n",
       "      <td>2</td>\n",
       "      <td>United States</td>\n",
       "      <td>19,485,394</td>\n",
       "    </tr>\n",
       "    <tr>\n",
       "      <th>2</th>\n",
       "      <td>IND</td>\n",
       "      <td>3</td>\n",
       "      <td>India</td>\n",
       "      <td>9,596,835</td>\n",
       "    </tr>\n",
       "    <tr>\n",
       "      <th>3</th>\n",
       "      <td>JPN</td>\n",
       "      <td>4</td>\n",
       "      <td>Japan</td>\n",
       "      <td>5,333,444</td>\n",
       "    </tr>\n",
       "    <tr>\n",
       "      <th>4</th>\n",
       "      <td>DEU</td>\n",
       "      <td>5</td>\n",
       "      <td>Germany</td>\n",
       "      <td>4,345,631</td>\n",
       "    </tr>\n",
       "  </tbody>\n",
       "</table>\n",
       "</div>"
      ],
      "text/plain": [
       "     a  b              d           e\n",
       "0  CHN  1          China  23,350,230\n",
       "1  USA  2  United States  19,485,394\n",
       "2  IND  3          India   9,596,835\n",
       "3  JPN  4          Japan   5,333,444\n",
       "4  DEU  5        Germany   4,345,631"
      ]
     },
     "execution_count": 3,
     "metadata": {},
     "output_type": "execute_result"
    }
   ],
   "source": [
    "#Cleaning Data\n",
    "gdp_format_df=gdp_raw_df\n",
    "gdp_format_df.drop([0,1,2,3,4], axis=0,inplace=True)\n",
    "gdp_format_df.reset_index(inplace=True,drop=True)\n",
    "gdp_format_df['a'].replace('', np.nan, inplace=True)\n",
    "gdp_format_df.dropna(subset=['a'], inplace=True)\n",
    "gdp_format_df.drop([\"c\",\"f\"], axis=1,inplace=True)\n",
    "gdp_format_df.head()"
   ]
  },
  {
   "cell_type": "code",
   "execution_count": 4,
   "metadata": {},
   "outputs": [
    {
     "name": "stdout",
     "output_type": "stream",
     "text": [
      "       a  b                    d           e\n",
      "0    CHN  1                China  23,350,230\n",
      "1    USA  2        United States  19,485,394\n",
      "2    IND  3                India   9,596,835\n",
      "3    JPN  4                Japan   5,333,444\n",
      "4    DEU  5              Germany   4,345,631\n",
      "..   ... ..                  ...         ...\n",
      "228  SSF      Sub-Saharan Africa   4,072,459\n",
      "229  LIC              Low income   1,580,733\n",
      "230  LMC     Lower middle income  21,560,544\n",
      "231  UMC     Upper middle income  46,039,936\n",
      "232  HIC             High income  59,791,144\n",
      "\n",
      "[229 rows x 4 columns]\n"
     ]
    }
   ],
   "source": [
    "print(gdp_format_df)"
   ]
  },
  {
   "cell_type": "code",
   "execution_count": 6,
   "metadata": {},
   "outputs": [
    {
     "data": {
      "text/html": [
       "<div>\n",
       "<style scoped>\n",
       "    .dataframe tbody tr th:only-of-type {\n",
       "        vertical-align: middle;\n",
       "    }\n",
       "\n",
       "    .dataframe tbody tr th {\n",
       "        vertical-align: top;\n",
       "    }\n",
       "\n",
       "    .dataframe thead th {\n",
       "        text-align: right;\n",
       "    }\n",
       "</style>\n",
       "<table border=\"1\" class=\"dataframe\">\n",
       "  <thead>\n",
       "    <tr style=\"text-align: right;\">\n",
       "      <th></th>\n",
       "      <th>region_code</th>\n",
       "      <th>rank</th>\n",
       "      <th>region_name</th>\n",
       "      <th>region_gdp</th>\n",
       "    </tr>\n",
       "  </thead>\n",
       "  <tbody>\n",
       "    <tr>\n",
       "      <th>0</th>\n",
       "      <td>WLD</td>\n",
       "      <td></td>\n",
       "      <td>World</td>\n",
       "      <td>128,755,600</td>\n",
       "    </tr>\n",
       "    <tr>\n",
       "      <th>1</th>\n",
       "      <td>EAS</td>\n",
       "      <td></td>\n",
       "      <td>East Asia &amp; Pacific</td>\n",
       "      <td>41,946,676</td>\n",
       "    </tr>\n",
       "    <tr>\n",
       "      <th>2</th>\n",
       "      <td>ECS</td>\n",
       "      <td></td>\n",
       "      <td>Europe &amp; Central Asia</td>\n",
       "      <td>30,688,963</td>\n",
       "    </tr>\n",
       "    <tr>\n",
       "      <th>3</th>\n",
       "      <td>LCN</td>\n",
       "      <td></td>\n",
       "      <td>Latin America &amp; Caribbean</td>\n",
       "      <td>10,258,018</td>\n",
       "    </tr>\n",
       "    <tr>\n",
       "      <th>4</th>\n",
       "      <td>MEA</td>\n",
       "      <td></td>\n",
       "      <td>Middle East &amp; North Africa</td>\n",
       "      <td>8,864,772</td>\n",
       "    </tr>\n",
       "    <tr>\n",
       "      <th>5</th>\n",
       "      <td>NAC</td>\n",
       "      <td></td>\n",
       "      <td>North America</td>\n",
       "      <td>21,196,625</td>\n",
       "    </tr>\n",
       "    <tr>\n",
       "      <th>6</th>\n",
       "      <td>SAS</td>\n",
       "      <td></td>\n",
       "      <td>South Asia</td>\n",
       "      <td>11,766,663</td>\n",
       "    </tr>\n",
       "    <tr>\n",
       "      <th>7</th>\n",
       "      <td>SSF</td>\n",
       "      <td></td>\n",
       "      <td>Sub-Saharan Africa</td>\n",
       "      <td>4,072,459</td>\n",
       "    </tr>\n",
       "  </tbody>\n",
       "</table>\n",
       "</div>"
      ],
      "text/plain": [
       "  region_code rank                 region_name   region_gdp\n",
       "0         WLD                            World  128,755,600\n",
       "1         EAS              East Asia & Pacific   41,946,676\n",
       "2         ECS            Europe & Central Asia   30,688,963\n",
       "3         LCN        Latin America & Caribbean   10,258,018\n",
       "4         MEA       Middle East & North Africa    8,864,772\n",
       "5         NAC                    North America   21,196,625\n",
       "6         SAS                       South Asia   11,766,663\n",
       "7         SSF               Sub-Saharan Africa    4,072,459"
      ]
     },
     "execution_count": 6,
     "metadata": {},
     "output_type": "execute_result"
    }
   ],
   "source": [
    "#Getting location to split read file into two pieces\n",
    "Index_pos = gdp_format_df.a[gdp_format_df.a == 'WLD'].index.tolist()\n",
    "Index_pos2 = gdp_format_df.a[gdp_format_df.a == 'LIC'].index.tolist()\n",
    "Index_pos3 = gdp_format_df.a[gdp_format_df.a == 'TUV'].index.tolist()\n",
    "\n",
    "#Getting only Country Data\n",
    "gdp_country_df = gdp_format_df.truncate(after=Index_pos3[0])\n",
    "\n",
    "#Getting only region data including WLD\n",
    "gdp_region_df = gdp_format_df.truncate(before=Index_pos[0],after=Index_pos2[0]-1)\n",
    "\n",
    "#Restting Index back to 0\n",
    "gdp_region_df.reset_index(inplace=True,drop=True)\n",
    "\n",
    "gdp_country_df.rename(columns={'a': 'country_code', 'b': 'rank', 'd': 'country_name', 'e': 'gdp'}, inplace=True)\n",
    "gdp_region_df.rename(columns={'a': 'region_code', 'b': 'rank', 'd': 'region_name', 'e': 'region_gdp'}, inplace=True)\n",
    "gdp_region_df.head(20)"
   ]
  },
  {
   "cell_type": "code",
   "execution_count": 7,
   "metadata": {},
   "outputs": [
    {
     "data": {
      "text/html": [
       "<div>\n",
       "<style scoped>\n",
       "    .dataframe tbody tr th:only-of-type {\n",
       "        vertical-align: middle;\n",
       "    }\n",
       "\n",
       "    .dataframe tbody tr th {\n",
       "        vertical-align: top;\n",
       "    }\n",
       "\n",
       "    .dataframe thead th {\n",
       "        text-align: right;\n",
       "    }\n",
       "</style>\n",
       "<table border=\"1\" class=\"dataframe\">\n",
       "  <thead>\n",
       "    <tr style=\"text-align: right;\">\n",
       "      <th></th>\n",
       "      <th>Country Code</th>\n",
       "      <th>Population 2017</th>\n",
       "    </tr>\n",
       "  </thead>\n",
       "  <tbody>\n",
       "    <tr>\n",
       "      <th>0</th>\n",
       "      <td>AFG</td>\n",
       "      <td>36296400</td>\n",
       "    </tr>\n",
       "    <tr>\n",
       "      <th>1</th>\n",
       "      <td>ALB</td>\n",
       "      <td>2873457</td>\n",
       "    </tr>\n",
       "    <tr>\n",
       "      <th>2</th>\n",
       "      <td>DZA</td>\n",
       "      <td>41389198</td>\n",
       "    </tr>\n",
       "    <tr>\n",
       "      <th>3</th>\n",
       "      <td>ASM</td>\n",
       "      <td>55620</td>\n",
       "    </tr>\n",
       "    <tr>\n",
       "      <th>4</th>\n",
       "      <td>AND</td>\n",
       "      <td>77001</td>\n",
       "    </tr>\n",
       "    <tr>\n",
       "      <th>...</th>\n",
       "      <td>...</td>\n",
       "      <td>...</td>\n",
       "    </tr>\n",
       "    <tr>\n",
       "      <th>254</th>\n",
       "      <td>PSE</td>\n",
       "      <td>4454805</td>\n",
       "    </tr>\n",
       "    <tr>\n",
       "      <th>255</th>\n",
       "      <td>WLD</td>\n",
       "      <td>7509065705</td>\n",
       "    </tr>\n",
       "    <tr>\n",
       "      <th>256</th>\n",
       "      <td>YEM</td>\n",
       "      <td>27834821</td>\n",
       "    </tr>\n",
       "    <tr>\n",
       "      <th>257</th>\n",
       "      <td>ZMB</td>\n",
       "      <td>16853688</td>\n",
       "    </tr>\n",
       "    <tr>\n",
       "      <th>258</th>\n",
       "      <td>ZWE</td>\n",
       "      <td>14236745</td>\n",
       "    </tr>\n",
       "  </tbody>\n",
       "</table>\n",
       "<p>259 rows × 2 columns</p>\n",
       "</div>"
      ],
      "text/plain": [
       "    Country Code Population 2017\n",
       "0            AFG        36296400\n",
       "1            ALB         2873457\n",
       "2            DZA        41389198\n",
       "3            ASM           55620\n",
       "4            AND           77001\n",
       "..           ...             ...\n",
       "254          PSE         4454805\n",
       "255          WLD      7509065705\n",
       "256          YEM        27834821\n",
       "257          ZMB        16853688\n",
       "258          ZWE        14236745\n",
       "\n",
       "[259 rows x 2 columns]"
      ]
     },
     "execution_count": 7,
     "metadata": {},
     "output_type": "execute_result"
    }
   ],
   "source": [
    "# Read data population file World-Pop-2017\n",
    "World_pop_df = pd.read_csv('Data/World-Pop-2017.csv')\n",
    "World_pop_df['Country Code'].replace('', np.nan, inplace=True)\n",
    "World_pop_df.dropna(subset=['Country Code'], inplace=True)\n",
    "World_pop_df.drop(['Series Name','Series Code','Country Name'], axis = 1, inplace=True)\n",
    "World_pop_df.rename(columns = {'2017 [YR2017]': 'Population 2017'}, inplace=True)\n",
    "World_pop_df"
   ]
  },
  {
   "cell_type": "code",
   "execution_count": 8,
   "metadata": {},
   "outputs": [
    {
     "data": {
      "text/html": [
       "<div>\n",
       "<style scoped>\n",
       "    .dataframe tbody tr th:only-of-type {\n",
       "        vertical-align: middle;\n",
       "    }\n",
       "\n",
       "    .dataframe tbody tr th {\n",
       "        vertical-align: top;\n",
       "    }\n",
       "\n",
       "    .dataframe thead th {\n",
       "        text-align: right;\n",
       "    }\n",
       "</style>\n",
       "<table border=\"1\" class=\"dataframe\">\n",
       "  <thead>\n",
       "    <tr style=\"text-align: right;\">\n",
       "      <th></th>\n",
       "      <th>region_code</th>\n",
       "      <th>rank</th>\n",
       "      <th>region_name</th>\n",
       "      <th>region_gdp</th>\n",
       "    </tr>\n",
       "  </thead>\n",
       "  <tbody>\n",
       "    <tr>\n",
       "      <th>0</th>\n",
       "      <td>WLD</td>\n",
       "      <td></td>\n",
       "      <td>World</td>\n",
       "      <td>128755600</td>\n",
       "    </tr>\n",
       "    <tr>\n",
       "      <th>1</th>\n",
       "      <td>EAS</td>\n",
       "      <td></td>\n",
       "      <td>East Asia &amp; Pacific</td>\n",
       "      <td>41946676</td>\n",
       "    </tr>\n",
       "    <tr>\n",
       "      <th>2</th>\n",
       "      <td>ECS</td>\n",
       "      <td></td>\n",
       "      <td>Europe &amp; Central Asia</td>\n",
       "      <td>30688963</td>\n",
       "    </tr>\n",
       "    <tr>\n",
       "      <th>3</th>\n",
       "      <td>LCN</td>\n",
       "      <td></td>\n",
       "      <td>Latin America &amp; Caribbean</td>\n",
       "      <td>10258018</td>\n",
       "    </tr>\n",
       "    <tr>\n",
       "      <th>4</th>\n",
       "      <td>MEA</td>\n",
       "      <td></td>\n",
       "      <td>Middle East &amp; North Africa</td>\n",
       "      <td>8864772</td>\n",
       "    </tr>\n",
       "    <tr>\n",
       "      <th>5</th>\n",
       "      <td>NAC</td>\n",
       "      <td></td>\n",
       "      <td>North America</td>\n",
       "      <td>21196625</td>\n",
       "    </tr>\n",
       "    <tr>\n",
       "      <th>6</th>\n",
       "      <td>SAS</td>\n",
       "      <td></td>\n",
       "      <td>South Asia</td>\n",
       "      <td>11766663</td>\n",
       "    </tr>\n",
       "    <tr>\n",
       "      <th>7</th>\n",
       "      <td>SSF</td>\n",
       "      <td></td>\n",
       "      <td>Sub-Saharan Africa</td>\n",
       "      <td>4072459</td>\n",
       "    </tr>\n",
       "  </tbody>\n",
       "</table>\n",
       "</div>"
      ],
      "text/plain": [
       "  region_code rank                 region_name  region_gdp\n",
       "0         WLD                            World   128755600\n",
       "1         EAS              East Asia & Pacific    41946676\n",
       "2         ECS            Europe & Central Asia    30688963\n",
       "3         LCN        Latin America & Caribbean    10258018\n",
       "4         MEA       Middle East & North Africa     8864772\n",
       "5         NAC                    North America    21196625\n",
       "6         SAS                       South Asia    11766663\n",
       "7         SSF               Sub-Saharan Africa     4072459"
      ]
     },
     "execution_count": 8,
     "metadata": {},
     "output_type": "execute_result"
    }
   ],
   "source": [
    "gdp_format_df.drop([0,1,2,3,4], axis=0,inplace=True)\n",
    "gdp_region_df['region_gdp'] = gdp_region_df['region_gdp'].str.replace(',', '') # remove commas from data\n",
    "gdp_region_df['region_gdp'] = gdp_region_df['region_gdp'].astype(int)\n",
    "gdp_region_df"
   ]
  },
  {
   "cell_type": "code",
   "execution_count": 9,
   "metadata": {},
   "outputs": [
    {
     "data": {
      "text/html": [
       "<div>\n",
       "<style scoped>\n",
       "    .dataframe tbody tr th:only-of-type {\n",
       "        vertical-align: middle;\n",
       "    }\n",
       "\n",
       "    .dataframe tbody tr th {\n",
       "        vertical-align: top;\n",
       "    }\n",
       "\n",
       "    .dataframe thead th {\n",
       "        text-align: right;\n",
       "    }\n",
       "</style>\n",
       "<table border=\"1\" class=\"dataframe\">\n",
       "  <thead>\n",
       "    <tr style=\"text-align: right;\">\n",
       "      <th></th>\n",
       "      <th>country_code</th>\n",
       "      <th>rank</th>\n",
       "      <th>country_name</th>\n",
       "      <th>gdp</th>\n",
       "    </tr>\n",
       "  </thead>\n",
       "  <tbody>\n",
       "    <tr>\n",
       "      <th>0</th>\n",
       "      <td>CHN</td>\n",
       "      <td>1</td>\n",
       "      <td>China</td>\n",
       "      <td>23,350,230</td>\n",
       "    </tr>\n",
       "    <tr>\n",
       "      <th>1</th>\n",
       "      <td>USA</td>\n",
       "      <td>2</td>\n",
       "      <td>United States</td>\n",
       "      <td>19,485,394</td>\n",
       "    </tr>\n",
       "    <tr>\n",
       "      <th>2</th>\n",
       "      <td>IND</td>\n",
       "      <td>3</td>\n",
       "      <td>India</td>\n",
       "      <td>9,596,835</td>\n",
       "    </tr>\n",
       "    <tr>\n",
       "      <th>3</th>\n",
       "      <td>JPN</td>\n",
       "      <td>4</td>\n",
       "      <td>Japan</td>\n",
       "      <td>5,333,444</td>\n",
       "    </tr>\n",
       "    <tr>\n",
       "      <th>4</th>\n",
       "      <td>DEU</td>\n",
       "      <td>5</td>\n",
       "      <td>Germany</td>\n",
       "      <td>4,345,631</td>\n",
       "    </tr>\n",
       "    <tr>\n",
       "      <th>...</th>\n",
       "      <td>...</td>\n",
       "      <td>...</td>\n",
       "      <td>...</td>\n",
       "      <td>...</td>\n",
       "    </tr>\n",
       "    <tr>\n",
       "      <th>186</th>\n",
       "      <td>PLW</td>\n",
       "      <td>187</td>\n",
       "      <td>Palau</td>\n",
       "      <td>323</td>\n",
       "    </tr>\n",
       "    <tr>\n",
       "      <th>187</th>\n",
       "      <td>KIR</td>\n",
       "      <td>188</td>\n",
       "      <td>Kiribati</td>\n",
       "      <td>254</td>\n",
       "    </tr>\n",
       "    <tr>\n",
       "      <th>188</th>\n",
       "      <td>MHL</td>\n",
       "      <td>189</td>\n",
       "      <td>Marshall Islands</td>\n",
       "      <td>226</td>\n",
       "    </tr>\n",
       "    <tr>\n",
       "      <th>189</th>\n",
       "      <td>NRU</td>\n",
       "      <td>190</td>\n",
       "      <td>Nauru</td>\n",
       "      <td>194</td>\n",
       "    </tr>\n",
       "    <tr>\n",
       "      <th>190</th>\n",
       "      <td>TUV</td>\n",
       "      <td>191</td>\n",
       "      <td>Tuvalu</td>\n",
       "      <td>44</td>\n",
       "    </tr>\n",
       "  </tbody>\n",
       "</table>\n",
       "<p>191 rows × 4 columns</p>\n",
       "</div>"
      ],
      "text/plain": [
       "    country_code rank      country_name         gdp\n",
       "0            CHN    1             China  23,350,230\n",
       "1            USA    2     United States  19,485,394\n",
       "2            IND    3             India   9,596,835\n",
       "3            JPN    4             Japan   5,333,444\n",
       "4            DEU    5           Germany   4,345,631\n",
       "..           ...  ...               ...         ...\n",
       "186          PLW  187             Palau         323\n",
       "187          KIR  188          Kiribati         254\n",
       "188          MHL  189  Marshall Islands         226\n",
       "189          NRU  190             Nauru         194\n",
       "190          TUV  191            Tuvalu          44\n",
       "\n",
       "[191 rows x 4 columns]"
      ]
     },
     "execution_count": 9,
     "metadata": {},
     "output_type": "execute_result"
    }
   ],
   "source": [
    "gdp_country_df"
   ]
  },
  {
   "cell_type": "code",
   "execution_count": 10,
   "metadata": {},
   "outputs": [
    {
     "data": {
      "text/html": [
       "<div>\n",
       "<style scoped>\n",
       "    .dataframe tbody tr th:only-of-type {\n",
       "        vertical-align: middle;\n",
       "    }\n",
       "\n",
       "    .dataframe tbody tr th {\n",
       "        vertical-align: top;\n",
       "    }\n",
       "\n",
       "    .dataframe thead th {\n",
       "        text-align: right;\n",
       "    }\n",
       "</style>\n",
       "<table border=\"1\" class=\"dataframe\">\n",
       "  <thead>\n",
       "    <tr style=\"text-align: right;\">\n",
       "      <th></th>\n",
       "      <th>country_code</th>\n",
       "      <th>rank</th>\n",
       "      <th>country_name</th>\n",
       "      <th>gdp</th>\n",
       "    </tr>\n",
       "  </thead>\n",
       "  <tbody>\n",
       "    <tr>\n",
       "      <th>0</th>\n",
       "      <td>CHN</td>\n",
       "      <td>1</td>\n",
       "      <td>China</td>\n",
       "      <td>23350230</td>\n",
       "    </tr>\n",
       "    <tr>\n",
       "      <th>1</th>\n",
       "      <td>USA</td>\n",
       "      <td>2</td>\n",
       "      <td>United States</td>\n",
       "      <td>19485394</td>\n",
       "    </tr>\n",
       "    <tr>\n",
       "      <th>2</th>\n",
       "      <td>IND</td>\n",
       "      <td>3</td>\n",
       "      <td>India</td>\n",
       "      <td>9596835</td>\n",
       "    </tr>\n",
       "    <tr>\n",
       "      <th>3</th>\n",
       "      <td>JPN</td>\n",
       "      <td>4</td>\n",
       "      <td>Japan</td>\n",
       "      <td>5333444</td>\n",
       "    </tr>\n",
       "    <tr>\n",
       "      <th>4</th>\n",
       "      <td>DEU</td>\n",
       "      <td>5</td>\n",
       "      <td>Germany</td>\n",
       "      <td>4345631</td>\n",
       "    </tr>\n",
       "    <tr>\n",
       "      <th>...</th>\n",
       "      <td>...</td>\n",
       "      <td>...</td>\n",
       "      <td>...</td>\n",
       "      <td>...</td>\n",
       "    </tr>\n",
       "    <tr>\n",
       "      <th>186</th>\n",
       "      <td>PLW</td>\n",
       "      <td>187</td>\n",
       "      <td>Palau</td>\n",
       "      <td>323</td>\n",
       "    </tr>\n",
       "    <tr>\n",
       "      <th>187</th>\n",
       "      <td>KIR</td>\n",
       "      <td>188</td>\n",
       "      <td>Kiribati</td>\n",
       "      <td>254</td>\n",
       "    </tr>\n",
       "    <tr>\n",
       "      <th>188</th>\n",
       "      <td>MHL</td>\n",
       "      <td>189</td>\n",
       "      <td>Marshall Islands</td>\n",
       "      <td>226</td>\n",
       "    </tr>\n",
       "    <tr>\n",
       "      <th>189</th>\n",
       "      <td>NRU</td>\n",
       "      <td>190</td>\n",
       "      <td>Nauru</td>\n",
       "      <td>194</td>\n",
       "    </tr>\n",
       "    <tr>\n",
       "      <th>190</th>\n",
       "      <td>TUV</td>\n",
       "      <td>191</td>\n",
       "      <td>Tuvalu</td>\n",
       "      <td>44</td>\n",
       "    </tr>\n",
       "  </tbody>\n",
       "</table>\n",
       "<p>191 rows × 4 columns</p>\n",
       "</div>"
      ],
      "text/plain": [
       "    country_code rank      country_name       gdp\n",
       "0            CHN    1             China  23350230\n",
       "1            USA    2     United States  19485394\n",
       "2            IND    3             India   9596835\n",
       "3            JPN    4             Japan   5333444\n",
       "4            DEU    5           Germany   4345631\n",
       "..           ...  ...               ...       ...\n",
       "186          PLW  187             Palau       323\n",
       "187          KIR  188          Kiribati       254\n",
       "188          MHL  189  Marshall Islands       226\n",
       "189          NRU  190             Nauru       194\n",
       "190          TUV  191            Tuvalu        44\n",
       "\n",
       "[191 rows x 4 columns]"
      ]
     },
     "execution_count": 10,
     "metadata": {},
     "output_type": "execute_result"
    }
   ],
   "source": [
    "# clean convert gdp to integer\n",
    "gdp_country_df['gdp'] = gdp_country_df['gdp'].str.replace(',', '') # remove commas from data\n",
    "gdp_country_df['gdp'] = gdp_country_df['gdp'].astype(int)\n",
    "gdp_country_df"
   ]
  },
  {
   "cell_type": "code",
   "execution_count": 11,
   "metadata": {},
   "outputs": [
    {
     "data": {
      "text/html": [
       "<div>\n",
       "<style scoped>\n",
       "    .dataframe tbody tr th:only-of-type {\n",
       "        vertical-align: middle;\n",
       "    }\n",
       "\n",
       "    .dataframe tbody tr th {\n",
       "        vertical-align: top;\n",
       "    }\n",
       "\n",
       "    .dataframe thead th {\n",
       "        text-align: right;\n",
       "    }\n",
       "</style>\n",
       "<table border=\"1\" class=\"dataframe\">\n",
       "  <thead>\n",
       "    <tr style=\"text-align: right;\">\n",
       "      <th></th>\n",
       "      <th>Continent_Name</th>\n",
       "      <th>Continent_Code</th>\n",
       "      <th>Country_Name</th>\n",
       "      <th>Two_Letter_Country_Code</th>\n",
       "      <th>Three_Letter_Country_Code</th>\n",
       "      <th>Country_Number</th>\n",
       "    </tr>\n",
       "  </thead>\n",
       "  <tbody>\n",
       "    <tr>\n",
       "      <th>0</th>\n",
       "      <td>Asia</td>\n",
       "      <td>AS</td>\n",
       "      <td>Afghanistan, Islamic Republic of</td>\n",
       "      <td>AF</td>\n",
       "      <td>AFG</td>\n",
       "      <td>4.0</td>\n",
       "    </tr>\n",
       "    <tr>\n",
       "      <th>1</th>\n",
       "      <td>Europe</td>\n",
       "      <td>EU</td>\n",
       "      <td>Albania, Republic of</td>\n",
       "      <td>AL</td>\n",
       "      <td>ALB</td>\n",
       "      <td>8.0</td>\n",
       "    </tr>\n",
       "    <tr>\n",
       "      <th>2</th>\n",
       "      <td>Antarctica</td>\n",
       "      <td>AN</td>\n",
       "      <td>Antarctica (the territory South of 60 deg S)</td>\n",
       "      <td>AQ</td>\n",
       "      <td>ATA</td>\n",
       "      <td>10.0</td>\n",
       "    </tr>\n",
       "    <tr>\n",
       "      <th>3</th>\n",
       "      <td>Africa</td>\n",
       "      <td>AF</td>\n",
       "      <td>Algeria, People's Democratic Republic of</td>\n",
       "      <td>DZ</td>\n",
       "      <td>DZA</td>\n",
       "      <td>12.0</td>\n",
       "    </tr>\n",
       "    <tr>\n",
       "      <th>4</th>\n",
       "      <td>Oceania</td>\n",
       "      <td>OC</td>\n",
       "      <td>American Samoa</td>\n",
       "      <td>AS</td>\n",
       "      <td>ASM</td>\n",
       "      <td>16.0</td>\n",
       "    </tr>\n",
       "    <tr>\n",
       "      <th>...</th>\n",
       "      <td>...</td>\n",
       "      <td>...</td>\n",
       "      <td>...</td>\n",
       "      <td>...</td>\n",
       "      <td>...</td>\n",
       "      <td>...</td>\n",
       "    </tr>\n",
       "    <tr>\n",
       "      <th>257</th>\n",
       "      <td>Africa</td>\n",
       "      <td>AF</td>\n",
       "      <td>Zambia, Republic of</td>\n",
       "      <td>ZM</td>\n",
       "      <td>ZMB</td>\n",
       "      <td>894.0</td>\n",
       "    </tr>\n",
       "    <tr>\n",
       "      <th>258</th>\n",
       "      <td>Oceania</td>\n",
       "      <td>OC</td>\n",
       "      <td>Disputed Territory</td>\n",
       "      <td>XX</td>\n",
       "      <td>NaN</td>\n",
       "      <td>NaN</td>\n",
       "    </tr>\n",
       "    <tr>\n",
       "      <th>259</th>\n",
       "      <td>Asia</td>\n",
       "      <td>AS</td>\n",
       "      <td>Iraq-Saudi Arabia Neutral Zone</td>\n",
       "      <td>XE</td>\n",
       "      <td>NaN</td>\n",
       "      <td>NaN</td>\n",
       "    </tr>\n",
       "    <tr>\n",
       "      <th>260</th>\n",
       "      <td>Asia</td>\n",
       "      <td>AS</td>\n",
       "      <td>United Nations Neutral Zone</td>\n",
       "      <td>XD</td>\n",
       "      <td>NaN</td>\n",
       "      <td>NaN</td>\n",
       "    </tr>\n",
       "    <tr>\n",
       "      <th>261</th>\n",
       "      <td>Asia</td>\n",
       "      <td>AS</td>\n",
       "      <td>Spratly Islands</td>\n",
       "      <td>XS</td>\n",
       "      <td>NaN</td>\n",
       "      <td>NaN</td>\n",
       "    </tr>\n",
       "  </tbody>\n",
       "</table>\n",
       "<p>262 rows × 6 columns</p>\n",
       "</div>"
      ],
      "text/plain": [
       "    Continent_Name Continent_Code  \\\n",
       "0             Asia             AS   \n",
       "1           Europe             EU   \n",
       "2       Antarctica             AN   \n",
       "3           Africa             AF   \n",
       "4          Oceania             OC   \n",
       "..             ...            ...   \n",
       "257         Africa             AF   \n",
       "258        Oceania             OC   \n",
       "259           Asia             AS   \n",
       "260           Asia             AS   \n",
       "261           Asia             AS   \n",
       "\n",
       "                                     Country_Name Two_Letter_Country_Code  \\\n",
       "0                Afghanistan, Islamic Republic of                      AF   \n",
       "1                            Albania, Republic of                      AL   \n",
       "2    Antarctica (the territory South of 60 deg S)                      AQ   \n",
       "3        Algeria, People's Democratic Republic of                      DZ   \n",
       "4                                  American Samoa                      AS   \n",
       "..                                            ...                     ...   \n",
       "257                           Zambia, Republic of                      ZM   \n",
       "258                            Disputed Territory                      XX   \n",
       "259                Iraq-Saudi Arabia Neutral Zone                      XE   \n",
       "260                   United Nations Neutral Zone                      XD   \n",
       "261                               Spratly Islands                      XS   \n",
       "\n",
       "    Three_Letter_Country_Code  Country_Number  \n",
       "0                         AFG             4.0  \n",
       "1                         ALB             8.0  \n",
       "2                         ATA            10.0  \n",
       "3                         DZA            12.0  \n",
       "4                         ASM            16.0  \n",
       "..                        ...             ...  \n",
       "257                       ZMB           894.0  \n",
       "258                       NaN             NaN  \n",
       "259                       NaN             NaN  \n",
       "260                       NaN             NaN  \n",
       "261                       NaN             NaN  \n",
       "\n",
       "[262 rows x 6 columns]"
      ]
     },
     "execution_count": 11,
     "metadata": {},
     "output_type": "execute_result"
    }
   ],
   "source": [
    "Country_Continent_df"
   ]
  },
  {
   "cell_type": "code",
   "execution_count": 12,
   "metadata": {},
   "outputs": [
    {
     "data": {
      "image/png": "[encoded data removed]",
      "text/plain": [
       "<Figure size 432x288 with 1 Axes>"
      ]
     },
     "metadata": {},
     "output_type": "display_data"
    }
   ],
   "source": [
    "# Create pie graph from regions using gdp_region_df cleaned data\n",
    "gdp_region = gdp_region_df.drop(0, axis = 0)\n",
    "region = gdp_region['region_name']\n",
    "sizes = gdp_region['region_gdp']\n",
    "plt.pie(sizes, labels = region, autopct=\"%1.1f%%\")\n",
    "plt.title('GDP by Region')\n",
    "plt.show()"
   ]
  },
  {
   "cell_type": "code",
   "execution_count": 13,
   "metadata": {},
   "outputs": [
    {
     "data": {
      "text/plain": [
       "Text(0.5, 1.0, 'Total GDP- Top 10 Countires in 2017')"
      ]
     },
     "execution_count": 13,
     "metadata": {},
     "output_type": "execute_result"
    },
    {
     "data": {
      "image/png": "[encoded data removed]",
      "text/plain": [
       "<Figure size 432x288 with 1 Axes>"
      ]
     },
     "metadata": {
      "needs_background": "light"
     },
     "output_type": "display_data"
    }
   ],
   "source": [
    "# bar graph of top 10 countries by total GDP\n",
    "x_axis = gdp_country_df.iloc[0:9,2]\n",
    "y_axis = gdp_country_df.iloc[0:9,3]\n",
    "plt.bar(x_axis, y_axis)\n",
    "tick_locations = [x for x in range(len(x_axis))]\n",
    "plt.xticks(tick_locations, x_axis, rotation=\"vertical\") \n",
    "plt.xlabel(\"Country\")\n",
    "plt.ylabel('GDP (trillion $)')\n",
    "plt.title(\"Total GDP- Top 10 Countires in 2017\")\n",
    "plt.show()"
   ]
  },
  {
   "cell_type": "code",
   "execution_count": 21,
   "metadata": {},
   "outputs": [
    {
     "data": {
      "image/png": "[encoded data removed]",
      "text/plain": [
       "<Figure size 432x288 with 1 Axes>"
      ]
     },
     "metadata": {
      "needs_background": "light"
     },
     "output_type": "display_data"
    }
   ],
   "source": [
    "# bar graph of lowest 10 countries by total GDP\n",
    "gdp_country_low_df =  gdp_per_capita.sort_values(by = ['gdp'], ascending = True)\n",
    "x_axis_low = gdp_country_low_df.iloc[0:9,2]\n",
    "y_axis_low = gdp_country_low_df.iloc[0:9,3]\n",
    "plt.bar(x_axis_low , y_axis_low )\n",
    "tick_locations = [x for x in range(len(x_axis_low ))]\n",
    "plt.xticks(tick_locations, x_axis_low , rotation=\"vertical\") \n",
    "plt.xlabel(\"Country\")\n",
    "plt.ylabel('GDP (million $)')\n",
    "plt.title(\"Total GDP- Lowest 10 Countires in 2017\")\n",
    "plt.show()"
   ]
  },
  {
   "cell_type": "code",
   "execution_count": 28,
   "metadata": {},
   "outputs": [
    {
     "data": {
      "image/png": "[encoded data removed]",
      "text/plain": [
       "<Figure size 432x288 with 1 Axes>"
      ]
     },
     "metadata": {
      "needs_background": "light"
     },
     "output_type": "display_data"
    },
    {
     "data": {
      "text/html": [
       "<div>\n",
       "<style scoped>\n",
       "    .dataframe tbody tr th:only-of-type {\n",
       "        vertical-align: middle;\n",
       "    }\n",
       "\n",
       "    .dataframe tbody tr th {\n",
       "        vertical-align: top;\n",
       "    }\n",
       "\n",
       "    .dataframe thead th {\n",
       "        text-align: right;\n",
       "    }\n",
       "</style>\n",
       "<table border=\"1\" class=\"dataframe\">\n",
       "  <thead>\n",
       "    <tr style=\"text-align: right;\">\n",
       "      <th></th>\n",
       "      <th>country_code</th>\n",
       "      <th>rank</th>\n",
       "      <th>country_name</th>\n",
       "      <th>gdp</th>\n",
       "      <th>Country Code</th>\n",
       "      <th>Population 2017</th>\n",
       "      <th>per capita</th>\n",
       "    </tr>\n",
       "  </thead>\n",
       "  <tbody>\n",
       "    <tr>\n",
       "      <th>0</th>\n",
       "      <td>CHN</td>\n",
       "      <td>1</td>\n",
       "      <td>China</td>\n",
       "      <td>23350230</td>\n",
       "      <td>CHN</td>\n",
       "      <td>1386395000</td>\n",
       "      <td>16842.407827</td>\n",
       "    </tr>\n",
       "    <tr>\n",
       "      <th>1</th>\n",
       "      <td>USA</td>\n",
       "      <td>2</td>\n",
       "      <td>United States</td>\n",
       "      <td>19485394</td>\n",
       "      <td>USA</td>\n",
       "      <td>324985539</td>\n",
       "      <td>59957.726304</td>\n",
       "    </tr>\n",
       "    <tr>\n",
       "      <th>2</th>\n",
       "      <td>IND</td>\n",
       "      <td>3</td>\n",
       "      <td>India</td>\n",
       "      <td>9596835</td>\n",
       "      <td>IND</td>\n",
       "      <td>1338658835</td>\n",
       "      <td>7168.992389</td>\n",
       "    </tr>\n",
       "    <tr>\n",
       "      <th>3</th>\n",
       "      <td>JPN</td>\n",
       "      <td>4</td>\n",
       "      <td>Japan</td>\n",
       "      <td>5333444</td>\n",
       "      <td>JPN</td>\n",
       "      <td>126785797</td>\n",
       "      <td>42066.573119</td>\n",
       "    </tr>\n",
       "    <tr>\n",
       "      <th>4</th>\n",
       "      <td>DEU</td>\n",
       "      <td>5</td>\n",
       "      <td>Germany</td>\n",
       "      <td>4345631</td>\n",
       "      <td>DEU</td>\n",
       "      <td>82657002</td>\n",
       "      <td>52574.263460</td>\n",
       "    </tr>\n",
       "    <tr>\n",
       "      <th>...</th>\n",
       "      <td>...</td>\n",
       "      <td>...</td>\n",
       "      <td>...</td>\n",
       "      <td>...</td>\n",
       "      <td>...</td>\n",
       "      <td>...</td>\n",
       "      <td>...</td>\n",
       "    </tr>\n",
       "    <tr>\n",
       "      <th>186</th>\n",
       "      <td>PLW</td>\n",
       "      <td>187</td>\n",
       "      <td>Palau</td>\n",
       "      <td>323</td>\n",
       "      <td>PLW</td>\n",
       "      <td>17808</td>\n",
       "      <td>18137.915544</td>\n",
       "    </tr>\n",
       "    <tr>\n",
       "      <th>187</th>\n",
       "      <td>KIR</td>\n",
       "      <td>188</td>\n",
       "      <td>Kiribati</td>\n",
       "      <td>254</td>\n",
       "      <td>KIR</td>\n",
       "      <td>114158</td>\n",
       "      <td>2224.986422</td>\n",
       "    </tr>\n",
       "    <tr>\n",
       "      <th>188</th>\n",
       "      <td>MHL</td>\n",
       "      <td>189</td>\n",
       "      <td>Marshall Islands</td>\n",
       "      <td>226</td>\n",
       "      <td>MHL</td>\n",
       "      <td>58058</td>\n",
       "      <td>3892.659065</td>\n",
       "    </tr>\n",
       "    <tr>\n",
       "      <th>189</th>\n",
       "      <td>NRU</td>\n",
       "      <td>190</td>\n",
       "      <td>Nauru</td>\n",
       "      <td>194</td>\n",
       "      <td>NRU</td>\n",
       "      <td>12876</td>\n",
       "      <td>15066.790929</td>\n",
       "    </tr>\n",
       "    <tr>\n",
       "      <th>190</th>\n",
       "      <td>TUV</td>\n",
       "      <td>191</td>\n",
       "      <td>Tuvalu</td>\n",
       "      <td>44</td>\n",
       "      <td>TUV</td>\n",
       "      <td>11370</td>\n",
       "      <td>3869.832894</td>\n",
       "    </tr>\n",
       "  </tbody>\n",
       "</table>\n",
       "<p>191 rows × 7 columns</p>\n",
       "</div>"
      ],
      "text/plain": [
       "    country_code rank      country_name       gdp Country Code  \\\n",
       "0            CHN    1             China  23350230          CHN   \n",
       "1            USA    2     United States  19485394          USA   \n",
       "2            IND    3             India   9596835          IND   \n",
       "3            JPN    4             Japan   5333444          JPN   \n",
       "4            DEU    5           Germany   4345631          DEU   \n",
       "..           ...  ...               ...       ...          ...   \n",
       "186          PLW  187             Palau       323          PLW   \n",
       "187          KIR  188          Kiribati       254          KIR   \n",
       "188          MHL  189  Marshall Islands       226          MHL   \n",
       "189          NRU  190             Nauru       194          NRU   \n",
       "190          TUV  191            Tuvalu        44          TUV   \n",
       "\n",
       "     Population 2017    per capita  \n",
       "0         1386395000  16842.407827  \n",
       "1          324985539  59957.726304  \n",
       "2         1338658835   7168.992389  \n",
       "3          126785797  42066.573119  \n",
       "4           82657002  52574.263460  \n",
       "..               ...           ...  \n",
       "186            17808  18137.915544  \n",
       "187           114158   2224.986422  \n",
       "188            58058   3892.659065  \n",
       "189            12876  15066.790929  \n",
       "190            11370   3869.832894  \n",
       "\n",
       "[191 rows x 7 columns]"
      ]
     },
     "execution_count": 28,
     "metadata": {},
     "output_type": "execute_result"
    }
   ],
   "source": [
    "# Merge GDP with population to calculate per capita GDP lowest 20 countries\n",
    "gdp_per_capita = pd.merge(gdp_country_df, World_pop_df, left_on = 'country_code', right_on ='Country Code', how = 'left')\n",
    "gdp_per_capita['Population 2017'] = gdp_per_capita['Population 2017'].astype(int)\n",
    "gdp_per_capita['per capita'] = gdp_per_capita['gdp'] / gdp_per_capita['Population 2017'] * 1000000\n",
    "country_percap_lowest = gdp_per_capita.sort_values(by = ['per capita'], ascending = True)\n",
    "\n",
    "x_axis_gdplow = country_percap_lowest.iloc[0:9,2]\n",
    "y_axis_gdplow = country_percap_lowest.iloc[0:9,6]\n",
    "plt.bar(x_axis_gdplow, y_axis_gdplow)\n",
    "tick_locations = [x for x in range(len(x_axis_gdplow))]\n",
    "plt.xticks(tick_locations, x_axis_gdplow, rotation=\"vertical\") \n",
    "plt.xlabel(\"Country\")\n",
    "plt.ylabel('GDP per capita (? $)')\n",
    "plt.title(\"Total GDP per Capita- Lowest 10 Countires in 2017\")\n",
    "# print(country_percap_lowest.head(10))\n",
    "plt.show()\n",
    "gdp_per_capita"
   ]
  },
  {
   "cell_type": "code",
   "execution_count": 27,
   "metadata": {},
   "outputs": [
    {
     "data": {
      "image/png": "[encoded data removed]",
      "text/plain": [
       "<Figure size 432x288 with 1 Axes>"
      ]
     },
     "metadata": {
      "needs_background": "light"
     },
     "output_type": "display_data"
    },
    {
     "data": {
      "text/html": [
       "<div>\n",
       "<style scoped>\n",
       "    .dataframe tbody tr th:only-of-type {\n",
       "        vertical-align: middle;\n",
       "    }\n",
       "\n",
       "    .dataframe tbody tr th {\n",
       "        vertical-align: top;\n",
       "    }\n",
       "\n",
       "    .dataframe thead th {\n",
       "        text-align: right;\n",
       "    }\n",
       "</style>\n",
       "<table border=\"1\" class=\"dataframe\">\n",
       "  <thead>\n",
       "    <tr style=\"text-align: right;\">\n",
       "      <th></th>\n",
       "      <th>country_code</th>\n",
       "      <th>rank</th>\n",
       "      <th>country_name</th>\n",
       "      <th>gdp</th>\n",
       "      <th>Country Code</th>\n",
       "      <th>Population 2017</th>\n",
       "      <th>per capita</th>\n",
       "    </tr>\n",
       "  </thead>\n",
       "  <tbody>\n",
       "    <tr>\n",
       "      <th>48</th>\n",
       "      <td>QAT</td>\n",
       "      <td>49</td>\n",
       "      <td>Qatar</td>\n",
       "      <td>339526</td>\n",
       "      <td>QAT</td>\n",
       "      <td>2724724</td>\n",
       "      <td>124609.318228</td>\n",
       "    </tr>\n",
       "    <tr>\n",
       "      <th>97</th>\n",
       "      <td>MAC</td>\n",
       "      <td>98</td>\n",
       "      <td>Macao SAR, China</td>\n",
       "      <td>71824</td>\n",
       "      <td>MAC</td>\n",
       "      <td>622585</td>\n",
       "      <td>115364.167142</td>\n",
       "    </tr>\n",
       "    <tr>\n",
       "      <th>102</th>\n",
       "      <td>LUX</td>\n",
       "      <td>103</td>\n",
       "      <td>Luxembourg</td>\n",
       "      <td>64190</td>\n",
       "      <td>LUX</td>\n",
       "      <td>596336</td>\n",
       "      <td>107640.658957</td>\n",
       "    </tr>\n",
       "    <tr>\n",
       "      <th>37</th>\n",
       "      <td>SGP</td>\n",
       "      <td>38</td>\n",
       "      <td>Singapore</td>\n",
       "      <td>528139</td>\n",
       "      <td>SGP</td>\n",
       "      <td>5612253</td>\n",
       "      <td>94104.631420</td>\n",
       "    </tr>\n",
       "    <tr>\n",
       "      <th>123</th>\n",
       "      <td>BRN</td>\n",
       "      <td>124</td>\n",
       "      <td>Brunei Darussalam</td>\n",
       "      <td>33869</td>\n",
       "      <td>BRN</td>\n",
       "      <td>424473</td>\n",
       "      <td>79790.705180</td>\n",
       "    </tr>\n",
       "    <tr>\n",
       "      <th>47</th>\n",
       "      <td>IRL</td>\n",
       "      <td>48</td>\n",
       "      <td>Ireland</td>\n",
       "      <td>369243</td>\n",
       "      <td>IRL</td>\n",
       "      <td>4807388</td>\n",
       "      <td>76807.405602</td>\n",
       "    </tr>\n",
       "    <tr>\n",
       "      <th>56</th>\n",
       "      <td>KWT</td>\n",
       "      <td>57</td>\n",
       "      <td>Kuwait</td>\n",
       "      <td>298226</td>\n",
       "      <td>KWT</td>\n",
       "      <td>4056099</td>\n",
       "      <td>73525.325689</td>\n",
       "    </tr>\n",
       "    <tr>\n",
       "      <th>30</th>\n",
       "      <td>ARE</td>\n",
       "      <td>31</td>\n",
       "      <td>United Arab Emirates</td>\n",
       "      <td>695942</td>\n",
       "      <td>ARE</td>\n",
       "      <td>9487203</td>\n",
       "      <td>73355.866845</td>\n",
       "    </tr>\n",
       "    <tr>\n",
       "      <th>36</th>\n",
       "      <td>CHE</td>\n",
       "      <td>37</td>\n",
       "      <td>Switzerland</td>\n",
       "      <td>560354</td>\n",
       "      <td>CHE</td>\n",
       "      <td>8451840</td>\n",
       "      <td>66299.645994</td>\n",
       "    </tr>\n",
       "    <tr>\n",
       "      <th>174</th>\n",
       "      <td>SMR</td>\n",
       "      <td>175</td>\n",
       "      <td>San Marino</td>\n",
       "      <td>2123</td>\n",
       "      <td>SMR</td>\n",
       "      <td>33671</td>\n",
       "      <td>63051.290428</td>\n",
       "    </tr>\n",
       "    <tr>\n",
       "      <th>52</th>\n",
       "      <td>NOR</td>\n",
       "      <td>53</td>\n",
       "      <td>Norway</td>\n",
       "      <td>328137</td>\n",
       "      <td>NOR</td>\n",
       "      <td>5276968</td>\n",
       "      <td>62182.867131</td>\n",
       "    </tr>\n",
       "    <tr>\n",
       "      <th>42</th>\n",
       "      <td>HKG</td>\n",
       "      <td>43</td>\n",
       "      <td>Hong Kong SAR, China</td>\n",
       "      <td>455852</td>\n",
       "      <td>HKG</td>\n",
       "      <td>7391700</td>\n",
       "      <td>61670.792916</td>\n",
       "    </tr>\n",
       "    <tr>\n",
       "      <th>1</th>\n",
       "      <td>USA</td>\n",
       "      <td>2</td>\n",
       "      <td>United States</td>\n",
       "      <td>19485394</td>\n",
       "      <td>USA</td>\n",
       "      <td>324985539</td>\n",
       "      <td>59957.726304</td>\n",
       "    </tr>\n",
       "    <tr>\n",
       "      <th>165</th>\n",
       "      <td>CYM</td>\n",
       "      <td>166</td>\n",
       "      <td>Cayman Islands</td>\n",
       "      <td>3589</td>\n",
       "      <td>CYM</td>\n",
       "      <td>63382</td>\n",
       "      <td>56624.909280</td>\n",
       "    </tr>\n",
       "    <tr>\n",
       "      <th>146</th>\n",
       "      <td>ISL</td>\n",
       "      <td>147</td>\n",
       "      <td>Iceland</td>\n",
       "      <td>18998</td>\n",
       "      <td>ISL</td>\n",
       "      <td>343400</td>\n",
       "      <td>55323.238206</td>\n",
       "    </tr>\n",
       "    <tr>\n",
       "      <th>25</th>\n",
       "      <td>NLD</td>\n",
       "      <td>26</td>\n",
       "      <td>Netherlands</td>\n",
       "      <td>932320</td>\n",
       "      <td>NLD</td>\n",
       "      <td>17131296</td>\n",
       "      <td>54422.035554</td>\n",
       "    </tr>\n",
       "    <tr>\n",
       "      <th>53</th>\n",
       "      <td>DNK</td>\n",
       "      <td>54</td>\n",
       "      <td>Denmark</td>\n",
       "      <td>313364</td>\n",
       "      <td>DNK</td>\n",
       "      <td>5764980</td>\n",
       "      <td>54356.476519</td>\n",
       "    </tr>\n",
       "    <tr>\n",
       "      <th>41</th>\n",
       "      <td>AUT</td>\n",
       "      <td>42</td>\n",
       "      <td>Austria</td>\n",
       "      <td>474007</td>\n",
       "      <td>AUT</td>\n",
       "      <td>8797566</td>\n",
       "      <td>53879.334352</td>\n",
       "    </tr>\n",
       "    <tr>\n",
       "      <th>15</th>\n",
       "      <td>SAU</td>\n",
       "      <td>16</td>\n",
       "      <td>Saudi Arabia</td>\n",
       "      <td>1775144</td>\n",
       "      <td>SAU</td>\n",
       "      <td>33099147</td>\n",
       "      <td>53631.110191</td>\n",
       "    </tr>\n",
       "    <tr>\n",
       "      <th>4</th>\n",
       "      <td>DEU</td>\n",
       "      <td>5</td>\n",
       "      <td>Germany</td>\n",
       "      <td>4345631</td>\n",
       "      <td>DEU</td>\n",
       "      <td>82657002</td>\n",
       "      <td>52574.263460</td>\n",
       "    </tr>\n",
       "  </tbody>\n",
       "</table>\n",
       "</div>"
      ],
      "text/plain": [
       "    country_code rank          country_name       gdp Country Code  \\\n",
       "48           QAT   49                 Qatar    339526          QAT   \n",
       "97           MAC   98      Macao SAR, China     71824          MAC   \n",
       "102          LUX  103            Luxembourg     64190          LUX   \n",
       "37           SGP   38             Singapore    528139          SGP   \n",
       "123          BRN  124     Brunei Darussalam     33869          BRN   \n",
       "47           IRL   48               Ireland    369243          IRL   \n",
       "56           KWT   57                Kuwait    298226          KWT   \n",
       "30           ARE   31  United Arab Emirates    695942          ARE   \n",
       "36           CHE   37           Switzerland    560354          CHE   \n",
       "174          SMR  175            San Marino      2123          SMR   \n",
       "52           NOR   53                Norway    328137          NOR   \n",
       "42           HKG   43  Hong Kong SAR, China    455852          HKG   \n",
       "1            USA    2         United States  19485394          USA   \n",
       "165          CYM  166        Cayman Islands      3589          CYM   \n",
       "146          ISL  147               Iceland     18998          ISL   \n",
       "25           NLD   26           Netherlands    932320          NLD   \n",
       "53           DNK   54               Denmark    313364          DNK   \n",
       "41           AUT   42               Austria    474007          AUT   \n",
       "15           SAU   16          Saudi Arabia   1775144          SAU   \n",
       "4            DEU    5               Germany   4345631          DEU   \n",
       "\n",
       "     Population 2017     per capita  \n",
       "48           2724724  124609.318228  \n",
       "97            622585  115364.167142  \n",
       "102           596336  107640.658957  \n",
       "37           5612253   94104.631420  \n",
       "123           424473   79790.705180  \n",
       "47           4807388   76807.405602  \n",
       "56           4056099   73525.325689  \n",
       "30           9487203   73355.866845  \n",
       "36           8451840   66299.645994  \n",
       "174            33671   63051.290428  \n",
       "52           5276968   62182.867131  \n",
       "42           7391700   61670.792916  \n",
       "1          324985539   59957.726304  \n",
       "165            63382   56624.909280  \n",
       "146           343400   55323.238206  \n",
       "25          17131296   54422.035554  \n",
       "53           5764980   54356.476519  \n",
       "41           8797566   53879.334352  \n",
       "15          33099147   53631.110191  \n",
       "4           82657002   52574.263460  "
      ]
     },
     "execution_count": 27,
     "metadata": {},
     "output_type": "execute_result"
    }
   ],
   "source": [
    "# Highest countries with per capita\n",
    "gdp_per_capita.sort_values(by = ['per capita'], ascending = False, inplace = True)\n",
    "gdp_per_capita.head(20)\n",
    "\n",
    "x_axis_capitamax = gdp_per_capita.iloc[0:9,2]\n",
    "y_axis_capitamax = gdp_per_capita.iloc[0:9,6]\n",
    "plt.bar(x_axis_capitamax, y_axis_capitamax)\n",
    "tick_locations = [x for x in range(len(x_axis_capitamax))]\n",
    "plt.xticks(tick_locations, x_axis_capitamax, rotation=\"vertical\") \n",
    "plt.xlabel(\"Country\")\n",
    "plt.ylabel('GDP per capita (? $)')\n",
    "plt.title(\"Total GDP per Capita- Lowest 10 Countires in 2017\")\n",
    "plt.show()\n",
    "# gdp_per_capita.head(20)"
   ]
  },
  {
   "cell_type": "code",
   "execution_count": 34,
   "metadata": {
    "scrolled": true
   },
   "outputs": [
    {
     "data": {
      "application/vnd.plotly.v1+json": {
       "config": {
        "plotlyServerURL": "https://plot.ly"
       },
       "data": [
        {
         "coloraxis": "coloraxis",
         "geo": "geo",
         "hovertemplate": "<b>%{hovertext}</b><br><br>Country Code=%{location}<br>per capita=%{z}<extra></extra>",
         "hovertext": [
          "China",
          "United States",
          "India",
          "Japan",
          "Germany",
          "Russian Federation",
          "Brazil",
          "Indonesia",
          "United Kingdom",
          "France",
          "Italy",
          "Mexico",
          "Turkey",
          "Korea, Rep.",
          "Spain",
          "Saudi Arabia",
          "Canada",
          "Iran, Islamic Rep.",
          "Thailand",
          "Australia",
          "Poland",
          "Egypt, Arab Rep.",
          "Nigeria",
          "Pakistan",
          "Malaysia",
          "Netherlands",
          "Argentina",
          "Philippines",
          "South Africa",
          "Colombia",
          "United Arab Emirates",
          "Vietnam",
          "Iraq",
          "Bangladesh",
          "Algeria",
          "Belgium",
          "Switzerland",
          "Singapore",
          "Romania",
          "Sweden",
          "Kazakhstan",
          "Austria",
          "Hong Kong SAR, China",
          "Chile",
          "Peru",
          "Czech Republic",
          "Ukraine",
          "Ireland",
          "Qatar",
          "Israel",
          "Portugal",
          "Myanmar",
          "Norway",
          "Denmark",
          "Greece",
          "Morocco",
          "Kuwait",
          "Hungary",
          "Sri Lanka",
          "Finland",
          "Uzbekistan",
          "Ethiopia",
          "Sudan",
          "Angola",
          "New Zealand",
          "Ecuador",
          "Oman",
          "Belarus",
          "Slovak Republic",
          "Dominican Republic",
          "Azerbaijan",
          "Tanzania",
          "Kenya",
          "Bulgaria",
          "Guatemala",
          "Tunisia",
          "Puerto Rico",
          "Ghana",
          "Libya",
          "Croatia",
          "Serbia",
          "Turkmenistan",
          "Panama",
          "Côte d'Ivoire",
          "Lithuania",
          "Cameroon",
          "Paraguay",
          "Jordan",
          "Lebanon",
          "Costa Rica",
          "Bolivia",
          "Uganda",
          "Nepal",
          "Uruguay",
          "Slovenia",
          "Yemen, Rep.",
          "Congo, Dem. Rep.",
          "Macao SAR, China",
          "Bahrain",
          "Afghanistan",
          "Zambia",
          "Cambodia",
          "Luxembourg",
          "Latvia",
          "Senegal",
          "El Salvador",
          "Lao PDR",
          "Honduras",
          "Bosnia and Herzegovina",
          "Estonia",
          "Trinidad and Tobago",
          "Mali",
          "Zimbabwe",
          "Madagascar",
          "Mongolia",
          "Georgia",
          "Botswana",
          "Albania",
          "Mozambique",
          "Gabon",
          "Nicaragua",
          "Burkina Faso",
          "Papua New Guinea",
          "Brunei Darussalam",
          "North Macedonia",
          "Equatorial Guinea",
          "Cyprus",
          "Chad",
          "Congo, Rep.",
          "Guinea",
          "Tajikistan",
          "Armenia",
          "Mauritius",
          "Namibia",
          "Jamaica",
          "Benin",
          "Rwanda",
          "Kyrgyz Republic",
          "West Bank and Gaza",
          "Malawi",
          "Niger",
          "South Sudan",
          "Moldova",
          "Haiti",
          "Kosovo",
          "Malta",
          "Iceland",
          "Mauritania",
          "Togo",
          "Bahamas, The",
          "Montenegro",
          "Eswatini",
          "Sierra Leone",
          "Timor-Leste",
          "Fiji",
          "Suriname",
          "Burundi",
          "Bhutan",
          "Maldives",
          "Lesotho",
          "Guyana",
          "Liberia",
          "Barbados",
          "Aruba",
          "Cabo Verde",
          "Cayman Islands",
          "Gambia, The",
          "Central African Republic",
          "Belize",
          "Guinea-Bissau",
          "Seychelles",
          "St. Lucia",
          "Antigua and Barbuda",
          "Comoros",
          "San Marino",
          "Grenada",
          "St. Kitts and Nevis",
          "Solomon Islands",
          "Sint Maarten (Dutch part)",
          "Samoa",
          "St. Vincent and the Grenadines",
          "Vanuatu",
          "Dominica",
          "São Tomé and Principe",
          "Tonga",
          "Micronesia, Fed. Sts.",
          "Palau",
          "Kiribati",
          "Marshall Islands",
          "Nauru",
          "Tuvalu"
         ],
         "locations": [
          "CHN",
          "USA",
          "IND",
          "JPN",
          "DEU",
          "RUS",
          "BRA",
          "IDN",
          "GBR",
          "FRA",
          "ITA",
          "MEX",
          "TUR",
          "KOR",
          "ESP",
          "SAU",
          "CAN",
          "IRN",
          "THA",
          "AUS",
          "POL",
          "EGY",
          "NGA",
          "PAK",
          "MYS",
          "NLD",
          "ARG",
          "PHL",
          "ZAF",
          "COL",
          "ARE",
          "VNM",
          "IRQ",
          "BGD",
          "DZA",
          "BEL",
          "CHE",
          "SGP",
          "ROU",
          "SWE",
          "KAZ",
          "AUT",
          "HKG",
          "CHL",
          "PER",
          "CZE",
          "UKR",
          "IRL",
          "QAT",
          "ISR",
          "PRT",
          "MMR",
          "NOR",
          "DNK",
          "GRC",
          "MAR",
          "KWT",
          "HUN",
          "LKA",
          "FIN",
          "UZB",
          "ETH",
          "SDN",
          "AGO",
          "NZL",
          "ECU",
          "OMN",
          "BLR",
          "SVK",
          "DOM",
          "AZE",
          "TZA",
          "KEN",
          "BGR",
          "GTM",
          "TUN",
          "PRI",
          "GHA",
          "LBY",
          "HRV",
          "SRB",
          "TKM",
          "PAN",
          "CIV",
          "LTU",
          "CMR",
          "PRY",
          "JOR",
          "LBN",
          "CRI",
          "BOL",
          "UGA",
          "NPL",
          "URY",
          "SVN",
          "YEM",
          "COD",
          "MAC",
          "BHR",
          "AFG",
          "ZMB",
          "KHM",
          "LUX",
          "LVA",
          "SEN",
          "SLV",
          "LAO",
          "HND",
          "BIH",
          "EST",
          "TTO",
          "MLI",
          "ZWE",
          "MDG",
          "MNG",
          "GEO",
          "BWA",
          "ALB",
          "MOZ",
          "GAB",
          "NIC",
          "BFA",
          "PNG",
          "BRN",
          "MKD",
          "GNQ",
          "CYP",
          "TCD",
          "COG",
          "GIN",
          "TJK",
          "ARM",
          "MUS",
          "NAM",
          "JAM",
          "BEN",
          "RWA",
          "KGZ",
          "PSE",
          "MWI",
          "NER",
          "SSD",
          "MDA",
          "HTI",
          "XKX",
          "MLT",
          "ISL",
          "MRT",
          "TGO",
          "BHS",
          "MNE",
          "SWZ",
          "SLE",
          "TLS",
          "FJI",
          "SUR",
          "BDI",
          "BTN",
          "MDV",
          "LSO",
          "GUY",
          "LBR",
          "BRB",
          "ABW",
          "CPV",
          "CYM",
          "GMB",
          "CAF",
          "BLZ",
          "GNB",
          "SYC",
          "LCA",
          "ATG",
          "COM",
          "SMR",
          "GRD",
          "KNA",
          "SLB",
          "SXM",
          "WSM",
          "VCT",
          "VUT",
          "DMA",
          "STP",
          "TON",
          "FSM",
          "PLW",
          "KIR",
          "MHL",
          "NRU",
          "TUV"
         ],
         "name": "",
         "type": "choropleth",
         "z": [
          16842.407827495048,
          59957.726303631,
          7168.992389311799,
          42066.57311938497,
          52574.2634604628,
          26181.48340232451,
          15662.247981176844,
          12279.182000962599,
          44896.26440565678,
          44191.691363797756,
          40923.69804906309,
          19311.681984781146,
          27878.609786316698,
          38902.952812639705,
          39037.38302272029,
          53631.11019144995,
          46719.42651298715,
          21011.292728181863,
          17865.5474195598,
          49378.29903917834,
          29923.718412824328,
          11742.05260117799,
          5887.575345722378,
          5249.2082533725425,
          30004.088085051717,
          54422.035554111026,
          20935.860072143343,
          8340.22798797991,
          13458.963684339971,
          14552.13675710055,
          73355.86684505433,
          6857.981280138887,
          17260.58584050007,
          3998.419420913656,
          15266.495378818405,
          49398.083085966806,
          66299.64599424503,
          94104.63141985936,
          26655.70377525426,
          51404.80455865746,
          26490.848982712723,
          53879.33435225152,
          61670.792916379185,
          24190.329206577062,
          13771.527472851436,
          38019.5721566354,
          8243.512014585398,
          76807.40560154496,
          124609.31822819487,
          38867.70798664111,
          32554.29453511063,
          6172.3879555392805,
          62182.8671312769,
          54356.47651856555,
          28579.839528450826,
          8389.352000520274,
          73525.3256885495,
          28798.628846892196,
          12862.572281290804,
          46343.51533909176,
          6879.272336562865,
          1877.4337870450106,
          4880.260392935692,
          6650.591137571409,
          40747.61676296961,
          11501.03354941249,
          41068.296064990194,
          18895.55817778912,
          32371.298006777426,
          16451.521435431554,
          17449.911117610423,
          3000.0234524038583,
          3258.2078984421664,
          20948.150120400845,
          8586.95907571992,
          12039.243122128653,
          39089.269313977806,
          4457.364121475869,
          19056.86973044303,
          26295.59579016378,
          15431.874565758202,
          18032.297445372427,
          24472.024371458745,
          3921.723644948665,
          33252.68711707632,
          3644.7869406736004,
          13002.94070448177,
          9100.769564052092,
          12958.403657848583,
          16956.92525627511,
          7480.040390056012,
          1945.3645451019513,
          2866.53073262349,
          22742.522796936315,
          36387.6483990422,
          2645.31968788303,
          888.4532939591072,
          115364.16714183606,
          47660.2899187055,
          1934.6271255551515,
          4090.1433561603844,
          4016.574248126758,
          107640.65895736631,
          28361.98055037256,
          3554.2282793323548,
          8010.178891386232,
          6942.292106971991,
          4909.951868769298,
          13715.837586867121,
          33448.10624692573,
          31303.284800212703,
          2221.7547876303843,
          2825.7161310397846,
          1558.3558266661557,
          12787.355814269415,
          10674.344770016341,
          17692.396994641582,
          12943.29443593553,
          1294.7394651409734,
          17765.203119105125,
          5701.147481031285,
          1866.1736053090237,
          4114.467964023352,
          79790.70518030593,
          15298.78059323841,
          24549.108915127643,
          26238.471449884717,
          1930.1750116353228,
          5614.4928817998,
          2368.0056057825877,
          3216.5695900168776,
          9620.657910241376,
          22356.246535501377,
          11042.606706143295,
          8970.667130458123,
          2276.5579939301333,
          2082.3079196560334,
          3735.4393210932208,
          5148.373497829872,
          1269.6474188834798,
          1012.8470482452193,
          1899.959480362457,
          7356.74687259315,
          1818.642722342344,
          10998.30653549994,
          40797.09572029,
          55323.23820617356,
          4085.1599995703514,
          1684.8791481429764,
          31579.9675713339,
          19354.95273734561,
          10525.866568037605,
          1544.3822611171818,
          7536.631487676361,
          9880.80354751618,
          15002.734462643033,
          737.9682542497366,
          10173.451650285419,
          14669.562169370793,
          3130.89912461055,
          8207.981981912255,
          1293.4294126103625,
          18526.864477541025,
          39452.95446348917,
          7027.015964740269,
          56624.90928023729,
          1612.091635823576,
          737.3758384413671,
          8499.902865856418,
          1734.5441775438067,
          29329.215487829053,
          13821.115747008926,
          25150.378303606984,
          2750.979245403567,
          63051.29042796471,
          14737.449717697566,
          30454.414449034488,
          2333.1939286646393,
          34061.22147187855,
          6675.130021704411,
          11773.061269086837,
          3110.223810024167,
          10383.72190657449,
          3312.5854101376704,
          6323.653404968724,
          3508.016400649566,
          18137.91554357592,
          2224.98642232695,
          3892.659065072858,
          15066.790928859893,
          3869.8328935795953
         ]
        }
       ],
       "layout": {
        "coloraxis": {
         "colorbar": {
          "title": {
           "text": "per capita"
          }
         },
         "colorscale": [
          [
           0,
           "#0d0887"
          ],
          [
           0.1111111111111111,
           "#46039f"
          ],
          [
           0.2222222222222222,
           "#7201a8"
          ],
          [
           0.3333333333333333,
           "#9c179e"
          ],
          [
           0.4444444444444444,
           "#bd3786"
          ],
          [
           0.5555555555555556,
           "#d8576b"
          ],
          [
           0.6666666666666666,
           "#ed7953"
          ],
          [
           0.7777777777777778,
           "#fb9f3a"
          ],
          [
           0.8888888888888888,
           "#fdca26"
          ],
          [
           1,
           "#f0f921"
          ]
         ]
        },
        "geo": {
         "center": {},
         "domain": {
          "x": [
           0,
           1
          ],
          "y": [
           0,
           1
          ]
         }
        },
        "legend": {
         "tracegroupgap": 0
        },
        "margin": {
         "t": 60
        },
        "template": {
         "data": {
          "bar": [
           {
            "error_x": {
             "color": "#2a3f5f"
            },
            "error_y": {
             "color": "#2a3f5f"
            },
            "marker": {
             "line": {
              "color": "#E5ECF6",
              "width": 0.5
             }
            },
            "type": "bar"
           }
          ],
          "barpolar": [
           {
            "marker": {
             "line": {
              "color": "#E5ECF6",
              "width": 0.5
             }
            },
            "type": "barpolar"
           }
          ],
          "carpet": [
           {
            "aaxis": {
             "endlinecolor": "#2a3f5f",
             "gridcolor": "white",
             "linecolor": "white",
             "minorgridcolor": "white",
             "startlinecolor": "#2a3f5f"
            },
            "baxis": {
             "endlinecolor": "#2a3f5f",
             "gridcolor": "white",
             "linecolor": "white",
             "minorgridcolor": "white",
             "startlinecolor": "#2a3f5f"
            },
            "type": "carpet"
           }
          ],
          "choropleth": [
           {
            "colorbar": {
             "outlinewidth": 0,
             "ticks": ""
            },
            "type": "choropleth"
           }
          ],
          "contour": [
           {
            "colorbar": {
             "outlinewidth": 0,
             "ticks": ""
            },
            "colorscale": [
             [
              0,
              "#0d0887"
             ],
             [
              0.1111111111111111,
              "#46039f"
             ],
             [
              0.2222222222222222,
              "#7201a8"
             ],
             [
              0.3333333333333333,
              "#9c179e"
             ],
             [
              0.4444444444444444,
              "#bd3786"
             ],
             [
              0.5555555555555556,
              "#d8576b"
             ],
             [
              0.6666666666666666,
              "#ed7953"
             ],
             [
              0.7777777777777778,
              "#fb9f3a"
             ],
             [
              0.8888888888888888,
              "#fdca26"
             ],
             [
              1,
              "#f0f921"
             ]
            ],
            "type": "contour"
           }
          ],
          "contourcarpet": [
           {
            "colorbar": {
             "outlinewidth": 0,
             "ticks": ""
            },
            "type": "contourcarpet"
           }
          ],
          "heatmap": [
           {
            "colorbar": {
             "outlinewidth": 0,
             "ticks": ""
            },
            "colorscale": [
             [
              0,
              "#0d0887"
             ],
             [
              0.1111111111111111,
              "#46039f"
             ],
             [
              0.2222222222222222,
              "#7201a8"
             ],
             [
              0.3333333333333333,
              "#9c179e"
             ],
             [
              0.4444444444444444,
              "#bd3786"
             ],
             [
              0.5555555555555556,
              "#d8576b"
             ],
             [
              0.6666666666666666,
              "#ed7953"
             ],
             [
              0.7777777777777778,
              "#fb9f3a"
             ],
             [
              0.8888888888888888,
              "#fdca26"
             ],
             [
              1,
              "#f0f921"
             ]
            ],
            "type": "heatmap"
           }
          ],
          "heatmapgl": [
           {
            "colorbar": {
             "outlinewidth": 0,
             "ticks": ""
            },
            "colorscale": [
             [
              0,
              "#0d0887"
             ],
             [
              0.1111111111111111,
              "#46039f"
             ],
             [
              0.2222222222222222,
              "#7201a8"
             ],
             [
              0.3333333333333333,
              "#9c179e"
             ],
             [
              0.4444444444444444,
              "#bd3786"
             ],
             [
              0.5555555555555556,
              "#d8576b"
             ],
             [
              0.6666666666666666,
              "#ed7953"
             ],
             [
              0.7777777777777778,
              "#fb9f3a"
             ],
             [
              0.8888888888888888,
              "#fdca26"
             ],
             [
              1,
              "#f0f921"
             ]
            ],
            "type": "heatmapgl"
           }
          ],
          "histogram": [
           {
            "marker": {
             "colorbar": {
              "outlinewidth": 0,
              "ticks": ""
             }
            },
            "type": "histogram"
           }
          ],
          "histogram2d": [
           {
            "colorbar": {
             "outlinewidth": 0,
             "ticks": ""
            },
            "colorscale": [
             [
              0,
              "#0d0887"
             ],
             [
              0.1111111111111111,
              "#46039f"
             ],
             [
              0.2222222222222222,
              "#7201a8"
             ],
             [
              0.3333333333333333,
              "#9c179e"
             ],
             [
              0.4444444444444444,
              "#bd3786"
             ],
             [
              0.5555555555555556,
              "#d8576b"
             ],
             [
              0.6666666666666666,
              "#ed7953"
             ],
             [
              0.7777777777777778,
              "#fb9f3a"
             ],
             [
              0.8888888888888888,
              "#fdca26"
             ],
             [
              1,
              "#f0f921"
             ]
            ],
            "type": "histogram2d"
           }
          ],
          "histogram2dcontour": [
           {
            "colorbar": {
             "outlinewidth": 0,
             "ticks": ""
            },
            "colorscale": [
             [
              0,
              "#0d0887"
             ],
             [
              0.1111111111111111,
              "#46039f"
             ],
             [
              0.2222222222222222,
              "#7201a8"
             ],
             [
              0.3333333333333333,
              "#9c179e"
             ],
             [
              0.4444444444444444,
              "#bd3786"
             ],
             [
              0.5555555555555556,
              "#d8576b"
             ],
             [
              0.6666666666666666,
              "#ed7953"
             ],
             [
              0.7777777777777778,
              "#fb9f3a"
             ],
             [
              0.8888888888888888,
              "#fdca26"
             ],
             [
              1,
              "#f0f921"
             ]
            ],
            "type": "histogram2dcontour"
           }
          ],
          "mesh3d": [
           {
            "colorbar": {
             "outlinewidth": 0,
             "ticks": ""
            },
            "type": "mesh3d"
           }
          ],
          "parcoords": [
           {
            "line": {
             "colorbar": {
              "outlinewidth": 0,
              "ticks": ""
             }
            },
            "type": "parcoords"
           }
          ],
          "pie": [
           {
            "automargin": true,
            "type": "pie"
           }
          ],
          "scatter": [
           {
            "marker": {
             "colorbar": {
              "outlinewidth": 0,
              "ticks": ""
             }
            },
            "type": "scatter"
           }
          ],
          "scatter3d": [
           {
            "line": {
             "colorbar": {
              "outlinewidth": 0,
              "ticks": ""
             }
            },
            "marker": {
             "colorbar": {
              "outlinewidth": 0,
              "ticks": ""
             }
            },
            "type": "scatter3d"
           }
          ],
          "scattercarpet": [
           {
            "marker": {
             "colorbar": {
              "outlinewidth": 0,
              "ticks": ""
             }
            },
            "type": "scattercarpet"
           }
          ],
          "scattergeo": [
           {
            "marker": {
             "colorbar": {
              "outlinewidth": 0,
              "ticks": ""
             }
            },
            "type": "scattergeo"
           }
          ],
          "scattergl": [
           {
            "marker": {
             "colorbar": {
              "outlinewidth": 0,
              "ticks": ""
             }
            },
            "type": "scattergl"
           }
          ],
          "scattermapbox": [
           {
            "marker": {
             "colorbar": {
              "outlinewidth": 0,
              "ticks": ""
             }
            },
            "type": "scattermapbox"
           }
          ],
          "scatterpolar": [
           {
            "marker": {
             "colorbar": {
              "outlinewidth": 0,
              "ticks": ""
             }
            },
            "type": "scatterpolar"
           }
          ],
          "scatterpolargl": [
           {
            "marker": {
             "colorbar": {
              "outlinewidth": 0,
              "ticks": ""
             }
            },
            "type": "scatterpolargl"
           }
          ],
          "scatterternary": [
           {
            "marker": {
             "colorbar": {
              "outlinewidth": 0,
              "ticks": ""
             }
            },
            "type": "scatterternary"
           }
          ],
          "surface": [
           {
            "colorbar": {
             "outlinewidth": 0,
             "ticks": ""
            },
            "colorscale": [
             [
              0,
              "#0d0887"
             ],
             [
              0.1111111111111111,
              "#46039f"
             ],
             [
              0.2222222222222222,
              "#7201a8"
             ],
             [
              0.3333333333333333,
              "#9c179e"
             ],
             [
              0.4444444444444444,
              "#bd3786"
             ],
             [
              0.5555555555555556,
              "#d8576b"
             ],
             [
              0.6666666666666666,
              "#ed7953"
             ],
             [
              0.7777777777777778,
              "#fb9f3a"
             ],
             [
              0.8888888888888888,
              "#fdca26"
             ],
             [
              1,
              "#f0f921"
             ]
            ],
            "type": "surface"
           }
          ],
          "table": [
           {
            "cells": {
             "fill": {
              "color": "#EBF0F8"
             },
             "line": {
              "color": "white"
             }
            },
            "header": {
             "fill": {
              "color": "#C8D4E3"
             },
             "line": {
              "color": "white"
             }
            },
            "type": "table"
           }
          ]
         },
         "layout": {
          "annotationdefaults": {
           "arrowcolor": "#2a3f5f",
           "arrowhead": 0,
           "arrowwidth": 1
          },
          "coloraxis": {
           "colorbar": {
            "outlinewidth": 0,
            "ticks": ""
           }
          },
          "colorscale": {
           "diverging": [
            [
             0,
             "#8e0152"
            ],
            [
             0.1,
             "#c51b7d"
            ],
            [
             0.2,
             "#de77ae"
            ],
            [
             0.3,
             "#f1b6da"
            ],
            [
             0.4,
             "#fde0ef"
            ],
            [
             0.5,
             "#f7f7f7"
            ],
            [
             0.6,
             "#e6f5d0"
            ],
            [
             0.7,
             "#b8e186"
            ],
            [
             0.8,
             "#7fbc41"
            ],
            [
             0.9,
             "#4d9221"
            ],
            [
             1,
             "#276419"
            ]
           ],
           "sequential": [
            [
             0,
             "#0d0887"
            ],
            [
             0.1111111111111111,
             "#46039f"
            ],
            [
             0.2222222222222222,
             "#7201a8"
            ],
            [
             0.3333333333333333,
             "#9c179e"
            ],
            [
             0.4444444444444444,
             "#bd3786"
            ],
            [
             0.5555555555555556,
             "#d8576b"
            ],
            [
             0.6666666666666666,
             "#ed7953"
            ],
            [
             0.7777777777777778,
             "#fb9f3a"
            ],
            [
             0.8888888888888888,
             "#fdca26"
            ],
            [
             1,
             "#f0f921"
            ]
           ],
           "sequentialminus": [
            [
             0,
             "#0d0887"
            ],
            [
             0.1111111111111111,
             "#46039f"
            ],
            [
             0.2222222222222222,
             "#7201a8"
            ],
            [
             0.3333333333333333,
             "#9c179e"
            ],
            [
             0.4444444444444444,
             "#bd3786"
            ],
            [
             0.5555555555555556,
             "#d8576b"
            ],
            [
             0.6666666666666666,
             "#ed7953"
            ],
            [
             0.7777777777777778,
             "#fb9f3a"
            ],
            [
             0.8888888888888888,
             "#fdca26"
            ],
            [
             1,
             "#f0f921"
            ]
           ]
          },
          "colorway": [
           "#636efa",
           "#EF553B",
           "#00cc96",
           "#ab63fa",
           "#FFA15A",
           "#19d3f3",
           "#FF6692",
           "#B6E880",
           "#FF97FF",
           "#FECB52"
          ],
          "font": {
           "color": "#2a3f5f"
          },
          "geo": {
           "bgcolor": "white",
           "lakecolor": "white",
           "landcolor": "#E5ECF6",
           "showlakes": true,
           "showland": true,
           "subunitcolor": "white"
          },
          "hoverlabel": {
           "align": "left"
          },
          "hovermode": "closest",
          "mapbox": {
           "style": "light"
          },
          "paper_bgcolor": "white",
          "plot_bgcolor": "#E5ECF6",
          "polar": {
           "angularaxis": {
            "gridcolor": "white",
            "linecolor": "white",
            "ticks": ""
           },
           "bgcolor": "#E5ECF6",
           "radialaxis": {
            "gridcolor": "white",
            "linecolor": "white",
            "ticks": ""
           }
          },
          "scene": {
           "xaxis": {
            "backgroundcolor": "#E5ECF6",
            "gridcolor": "white",
            "gridwidth": 2,
            "linecolor": "white",
            "showbackground": true,
            "ticks": "",
            "zerolinecolor": "white"
           },
           "yaxis": {
            "backgroundcolor": "#E5ECF6",
            "gridcolor": "white",
            "gridwidth": 2,
            "linecolor": "white",
            "showbackground": true,
            "ticks": "",
            "zerolinecolor": "white"
           },
           "zaxis": {
            "backgroundcolor": "#E5ECF6",
            "gridcolor": "white",
            "gridwidth": 2,
            "linecolor": "white",
            "showbackground": true,
            "ticks": "",
            "zerolinecolor": "white"
           }
          },
          "shapedefaults": {
           "line": {
            "color": "#2a3f5f"
           }
          },
          "ternary": {
           "aaxis": {
            "gridcolor": "white",
            "linecolor": "white",
            "ticks": ""
           },
           "baxis": {
            "gridcolor": "white",
            "linecolor": "white",
            "ticks": ""
           },
           "bgcolor": "#E5ECF6",
           "caxis": {
            "gridcolor": "white",
            "linecolor": "white",
            "ticks": ""
           }
          },
          "title": {
           "x": 0.05
          },
          "xaxis": {
           "automargin": true,
           "gridcolor": "white",
           "linecolor": "white",
           "ticks": "",
           "title": {
            "standoff": 15
           },
           "zerolinecolor": "white",
           "zerolinewidth": 2
          },
          "yaxis": {
           "automargin": true,
           "gridcolor": "white",
           "linecolor": "white",
           "ticks": "",
           "title": {
            "standoff": 15
           },
           "zerolinecolor": "white",
           "zerolinewidth": 2
          }
         }
        }
       }
      },
      "text/html": [
       "<div>                            <div id=\"bbcb675f-e2c1-4999-ae4c-813f7c57d827\" class=\"plotly-graph-div\" style=\"height:525px; width:100%;\"></div>            <script type=\"text/javascript\">                require([\"plotly\"], function(Plotly) {                    window.PLOTLYENV=window.PLOTLYENV || {};                                    if (document.getElementById(\"bbcb675f-e2c1-4999-ae4c-813f7c57d827\")) {                    Plotly.newPlot(                        \"bbcb675f-e2c1-4999-ae4c-813f7c57d827\",                        [{\"coloraxis\": \"coloraxis\", \"geo\": \"geo\", \"hovertemplate\": \"<b>%{hovertext}</b><br><br>Country Code=%{location}<br>per capita=%{z}<extra></extra>\", \"hovertext\": [\"China\", \"United States\", \"India\", \"Japan\", \"Germany\", \"Russian Federation\", \"Brazil\", \"Indonesia\", \"United Kingdom\", \"France\", \"Italy\", \"Mexico\", \"Turkey\", \"Korea, Rep.\", \"Spain\", \"Saudi Arabia\", \"Canada\", \"Iran, Islamic Rep.\", \"Thailand\", \"Australia\", \"Poland\", \"Egypt, Arab Rep.\", \"Nigeria\", \"Pakistan\", \"Malaysia\", \"Netherlands\", \"Argentina\", \"Philippines\", \"South Africa\", \"Colombia\", \"United Arab Emirates\", \"Vietnam\", \"Iraq\", \"Bangladesh\", \"Algeria\", \"Belgium\", \"Switzerland\", \"Singapore\", \"Romania\", \"Sweden\", \"Kazakhstan\", \"Austria\", \"Hong Kong SAR, China\", \"Chile\", \"Peru\", \"Czech Republic\", \"Ukraine\", \"Ireland\", \"Qatar\", \"Israel\", \"Portugal\", \"Myanmar\", \"Norway\", \"Denmark\", \"Greece\", \"Morocco\", \"Kuwait\", \"Hungary\", \"Sri Lanka\", \"Finland\", \"Uzbekistan\", \"Ethiopia\", \"Sudan\", \"Angola\", \"New Zealand\", \"Ecuador\", \"Oman\", \"Belarus\", \"Slovak Republic\", \"Dominican Republic\", \"Azerbaijan\", \"Tanzania\", \"Kenya\", \"Bulgaria\", \"Guatemala\", \"Tunisia\", \"Puerto Rico\", \"Ghana\", \"Libya\", \"Croatia\", \"Serbia\", \"Turkmenistan\", \"Panama\", \"C\\u00f4te d'Ivoire\", \"Lithuania\", \"Cameroon\", \"Paraguay\", \"Jordan\", \"Lebanon\", \"Costa Rica\", \"Bolivia\", \"Uganda\", \"Nepal\", \"Uruguay\", \"Slovenia\", \"Yemen, Rep.\", \"Congo, Dem. Rep.\", \"Macao SAR, China\", \"Bahrain\", \"Afghanistan\", \"Zambia\", \"Cambodia\", \"Luxembourg\", \"Latvia\", \"Senegal\", \"El Salvador\", \"Lao PDR\", \"Honduras\", \"Bosnia and Herzegovina\", \"Estonia\", \"Trinidad and Tobago\", \"Mali\", \"Zimbabwe\", \"Madagascar\", \"Mongolia\", \"Georgia\", \"Botswana\", \"Albania\", \"Mozambique\", \"Gabon\", \"Nicaragua\", \"Burkina Faso\", \"Papua New Guinea\", \"Brunei Darussalam\", \"North Macedonia\", \"Equatorial Guinea\", \"Cyprus\", \"Chad\", \"Congo, Rep.\", \"Guinea\", \"Tajikistan\", \"Armenia\", \"Mauritius\", \"Namibia\", \"Jamaica\", \"Benin\", \"Rwanda\", \"Kyrgyz Republic\", \"West Bank and Gaza\", \"Malawi\", \"Niger\", \"South Sudan\", \"Moldova\", \"Haiti\", \"Kosovo\", \"Malta\", \"Iceland\", \"Mauritania\", \"Togo\", \"Bahamas, The\", \"Montenegro\", \"Eswatini\", \"Sierra Leone\", \"Timor-Leste\", \"Fiji\", \"Suriname\", \"Burundi\", \"Bhutan\", \"Maldives\", \"Lesotho\", \"Guyana\", \"Liberia\", \"Barbados\", \"Aruba\", \"Cabo Verde\", \"Cayman Islands\", \"Gambia, The\", \"Central African Republic\", \"Belize\", \"Guinea-Bissau\", \"Seychelles\", \"St. Lucia\", \"Antigua and Barbuda\", \"Comoros\", \"San Marino\", \"Grenada\", \"St. Kitts and Nevis\", \"Solomon Islands\", \"Sint Maarten (Dutch part)\", \"Samoa\", \"St. Vincent and the Grenadines\", \"Vanuatu\", \"Dominica\", \"S\\u00e3o Tom\\u00e9 and Principe\", \"Tonga\", \"Micronesia, Fed. Sts.\", \"Palau\", \"Kiribati\", \"Marshall Islands\", \"Nauru\", \"Tuvalu\"], \"locations\": [\"CHN\", \"USA\", \"IND\", \"JPN\", \"DEU\", \"RUS\", \"BRA\", \"IDN\", \"GBR\", \"FRA\", \"ITA\", \"MEX\", \"TUR\", \"KOR\", \"ESP\", \"SAU\", \"CAN\", \"IRN\", \"THA\", \"AUS\", \"POL\", \"EGY\", \"NGA\", \"PAK\", \"MYS\", \"NLD\", \"ARG\", \"PHL\", \"ZAF\", \"COL\", \"ARE\", \"VNM\", \"IRQ\", \"BGD\", \"DZA\", \"BEL\", \"CHE\", \"SGP\", \"ROU\", \"SWE\", \"KAZ\", \"AUT\", \"HKG\", \"CHL\", \"PER\", \"CZE\", \"UKR\", \"IRL\", \"QAT\", \"ISR\", \"PRT\", \"MMR\", \"NOR\", \"DNK\", \"GRC\", \"MAR\", \"KWT\", \"HUN\", \"LKA\", \"FIN\", \"UZB\", \"ETH\", \"SDN\", \"AGO\", \"NZL\", \"ECU\", \"OMN\", \"BLR\", \"SVK\", \"DOM\", \"AZE\", \"TZA\", \"KEN\", \"BGR\", \"GTM\", \"TUN\", \"PRI\", \"GHA\", \"LBY\", \"HRV\", \"SRB\", \"TKM\", \"PAN\", \"CIV\", \"LTU\", \"CMR\", \"PRY\", \"JOR\", \"LBN\", \"CRI\", \"BOL\", \"UGA\", \"NPL\", \"URY\", \"SVN\", \"YEM\", \"COD\", \"MAC\", \"BHR\", \"AFG\", \"ZMB\", \"KHM\", \"LUX\", \"LVA\", \"SEN\", \"SLV\", \"LAO\", \"HND\", \"BIH\", \"EST\", \"TTO\", \"MLI\", \"ZWE\", \"MDG\", \"MNG\", \"GEO\", \"BWA\", \"ALB\", \"MOZ\", \"GAB\", \"NIC\", \"BFA\", \"PNG\", \"BRN\", \"MKD\", \"GNQ\", \"CYP\", \"TCD\", \"COG\", \"GIN\", \"TJK\", \"ARM\", \"MUS\", \"NAM\", \"JAM\", \"BEN\", \"RWA\", \"KGZ\", \"PSE\", \"MWI\", \"NER\", \"SSD\", \"MDA\", \"HTI\", \"XKX\", \"MLT\", \"ISL\", \"MRT\", \"TGO\", \"BHS\", \"MNE\", \"SWZ\", \"SLE\", \"TLS\", \"FJI\", \"SUR\", \"BDI\", \"BTN\", \"MDV\", \"LSO\", \"GUY\", \"LBR\", \"BRB\", \"ABW\", \"CPV\", \"CYM\", \"GMB\", \"CAF\", \"BLZ\", \"GNB\", \"SYC\", \"LCA\", \"ATG\", \"COM\", \"SMR\", \"GRD\", \"KNA\", \"SLB\", \"SXM\", \"WSM\", \"VCT\", \"VUT\", \"DMA\", \"STP\", \"TON\", \"FSM\", \"PLW\", \"KIR\", \"MHL\", \"NRU\", \"TUV\"], \"name\": \"\", \"type\": \"choropleth\", \"z\": [16842.407827495048, 59957.726303631, 7168.992389311799, 42066.57311938497, 52574.2634604628, 26181.48340232451, 15662.247981176844, 12279.182000962599, 44896.26440565678, 44191.691363797756, 40923.69804906309, 19311.681984781146, 27878.609786316698, 38902.952812639705, 39037.38302272029, 53631.11019144995, 46719.42651298715, 21011.292728181863, 17865.5474195598, 49378.29903917834, 29923.718412824328, 11742.05260117799, 5887.575345722378, 5249.2082533725425, 30004.088085051717, 54422.035554111026, 20935.860072143343, 8340.22798797991, 13458.963684339971, 14552.13675710055, 73355.86684505433, 6857.981280138887, 17260.58584050007, 3998.419420913656, 15266.495378818405, 49398.083085966806, 66299.64599424503, 94104.63141985936, 26655.70377525426, 51404.80455865746, 26490.848982712723, 53879.33435225152, 61670.792916379185, 24190.329206577062, 13771.527472851436, 38019.5721566354, 8243.512014585398, 76807.40560154496, 124609.31822819487, 38867.70798664111, 32554.29453511063, 6172.3879555392805, 62182.8671312769, 54356.47651856555, 28579.839528450826, 8389.352000520274, 73525.3256885495, 28798.628846892196, 12862.572281290804, 46343.51533909176, 6879.272336562865, 1877.4337870450106, 4880.260392935692, 6650.591137571409, 40747.61676296961, 11501.03354941249, 41068.296064990194, 18895.55817778912, 32371.298006777426, 16451.521435431554, 17449.911117610423, 3000.0234524038583, 3258.2078984421664, 20948.150120400845, 8586.95907571992, 12039.243122128653, 39089.269313977806, 4457.364121475869, 19056.86973044303, 26295.59579016378, 15431.874565758202, 18032.297445372427, 24472.024371458745, 3921.723644948665, 33252.68711707632, 3644.7869406736004, 13002.94070448177, 9100.769564052092, 12958.403657848583, 16956.92525627511, 7480.040390056012, 1945.3645451019513, 2866.53073262349, 22742.522796936315, 36387.6483990422, 2645.31968788303, 888.4532939591072, 115364.16714183606, 47660.2899187055, 1934.6271255551515, 4090.1433561603844, 4016.574248126758, 107640.65895736631, 28361.98055037256, 3554.2282793323548, 8010.178891386232, 6942.292106971991, 4909.951868769298, 13715.837586867121, 33448.10624692573, 31303.284800212703, 2221.7547876303843, 2825.7161310397846, 1558.3558266661557, 12787.355814269415, 10674.344770016341, 17692.396994641582, 12943.29443593553, 1294.7394651409734, 17765.203119105125, 5701.147481031285, 1866.1736053090237, 4114.467964023352, 79790.70518030593, 15298.78059323841, 24549.108915127643, 26238.471449884717, 1930.1750116353228, 5614.4928817998, 2368.0056057825877, 3216.5695900168776, 9620.657910241376, 22356.246535501377, 11042.606706143295, 8970.667130458123, 2276.5579939301333, 2082.3079196560334, 3735.4393210932208, 5148.373497829872, 1269.6474188834798, 1012.8470482452193, 1899.959480362457, 7356.74687259315, 1818.642722342344, 10998.30653549994, 40797.09572029, 55323.23820617356, 4085.1599995703514, 1684.8791481429764, 31579.9675713339, 19354.95273734561, 10525.866568037605, 1544.3822611171818, 7536.631487676361, 9880.80354751618, 15002.734462643033, 737.9682542497366, 10173.451650285419, 14669.562169370793, 3130.89912461055, 8207.981981912255, 1293.4294126103625, 18526.864477541025, 39452.95446348917, 7027.015964740269, 56624.90928023729, 1612.091635823576, 737.3758384413671, 8499.902865856418, 1734.5441775438067, 29329.215487829053, 13821.115747008926, 25150.378303606984, 2750.979245403567, 63051.29042796471, 14737.449717697566, 30454.414449034488, 2333.1939286646393, 34061.22147187855, 6675.130021704411, 11773.061269086837, 3110.223810024167, 10383.72190657449, 3312.5854101376704, 6323.653404968724, 3508.016400649566, 18137.91554357592, 2224.98642232695, 3892.659065072858, 15066.790928859893, 3869.8328935795953]}],                        {\"coloraxis\": {\"colorbar\": {\"title\": {\"text\": \"per capita\"}}, \"colorscale\": [[0.0, \"#0d0887\"], [0.1111111111111111, \"#46039f\"], [0.2222222222222222, \"#7201a8\"], [0.3333333333333333, \"#9c179e\"], [0.4444444444444444, \"#bd3786\"], [0.5555555555555556, \"#d8576b\"], [0.6666666666666666, \"#ed7953\"], [0.7777777777777778, \"#fb9f3a\"], [0.8888888888888888, \"#fdca26\"], [1.0, \"#f0f921\"]]}, \"geo\": {\"center\": {}, \"domain\": {\"x\": [0.0, 1.0], \"y\": [0.0, 1.0]}}, \"legend\": {\"tracegroupgap\": 0}, \"margin\": {\"t\": 60}, \"template\": {\"data\": {\"bar\": [{\"error_x\": {\"color\": \"#2a3f5f\"}, \"error_y\": {\"color\": \"#2a3f5f\"}, \"marker\": {\"line\": {\"color\": \"#E5ECF6\", \"width\": 0.5}}, \"type\": \"bar\"}], \"barpolar\": [{\"marker\": {\"line\": {\"color\": \"#E5ECF6\", \"width\": 0.5}}, \"type\": \"barpolar\"}], \"carpet\": [{\"aaxis\": {\"endlinecolor\": \"#2a3f5f\", \"gridcolor\": \"white\", \"linecolor\": \"white\", \"minorgridcolor\": \"white\", \"startlinecolor\": \"#2a3f5f\"}, \"baxis\": {\"endlinecolor\": \"#2a3f5f\", \"gridcolor\": \"white\", \"linecolor\": \"white\", \"minorgridcolor\": \"white\", \"startlinecolor\": \"#2a3f5f\"}, \"type\": \"carpet\"}], \"choropleth\": [{\"colorbar\": {\"outlinewidth\": 0, \"ticks\": \"\"}, \"type\": \"choropleth\"}], \"contour\": [{\"colorbar\": {\"outlinewidth\": 0, \"ticks\": \"\"}, \"colorscale\": [[0.0, \"#0d0887\"], [0.1111111111111111, \"#46039f\"], [0.2222222222222222, \"#7201a8\"], [0.3333333333333333, \"#9c179e\"], [0.4444444444444444, \"#bd3786\"], [0.5555555555555556, \"#d8576b\"], [0.6666666666666666, \"#ed7953\"], [0.7777777777777778, \"#fb9f3a\"], [0.8888888888888888, \"#fdca26\"], [1.0, \"#f0f921\"]], \"type\": \"contour\"}], \"contourcarpet\": [{\"colorbar\": {\"outlinewidth\": 0, \"ticks\": \"\"}, \"type\": \"contourcarpet\"}], \"heatmap\": [{\"colorbar\": {\"outlinewidth\": 0, \"ticks\": \"\"}, \"colorscale\": [[0.0, \"#0d0887\"], [0.1111111111111111, \"#46039f\"], [0.2222222222222222, \"#7201a8\"], [0.3333333333333333, \"#9c179e\"], [0.4444444444444444, \"#bd3786\"], [0.5555555555555556, \"#d8576b\"], [0.6666666666666666, \"#ed7953\"], [0.7777777777777778, \"#fb9f3a\"], [0.8888888888888888, \"#fdca26\"], [1.0, \"#f0f921\"]], \"type\": \"heatmap\"}], \"heatmapgl\": [{\"colorbar\": {\"outlinewidth\": 0, \"ticks\": \"\"}, \"colorscale\": [[0.0, \"#0d0887\"], [0.1111111111111111, \"#46039f\"], [0.2222222222222222, \"#7201a8\"], [0.3333333333333333, \"#9c179e\"], [0.4444444444444444, \"#bd3786\"], [0.5555555555555556, \"#d8576b\"], [0.6666666666666666, \"#ed7953\"], [0.7777777777777778, \"#fb9f3a\"], [0.8888888888888888, \"#fdca26\"], [1.0, \"#f0f921\"]], \"type\": \"heatmapgl\"}], \"histogram\": [{\"marker\": {\"colorbar\": {\"outlinewidth\": 0, \"ticks\": \"\"}}, \"type\": \"histogram\"}], \"histogram2d\": [{\"colorbar\": {\"outlinewidth\": 0, \"ticks\": \"\"}, \"colorscale\": [[0.0, \"#0d0887\"], [0.1111111111111111, \"#46039f\"], [0.2222222222222222, \"#7201a8\"], [0.3333333333333333, \"#9c179e\"], [0.4444444444444444, \"#bd3786\"], [0.5555555555555556, \"#d8576b\"], [0.6666666666666666, \"#ed7953\"], [0.7777777777777778, \"#fb9f3a\"], [0.8888888888888888, \"#fdca26\"], [1.0, \"#f0f921\"]], \"type\": \"histogram2d\"}], \"histogram2dcontour\": [{\"colorbar\": {\"outlinewidth\": 0, \"ticks\": \"\"}, \"colorscale\": [[0.0, \"#0d0887\"], [0.1111111111111111, \"#46039f\"], [0.2222222222222222, \"#7201a8\"], [0.3333333333333333, \"#9c179e\"], [0.4444444444444444, \"#bd3786\"], [0.5555555555555556, \"#d8576b\"], [0.6666666666666666, \"#ed7953\"], [0.7777777777777778, \"#fb9f3a\"], [0.8888888888888888, \"#fdca26\"], [1.0, \"#f0f921\"]], \"type\": \"histogram2dcontour\"}], \"mesh3d\": [{\"colorbar\": {\"outlinewidth\": 0, \"ticks\": \"\"}, \"type\": \"mesh3d\"}], \"parcoords\": [{\"line\": {\"colorbar\": {\"outlinewidth\": 0, \"ticks\": \"\"}}, \"type\": \"parcoords\"}], \"pie\": [{\"automargin\": true, \"type\": \"pie\"}], \"scatter\": [{\"marker\": {\"colorbar\": {\"outlinewidth\": 0, \"ticks\": \"\"}}, \"type\": \"scatter\"}], \"scatter3d\": [{\"line\": {\"colorbar\": {\"outlinewidth\": 0, \"ticks\": \"\"}}, \"marker\": {\"colorbar\": {\"outlinewidth\": 0, \"ticks\": \"\"}}, \"type\": \"scatter3d\"}], \"scattercarpet\": [{\"marker\": {\"colorbar\": {\"outlinewidth\": 0, \"ticks\": \"\"}}, \"type\": \"scattercarpet\"}], \"scattergeo\": [{\"marker\": {\"colorbar\": {\"outlinewidth\": 0, \"ticks\": \"\"}}, \"type\": \"scattergeo\"}], \"scattergl\": [{\"marker\": {\"colorbar\": {\"outlinewidth\": 0, \"ticks\": \"\"}}, \"type\": \"scattergl\"}], \"scattermapbox\": [{\"marker\": {\"colorbar\": {\"outlinewidth\": 0, \"ticks\": \"\"}}, \"type\": \"scattermapbox\"}], \"scatterpolar\": [{\"marker\": {\"colorbar\": {\"outlinewidth\": 0, \"ticks\": \"\"}}, \"type\": \"scatterpolar\"}], \"scatterpolargl\": [{\"marker\": {\"colorbar\": {\"outlinewidth\": 0, \"ticks\": \"\"}}, \"type\": \"scatterpolargl\"}], \"scatterternary\": [{\"marker\": {\"colorbar\": {\"outlinewidth\": 0, \"ticks\": \"\"}}, \"type\": \"scatterternary\"}], \"surface\": [{\"colorbar\": {\"outlinewidth\": 0, \"ticks\": \"\"}, \"colorscale\": [[0.0, \"#0d0887\"], [0.1111111111111111, \"#46039f\"], [0.2222222222222222, \"#7201a8\"], [0.3333333333333333, \"#9c179e\"], [0.4444444444444444, \"#bd3786\"], [0.5555555555555556, \"#d8576b\"], [0.6666666666666666, \"#ed7953\"], [0.7777777777777778, \"#fb9f3a\"], [0.8888888888888888, \"#fdca26\"], [1.0, \"#f0f921\"]], \"type\": \"surface\"}], \"table\": [{\"cells\": {\"fill\": {\"color\": \"#EBF0F8\"}, \"line\": {\"color\": \"white\"}}, \"header\": {\"fill\": {\"color\": \"#C8D4E3\"}, \"line\": {\"color\": \"white\"}}, \"type\": \"table\"}]}, \"layout\": {\"annotationdefaults\": {\"arrowcolor\": \"#2a3f5f\", \"arrowhead\": 0, \"arrowwidth\": 1}, \"coloraxis\": {\"colorbar\": {\"outlinewidth\": 0, \"ticks\": \"\"}}, \"colorscale\": {\"diverging\": [[0, \"#8e0152\"], [0.1, \"#c51b7d\"], [0.2, \"#de77ae\"], [0.3, \"#f1b6da\"], [0.4, \"#fde0ef\"], [0.5, \"#f7f7f7\"], [0.6, \"#e6f5d0\"], [0.7, \"#b8e186\"], [0.8, \"#7fbc41\"], [0.9, \"#4d9221\"], [1, \"#276419\"]], \"sequential\": [[0.0, \"#0d0887\"], [0.1111111111111111, \"#46039f\"], [0.2222222222222222, \"#7201a8\"], [0.3333333333333333, \"#9c179e\"], [0.4444444444444444, \"#bd3786\"], [0.5555555555555556, \"#d8576b\"], [0.6666666666666666, \"#ed7953\"], [0.7777777777777778, \"#fb9f3a\"], [0.8888888888888888, \"#fdca26\"], [1.0, \"#f0f921\"]], \"sequentialminus\": [[0.0, \"#0d0887\"], [0.1111111111111111, \"#46039f\"], [0.2222222222222222, \"#7201a8\"], [0.3333333333333333, \"#9c179e\"], [0.4444444444444444, \"#bd3786\"], [0.5555555555555556, \"#d8576b\"], [0.6666666666666666, \"#ed7953\"], [0.7777777777777778, \"#fb9f3a\"], [0.8888888888888888, \"#fdca26\"], [1.0, \"#f0f921\"]]}, \"colorway\": [\"#636efa\", \"#EF553B\", \"#00cc96\", \"#ab63fa\", \"#FFA15A\", \"#19d3f3\", \"#FF6692\", \"#B6E880\", \"#FF97FF\", \"#FECB52\"], \"font\": {\"color\": \"#2a3f5f\"}, \"geo\": {\"bgcolor\": \"white\", \"lakecolor\": \"white\", \"landcolor\": \"#E5ECF6\", \"showlakes\": true, \"showland\": true, \"subunitcolor\": \"white\"}, \"hoverlabel\": {\"align\": \"left\"}, \"hovermode\": \"closest\", \"mapbox\": {\"style\": \"light\"}, \"paper_bgcolor\": \"white\", \"plot_bgcolor\": \"#E5ECF6\", \"polar\": {\"angularaxis\": {\"gridcolor\": \"white\", \"linecolor\": \"white\", \"ticks\": \"\"}, \"bgcolor\": \"#E5ECF6\", \"radialaxis\": {\"gridcolor\": \"white\", \"linecolor\": \"white\", \"ticks\": \"\"}}, \"scene\": {\"xaxis\": {\"backgroundcolor\": \"#E5ECF6\", \"gridcolor\": \"white\", \"gridwidth\": 2, \"linecolor\": \"white\", \"showbackground\": true, \"ticks\": \"\", \"zerolinecolor\": \"white\"}, \"yaxis\": {\"backgroundcolor\": \"#E5ECF6\", \"gridcolor\": \"white\", \"gridwidth\": 2, \"linecolor\": \"white\", \"showbackground\": true, \"ticks\": \"\", \"zerolinecolor\": \"white\"}, \"zaxis\": {\"backgroundcolor\": \"#E5ECF6\", \"gridcolor\": \"white\", \"gridwidth\": 2, \"linecolor\": \"white\", \"showbackground\": true, \"ticks\": \"\", \"zerolinecolor\": \"white\"}}, \"shapedefaults\": {\"line\": {\"color\": \"#2a3f5f\"}}, \"ternary\": {\"aaxis\": {\"gridcolor\": \"white\", \"linecolor\": \"white\", \"ticks\": \"\"}, \"baxis\": {\"gridcolor\": \"white\", \"linecolor\": \"white\", \"ticks\": \"\"}, \"bgcolor\": \"#E5ECF6\", \"caxis\": {\"gridcolor\": \"white\", \"linecolor\": \"white\", \"ticks\": \"\"}}, \"title\": {\"x\": 0.05}, \"xaxis\": {\"automargin\": true, \"gridcolor\": \"white\", \"linecolor\": \"white\", \"ticks\": \"\", \"title\": {\"standoff\": 15}, \"zerolinecolor\": \"white\", \"zerolinewidth\": 2}, \"yaxis\": {\"automargin\": true, \"gridcolor\": \"white\", \"linecolor\": \"white\", \"ticks\": \"\", \"title\": {\"standoff\": 15}, \"zerolinecolor\": \"white\", \"zerolinewidth\": 2}}}},                        {\"responsive\": true}                    ).then(function(){\n",
       "                            \n",
       "var gd = document.getElementById('bbcb675f-e2c1-4999-ae4c-813f7c57d827');\n",
       "var x = new MutationObserver(function (mutations, observer) {{\n",
       "        var display = window.getComputedStyle(gd).display;\n",
       "        if (!display || display === 'none') {{\n",
       "            console.log([gd, 'removed!']);\n",
       "            Plotly.purge(gd);\n",
       "            observer.disconnect();\n",
       "        }}\n",
       "}});\n",
       "\n",
       "// Listen for the removal of the full notebook cells\n",
       "var notebookContainer = gd.closest('#notebook-container');\n",
       "if (notebookContainer) {{\n",
       "    x.observe(notebookContainer, {childList: true});\n",
       "}}\n",
       "\n",
       "// Listen for the clearing of the current output cell\n",
       "var outputEl = gd.closest('.output');\n",
       "if (outputEl) {{\n",
       "    x.observe(outputEl, {childList: true});\n",
       "}}\n",
       "\n",
       "                        })                };                });            </script>        </div>"
      ]
     },
     "metadata": {},
     "output_type": "display_data"
    }
   ],
   "source": [
    "# world heat map for GDP per capita using plotly\n",
    "import plotly.express as px\n",
    "fig = px.choropleth(gdp_per_capita, locations='Country Code', \n",
    "                        color='per capita',\n",
    "                        hover_name=\"country_name\", # column to add to hover information\n",
    "                        color_continuous_scale=px.colors.sequential.Plasma)\n",
    "fig.show()\n"
   ]
  },
  {
   "cell_type": "code",
   "execution_count": null,
   "metadata": {},
   "outputs": [],
   "source": [
    "# world heat map for GDP using plotly\n",
    "import plotly.express as px\n",
    "fig = px.choropleth(gdp_per_capita, locations='Country Code', \n",
    "                        color='gdp',\n",
    "                        hover_name=\"country_name\", # column to add to hover information\n",
    "                        color_continuous_scale=px.colors.sequential.Plasma)\n",
    "fig.show()"
   ]
  }
 ],
 "metadata": {
  "kernelspec": {
   "display_name": "Python 3",
   "language": "python",
   "name": "python3"
  },
  "language_info": {
   "codemirror_mode": {
    "name": "ipython",
    "version": 3
   },
   "file_extension": ".py",
   "mimetype": "text/x-python",
   "name": "python",
   "nbconvert_exporter": "python",
   "pygments_lexer": "ipython3",
   "version": "3.6.10"
  }
 },
 "nbformat": 4,
 "nbformat_minor": 4
}
